{
 "cells": [
  {
   "cell_type": "markdown",
   "metadata": {},
   "source": [
    "The goal of this notebook is to make some qualitative conclusion about the nature of errors our model makes. \n",
    "\n",
    "Findings:\n",
    "- The vocabulary of false negatives (527 unique tokens) is more various than that of false positives (275 unique tokens), while their volume is comparable (860 vs 813 tokens). It may indicate that the model is \"cautious\" and prefers to highlight sure options, while human annotators are more creative in their analysis. \n",
    "- The most frequent false positive words characterize incompetence or lack of mental capacities: \"stipid\", \"idiot\", \"ignorant\", \"moron\", \"dumb\", etc. Other frequent false positives are derogatory (\"pathetic\", \"ridiculous\", \"ass\", \"garbage\", \"loser\", etc.), denounce particular misdeeds (\"liar\", \"troll\", \"racist\", \"hypocrite\", etc.), or express general negativity (\"damn\", \"fuck\", etc.). It's not obvious why human annotators label them as toxic in some cases, and as non-toxic in other cases. We suspect that inter-annotator agreement on such words is low. \n",
    "- The most frequent false negative words are mostly function words: \"and\", \"the\", \"are\", \"a\", \"you\" etc. It happens because annotators sometimes label the whole text or a large chunk of it as toxic. The more meaningful false negatives belong to the same classes as the false positives (\"ignorant\", \"racist\", \"loser\", etc.). \n"
   ]
  },
  {
   "cell_type": "code",
   "execution_count": 2,
   "metadata": {},
   "outputs": [],
   "source": [
    "import os\n",
    "import numpy as np\n",
    "import pandas as pd\n",
    "from ast import literal_eval\n",
    "import re\n",
    "import nltk\n",
    "import matplotlib.pyplot as plt\n",
    "from nltk.tokenize import word_tokenize\n",
    "\n",
    "path = 'data/'"
   ]
  },
  {
   "cell_type": "code",
   "execution_count": 3,
   "metadata": {},
   "outputs": [
    {
     "data": {
      "text/plain": [
       "((690, 2), (7939, 2), (2000, 2))"
      ]
     },
     "execution_count": 3,
     "metadata": {},
     "output_type": "execute_result"
    }
   ],
   "source": [
    "trial = pd.read_csv(path + 'tsd_trial.csv')\n",
    "train = pd.read_csv(path + 'tsd_train.csv')\n",
    "final_test = pd.read_csv(path + 'tsd_test_gt.csv')\n",
    "\n",
    "train['spans'] = train.spans.apply(literal_eval)\n",
    "trial['spans'] = trial.spans.apply(literal_eval)\n",
    "final_test['spans'] = final_test.spans.apply(literal_eval)\n",
    "trial.shape, train.shape, final_test.shape"
   ]
  },
  {
   "cell_type": "code",
   "execution_count": 4,
   "metadata": {},
   "outputs": [
    {
     "data": {
      "text/plain": [
       "(2000, 2)"
      ]
     },
     "execution_count": 4,
     "metadata": {},
     "output_type": "execute_result"
    }
   ],
   "source": [
    "final_pred = pd.read_csv('results/spans-pred-best-sk.txt', sep='\\t', header=None)\n",
    "final_pred.columns = ['idx', 'spans']\n",
    "final_pred['spans'] = final_pred.spans.apply(literal_eval)\n",
    "final_pred.shape"
   ]
  },
  {
   "cell_type": "code",
   "execution_count": 5,
   "metadata": {},
   "outputs": [],
   "source": [
    "final_test['pred_spans'] = final_pred.spans"
   ]
  },
  {
   "cell_type": "markdown",
   "metadata": {},
   "source": [
    "This is the document accuracy"
   ]
  },
  {
   "cell_type": "code",
   "execution_count": 6,
   "metadata": {},
   "outputs": [
    {
     "name": "stdout",
     "output_type": "stream",
     "text": [
      "0.544\n"
     ]
    }
   ],
   "source": [
    "print((final_pred.spans == final_test.spans).mean())"
   ]
  },
  {
   "cell_type": "code",
   "execution_count": 7,
   "metadata": {},
   "outputs": [],
   "source": [
    "import numpy as np\n",
    "from semeval2021 import f1"
   ]
  },
  {
   "cell_type": "code",
   "execution_count": 8,
   "metadata": {},
   "outputs": [],
   "source": [
    "import spans_utils\n",
    "from importlib import reload\n",
    "reload(spans_utils)\n",
    "from spans_utils import display_spans, spans2labels, labels2spans"
   ]
  },
  {
   "cell_type": "code",
   "execution_count": 9,
   "metadata": {},
   "outputs": [
    {
     "name": "stdout",
     "output_type": "stream",
     "text": [
      "0.6832488454134622\n"
     ]
    }
   ],
   "source": [
    "print(np.mean([f1(p, y) for p, y in zip(final_pred.spans, final_test.spans)]))"
   ]
  },
  {
   "cell_type": "markdown",
   "metadata": {},
   "source": [
    "- ABNORMAL\n",
    "+ bigot\n",
    "+ ignorant \n",
    "+ ignorant \n",
    "- dishonest people\n",
    "- dump  # Perhaps we should dump you in Mexico along with all the illegal trash you let in\n",
    "- trash \n",
    "+ morons\n",
    "- Trump  # Trump troll...\n",
    "- Bunch of  # Bunch of cowards\n",
    "- anti-Canadian # Rabidly anti-Canadian troll. \n",
    "+ troll \n",
    "+ moron \n",
    "+ ass  # Chris Birch is a mean, self-centered, contrary ass.\n",
    "+ dirty # I always knew you were a dirty cop.\n",
    "- benighted \n",
    "~ simpleton -> ton  # poor decoding\n",
    "- racist, misgynistic\n",
    "+ liar # a racist, misgynistic, liar\n",
    "~ amok -> am # poor decoding\n",
    "- Total # Total rubbish\n",
    "+ damn \n",
    "- dumb \n",
    "- ignorant blockheads\n",
    "+ lying  # weak, lying, racist whiners\n",
    "- whiners\n",
    "~ PATHETIC LIB LOSER -> ET LOS\n",
    "~ dopey -> pey"
   ]
  },
  {
   "cell_type": "code",
   "execution_count": 10,
   "metadata": {},
   "outputs": [
    {
     "data": {
      "text/html": [
       "That's right. They are not normal. And I am starting from the premise that they are <b>ABNORMAL</b>. Proceed wth the typical racist, bigot, <b>sexist rubbish</b>.\n",
       "Thanks!"
      ],
      "text/plain": [
       "<IPython.core.display.HTML object>"
      ]
     },
     "metadata": {},
     "output_type": "display_data"
    },
    {
     "data": {
      "text/html": [
       "That's right. They are not normal. And I am starting from the premise that they are ABNORMAL. Proceed wth the typical racist, <b>bigot</b>, <b>sexist rubbish</b>.\n",
       "Thanks!"
      ],
      "text/plain": [
       "<IPython.core.display.HTML object>"
      ]
     },
     "metadata": {},
     "output_type": "display_data"
    },
    {
     "name": "stdout",
     "output_type": "stream",
     "text": [
      "\n"
     ]
    },
    {
     "data": {
      "text/html": [
       "tens years ago i contacted the PDR and suggested that the time might be good to work with alaska on building a gas line.. alaska rejected them without even consideration despite china being flush with cash and hungry for gas.. and set up another infamous boondoggle.. the transcanada-exxon rip off that we are still paying for and have yet to receive anything of value.. hundreds of millions of dollars on studies.. and buyouts.. i hope china says f you alaska.. you are nothing but ignorant people.."
      ],
      "text/plain": [
       "<IPython.core.display.HTML object>"
      ]
     },
     "metadata": {},
     "output_type": "display_data"
    },
    {
     "data": {
      "text/html": [
       "tens years ago i contacted the PDR and suggested that the time might be good to work with alaska on building a gas line.. alaska rejected them without even consideration despite china being flush with cash and hungry for gas.. and set up another infamous boondoggle.. the transcanada-exxon rip off that we are still paying for and have yet to receive anything of value.. hundreds of millions of dollars on studies.. and buyouts.. i hope china says f you alaska.. you are nothing but <b>ignorant</b> people.."
      ],
      "text/plain": [
       "<IPython.core.display.HTML object>"
      ]
     },
     "metadata": {},
     "output_type": "display_data"
    },
    {
     "name": "stdout",
     "output_type": "stream",
     "text": [
      "\n"
     ]
    },
    {
     "data": {
      "text/html": [
       "The parallels between the ANC and the Sicilian Mafia are glaring. The ANC has always been run by a few \"families\" who treat the state as 'turf' ; as just one big piggy bank for their self-enrichment. The government basically believes we all just work for them. They aren't a democratic government at all, but use the appearances of democracy to give their entitlement practices a mask of legitimacy. The poor and ignorant have been fooled for so long, but people are slowly coming to the ANC for what it is: a self-serving Mafia!"
      ],
      "text/plain": [
       "<IPython.core.display.HTML object>"
      ]
     },
     "metadata": {},
     "output_type": "display_data"
    },
    {
     "data": {
      "text/html": [
       "The parallels between the ANC and the Sicilian Mafia are glaring. The ANC has always been run by a few \"families\" who treat the state as 'turf' ; as just one big piggy bank for their self-enrichment. The government basically believes we all just work for them. They aren't a democratic government at all, but use the appearances of democracy to give their entitlement practices a mask of legitimacy. The poor and <b>ignorant</b> have been fooled for so long, but people are slowly coming to the ANC for what it is: a self-serving Mafia!"
      ],
      "text/plain": [
       "<IPython.core.display.HTML object>"
      ]
     },
     "metadata": {},
     "output_type": "display_data"
    },
    {
     "name": "stdout",
     "output_type": "stream",
     "text": [
      "\n"
     ]
    },
    {
     "data": {
      "text/html": [
       "A rock has more mental horsepower than the indubitably <b>ignorant</b>. And more integrity as well. They're largely very <b>dishonest people</b> who repeat the same lies over and over. Just like their 🍊 hero."
      ],
      "text/plain": [
       "<IPython.core.display.HTML object>"
      ]
     },
     "metadata": {},
     "output_type": "display_data"
    },
    {
     "data": {
      "text/html": [
       "A rock has more mental horsepower than the indubitably <b>ignorant</b>. And more integrity as well. They're largely very dishonest people who repeat the same lies over and over. Just like their 🍊 hero."
      ],
      "text/plain": [
       "<IPython.core.display.HTML object>"
      ]
     },
     "metadata": {},
     "output_type": "display_data"
    },
    {
     "name": "stdout",
     "output_type": "stream",
     "text": [
      "\n"
     ]
    },
    {
     "data": {
      "text/html": [
       "Ha ha, HILLARY LOST. All you hillary <b>fools</b> need to be rounded up and put in prison along with your leader. You are all anti--American scum. Perhaps we should <b>dump</b> you in Mexico along with all the illegal <b>trash</b> you let in....if you love 'em so much, go live with 'em. But you are not welcome here, you hate filled Marxist morons."
      ],
      "text/plain": [
       "<IPython.core.display.HTML object>"
      ]
     },
     "metadata": {},
     "output_type": "display_data"
    },
    {
     "data": {
      "text/html": [
       "Ha ha, HILLARY LOST. All you hillary <b>fools</b> need to be rounded up and put in prison along with your leader. You are all anti--American scum. Perhaps we should dump you in Mexico along with all the illegal trash you let in....if you love 'em so much, go live with 'em. But you are not welcome here, you hate filled Marxist <b>mor</b>ons."
      ],
      "text/plain": [
       "<IPython.core.display.HTML object>"
      ]
     },
     "metadata": {},
     "output_type": "display_data"
    },
    {
     "name": "stdout",
     "output_type": "stream",
     "text": [
      "\n"
     ]
    },
    {
     "data": {
      "text/html": [
       "<b>Trump troll</b>..."
      ],
      "text/plain": [
       "<IPython.core.display.HTML object>"
      ]
     },
     "metadata": {},
     "output_type": "display_data"
    },
    {
     "data": {
      "text/html": [
       "Trump <b>troll</b>..."
      ],
      "text/plain": [
       "<IPython.core.display.HTML object>"
      ]
     },
     "metadata": {},
     "output_type": "display_data"
    },
    {
     "name": "stdout",
     "output_type": "stream",
     "text": [
      "\n"
     ]
    },
    {
     "data": {
      "text/html": [
       "ADN is endorsing, without officially endorsing.  <b>Bunch of cowards</b>!!!"
      ],
      "text/plain": [
       "<IPython.core.display.HTML object>"
      ]
     },
     "metadata": {},
     "output_type": "display_data"
    },
    {
     "data": {
      "text/html": [
       "ADN is endorsing, without officially endorsing.  Bunch of <b>cowards</b>!!!"
      ],
      "text/plain": [
       "<IPython.core.display.HTML object>"
      ]
     },
     "metadata": {},
     "output_type": "display_data"
    },
    {
     "name": "stdout",
     "output_type": "stream",
     "text": [
      "\n"
     ]
    },
    {
     "data": {
      "text/html": [
       "Rabidly <b>anti-Canadian</b> troll."
      ],
      "text/plain": [
       "<IPython.core.display.HTML object>"
      ]
     },
     "metadata": {},
     "output_type": "display_data"
    },
    {
     "data": {
      "text/html": [
       "Rabidly anti-Canadian <b>troll</b>."
      ],
      "text/plain": [
       "<IPython.core.display.HTML object>"
      ]
     },
     "metadata": {},
     "output_type": "display_data"
    },
    {
     "name": "stdout",
     "output_type": "stream",
     "text": [
      "\n"
     ]
    },
    {
     "data": {
      "text/html": [
       "I wish this moron would have been shot to death by the US soldier instead of the other way around. I hope that 10 million is given to the soldier's family who actually deserve it."
      ],
      "text/plain": [
       "<IPython.core.display.HTML object>"
      ]
     },
     "metadata": {},
     "output_type": "display_data"
    },
    {
     "data": {
      "text/html": [
       "I wish this <b>moron</b> would have been shot to death by the US soldier instead of the other way around. I hope that 10 million is given to the soldier's family who actually deserve it."
      ],
      "text/plain": [
       "<IPython.core.display.HTML object>"
      ]
     },
     "metadata": {},
     "output_type": "display_data"
    },
    {
     "name": "stdout",
     "output_type": "stream",
     "text": [
      "\n"
     ]
    },
    {
     "data": {
      "text/html": [
       "Chris Birch is a mean, self-centered, contrary ass. He repeatedly interrupted Robin Brena during his presentation and always, always sucks up to Big Oil. He could care less about his constituents and the rest of Alaska. He needs to get gone. What has he done for you, South Anchorage? Sarcastic is the perfect adjective for Chris Birch!"
      ],
      "text/plain": [
       "<IPython.core.display.HTML object>"
      ]
     },
     "metadata": {},
     "output_type": "display_data"
    },
    {
     "data": {
      "text/html": [
       "Chris Birch is a mean, self-centered, contrary <b>ass</b>. He repeatedly interrupted Robin Brena during his presentation and always, always sucks up to Big Oil. He could care less about his constituents and the rest of Alaska. He needs to get gone. What has he done for you, South Anchorage? Sarcastic is the perfect adjective for Chris Birch!"
      ],
      "text/plain": [
       "<IPython.core.display.HTML object>"
      ]
     },
     "metadata": {},
     "output_type": "display_data"
    },
    {
     "name": "stdout",
     "output_type": "stream",
     "text": [
      "\n"
     ]
    },
    {
     "data": {
      "text/html": [
       "I always knew you were a dirty cop."
      ],
      "text/plain": [
       "<IPython.core.display.HTML object>"
      ]
     },
     "metadata": {},
     "output_type": "display_data"
    },
    {
     "data": {
      "text/html": [
       "I always knew you were a <b>dirty</b> cop."
      ],
      "text/plain": [
       "<IPython.core.display.HTML object>"
      ]
     },
     "metadata": {},
     "output_type": "display_data"
    },
    {
     "name": "stdout",
     "output_type": "stream",
     "text": [
      "\n"
     ]
    },
    {
     "data": {
      "text/html": [
       "No, my poor <b>benighted</b> correspondent, your reductionism reveals an archaic mindset. Intersex, questioning, nongendered, and a vast variety of others have rights too!"
      ],
      "text/plain": [
       "<IPython.core.display.HTML object>"
      ]
     },
     "metadata": {},
     "output_type": "display_data"
    },
    {
     "data": {
      "text/html": [
       "No, my poor benighted correspondent, your reductionism reveals an archaic mindset. Intersex, questioning, nongendered, and a vast variety of others have rights too!"
      ],
      "text/plain": [
       "<IPython.core.display.HTML object>"
      ]
     },
     "metadata": {},
     "output_type": "display_data"
    },
    {
     "name": "stdout",
     "output_type": "stream",
     "text": [
      "\n"
     ]
    },
    {
     "data": {
      "text/html": [
       "You are a <b>simpleton</b>, who is full of racial hatred.  That is too bad.  You make America a worse place."
      ],
      "text/plain": [
       "<IPython.core.display.HTML object>"
      ]
     },
     "metadata": {},
     "output_type": "display_data"
    },
    {
     "data": {
      "text/html": [
       "You are a simple<b>ton</b>, who is full of racial hatred.  That is too bad.  You make America a worse place."
      ],
      "text/plain": [
       "<IPython.core.display.HTML object>"
      ]
     },
     "metadata": {},
     "output_type": "display_data"
    },
    {
     "name": "stdout",
     "output_type": "stream",
     "text": [
      "\n"
     ]
    },
    {
     "data": {
      "text/html": [
       "When you consider the source - he writes like the Trump we've all come to know -  \"I could stand in the middle of 5th Avenue and shoot somebody and I wouldn't lose voters\", a <b>racist</b>, \n",
       "<b>misgynistic</b>, liar who only brings hate to the table."
      ],
      "text/plain": [
       "<IPython.core.display.HTML object>"
      ]
     },
     "metadata": {},
     "output_type": "display_data"
    },
    {
     "data": {
      "text/html": [
       "When you consider the source - he writes like the Trump we've all come to know -  \"I could stand in the middle of 5th Avenue and shoot somebody and I wouldn't lose voters\", a racist, \n",
       "misgynistic, <b>liar</b> who only brings hate to the table."
      ],
      "text/plain": [
       "<IPython.core.display.HTML object>"
      ]
     },
     "metadata": {},
     "output_type": "display_data"
    },
    {
     "name": "stdout",
     "output_type": "stream",
     "text": [
      "\n"
     ]
    },
    {
     "data": {
      "text/html": [
       "Lord have Mercy on us, Trump is running <b>amok</b>."
      ],
      "text/plain": [
       "<IPython.core.display.HTML object>"
      ]
     },
     "metadata": {},
     "output_type": "display_data"
    },
    {
     "data": {
      "text/html": [
       "Lord have Mercy on us, Trump is running <b>am</b>ok."
      ],
      "text/plain": [
       "<IPython.core.display.HTML object>"
      ]
     },
     "metadata": {},
     "output_type": "display_data"
    },
    {
     "name": "stdout",
     "output_type": "stream",
     "text": [
      "\n"
     ]
    },
    {
     "data": {
      "text/html": [
       "<b>Total rubbish</b>! The birther bit was started by Crooked Hillary and perpetuated by Zero his own damn self."
      ],
      "text/plain": [
       "<IPython.core.display.HTML object>"
      ]
     },
     "metadata": {},
     "output_type": "display_data"
    },
    {
     "data": {
      "text/html": [
       "Total <b>rubbish</b>! The birther bit was started by Crooked Hillary and perpetuated by Zero his own <b>damn</b> self."
      ],
      "text/plain": [
       "<IPython.core.display.HTML object>"
      ]
     },
     "metadata": {},
     "output_type": "display_data"
    },
    {
     "name": "stdout",
     "output_type": "stream",
     "text": [
      "\n"
     ]
    },
    {
     "data": {
      "text/html": [
       "Just kind of funny the way liberals who like to carry on about how educated and sophisticated and global they are and how the rest of us are just a bunch of <b>dumb</b> parochial hicks always end up unmasking themselves as <b>ignorant blockheads</b>."
      ],
      "text/plain": [
       "<IPython.core.display.HTML object>"
      ]
     },
     "metadata": {},
     "output_type": "display_data"
    },
    {
     "data": {
      "text/html": [
       "Just kind of funny the way liberals who like to carry on about how educated and sophisticated and global they are and how the rest of us are just a bunch of dumb parochial hicks always end up unmasking themselves as ignorant blockheads."
      ],
      "text/plain": [
       "<IPython.core.display.HTML object>"
      ]
     },
     "metadata": {},
     "output_type": "display_data"
    },
    {
     "name": "stdout",
     "output_type": "stream",
     "text": [
      "\n"
     ]
    },
    {
     "data": {
      "text/html": [
       "People who are anti-immigration are weak, lying, <b>racist whiners</b>."
      ],
      "text/plain": [
       "<IPython.core.display.HTML object>"
      ]
     },
     "metadata": {},
     "output_type": "display_data"
    },
    {
     "data": {
      "text/html": [
       "People who are anti-immigration are weak, <b>lying</b>, <b>racist</b> whiners."
      ],
      "text/plain": [
       "<IPython.core.display.HTML object>"
      ]
     },
     "metadata": {},
     "output_type": "display_data"
    },
    {
     "name": "stdout",
     "output_type": "stream",
     "text": [
      "\n"
     ]
    },
    {
     "data": {
      "text/html": [
       "Your the SAD, <b>PATHETIC LIB LOSER</b>, go AWAY"
      ],
      "text/plain": [
       "<IPython.core.display.HTML object>"
      ]
     },
     "metadata": {},
     "output_type": "display_data"
    },
    {
     "data": {
      "text/html": [
       "Your the SAD, PATH<b>ET</b>IC LIB <b>LOS</b>ER, go AWAY"
      ],
      "text/plain": [
       "<IPython.core.display.HTML object>"
      ]
     },
     "metadata": {},
     "output_type": "display_data"
    },
    {
     "name": "stdout",
     "output_type": "stream",
     "text": [
      "\n"
     ]
    },
    {
     "data": {
      "text/html": [
       "Some people don’t need dope to be <b>dopey</b>."
      ],
      "text/plain": [
       "<IPython.core.display.HTML object>"
      ]
     },
     "metadata": {},
     "output_type": "display_data"
    },
    {
     "data": {
      "text/html": [
       "Some people don’t need dope to be do<b>pey."
      ],
      "text/plain": [
       "<IPython.core.display.HTML object>"
      ]
     },
     "metadata": {},
     "output_type": "display_data"
    },
    {
     "name": "stdout",
     "output_type": "stream",
     "text": [
      "\n"
     ]
    }
   ],
   "source": [
    "total = 0\n",
    "for i, row in final_test.iterrows():\n",
    "    if row.spans != row.pred_spans:\n",
    "        display_spans(row.spans, row.text)\n",
    "        display_spans(row.pred_spans, row.text)\n",
    "        print()\n",
    "        total += 1\n",
    "        if total >= 20:\n",
    "            break"
   ]
  },
  {
   "cell_type": "code",
   "execution_count": 11,
   "metadata": {},
   "outputs": [
    {
     "data": {
      "text/plain": [
       "['cd', 'fgh']"
      ]
     },
     "execution_count": 11,
     "metadata": {},
     "output_type": "execute_result"
    }
   ],
   "source": [
    "def get_substrings(character_ids, text):\n",
    "    \"\"\" extract contiguous spans from text given by character_ids\"\"\"\n",
    "    if not character_ids:\n",
    "        return []\n",
    "    prev = -100\n",
    "    w = []\n",
    "    result = []\n",
    "    for idx in character_ids:\n",
    "        if prev >=0 and idx > prev + 1:\n",
    "            result.append(''.join(w))\n",
    "            w = []\n",
    "        if idx < len(text):\n",
    "            w.append(text[idx])\n",
    "        prev = idx\n",
    "    if w:\n",
    "        result.append(''.join(w))\n",
    "    return result\n",
    "\n",
    "get_substrings([2, 3, 5, 6, 7], 'abcdefghijkl')"
   ]
  },
  {
   "cell_type": "code",
   "execution_count": 12,
   "metadata": {},
   "outputs": [],
   "source": [
    "from collections import Counter\n",
    "fp_count = Counter()\n",
    "fn_count = Counter()\n",
    "\n",
    "for i, row in final_test.iterrows():\n",
    "    if row.spans != row.pred_spans:\n",
    "        missed = sorted(set(row.spans).difference(set(row.pred_spans)))\n",
    "        extra = sorted(set(row.pred_spans).difference(set(row.spans)))\n",
    "        \n",
    "        #if len(row.spans) > 0.5 * len(row.text) and len(row.spans) > 20:\n",
    "            # people just highlight the whole text as toxic\n",
    "        #    continue\n",
    "        \n",
    "        if extra:\n",
    "            fp_count.update(get_substrings(extra, row.text))\n",
    "        if missed:\n",
    "            fn_count.update(get_substrings(missed, row.text))"
   ]
  },
  {
   "cell_type": "code",
   "execution_count": 13,
   "metadata": {},
   "outputs": [
    {
     "data": {
      "text/plain": [
       "(300, 777, 378, 460)"
      ]
     },
     "execution_count": 13,
     "metadata": {},
     "output_type": "execute_result"
    }
   ],
   "source": [
    "len(fp_count), sum(fp_count.values()), len(fn_count), sum(fn_count.values())"
   ]
  },
  {
   "cell_type": "code",
   "execution_count": 14,
   "metadata": {},
   "outputs": [
    {
     "data": {
      "text/plain": [
       "[('stupid', 92),\n",
       " ('idiot', 38),\n",
       " ('ignorant', 25),\n",
       " ('idiots', 23),\n",
       " ('moron', 22),\n",
       " ('dumb', 20),\n",
       " ('fool', 19),\n",
       " ('stupidity', 16),\n",
       " ('pathetic', 12),\n",
       " ('ridiculous', 10),\n",
       " ('fools', 10),\n",
       " ('troll', 9),\n",
       " ('garbage', 9),\n",
       " ('crap', 9),\n",
       " ('ass', 8),\n",
       " ('liar', 8),\n",
       " (' ', 8),\n",
       " ('damn', 7),\n",
       " ('loser', 7),\n",
       " ('racist', 6)]"
      ]
     },
     "execution_count": 14,
     "metadata": {},
     "output_type": "execute_result"
    }
   ],
   "source": [
    "fp_count.most_common(20)"
   ]
  },
  {
   "cell_type": "code",
   "execution_count": 15,
   "metadata": {},
   "outputs": [
    {
     "data": {
      "text/plain": [
       "[('ignorant', 10),\n",
       " ('racist', 8),\n",
       " ('crap', 6),\n",
       " ('loser', 6),\n",
       " ('est', 5),\n",
       " (' and ', 5),\n",
       " ('S', 4),\n",
       " ('id', 4),\n",
       " ('dumb', 3),\n",
       " ('garbage', 3),\n",
       " ('st', 3),\n",
       " ('ST', 3),\n",
       " (', ', 3),\n",
       " ('vagina', 3),\n",
       " ('sexual predator', 3),\n",
       " ('bullshit', 3),\n",
       " ('trash', 2),\n",
       " ('sucks', 2),\n",
       " ('t', 2),\n",
       " ('disgusting', 2)]"
      ]
     },
     "execution_count": 15,
     "metadata": {},
     "output_type": "execute_result"
    }
   ],
   "source": [
    "fn_count.most_common(20)"
   ]
  },
  {
   "cell_type": "code",
   "execution_count": 16,
   "metadata": {},
   "outputs": [
    {
     "data": {
      "text/plain": [
       "(275, 813, 527, 860)"
      ]
     },
     "execution_count": 16,
     "metadata": {},
     "output_type": "execute_result"
    }
   ],
   "source": [
    "fp_word_count = Counter()\n",
    "fn_word_count = Counter()\n",
    "for span, n in fp_count.items():\n",
    "    for w in span.lower().split():\n",
    "        if w:\n",
    "            fp_word_count[w] += n\n",
    "for span, n in fn_count.items():\n",
    "    for w in span.lower().split():\n",
    "        if w:\n",
    "            fn_word_count[w] += n\n",
    "            \n",
    "len(fp_word_count), sum(fp_word_count.values()), len(fn_word_count), sum(fn_word_count.values())"
   ]
  },
  {
   "cell_type": "code",
   "execution_count": 17,
   "metadata": {},
   "outputs": [
    {
     "data": {
      "text/plain": [
       "[('stupid', 96),\n",
       " ('idiot', 40),\n",
       " ('ignorant', 31),\n",
       " ('moron', 24),\n",
       " ('dumb', 24),\n",
       " ('idiots', 23),\n",
       " ('fool', 21),\n",
       " ('pathetic', 18),\n",
       " ('stupidity', 16),\n",
       " ('ridiculous', 12),\n",
       " ('ass', 10),\n",
       " ('liar', 10),\n",
       " ('garbage', 10),\n",
       " ('loser', 10),\n",
       " ('fools', 10),\n",
       " ('troll', 9),\n",
       " ('crap', 9),\n",
       " ('damn', 8),\n",
       " ('fuck', 8),\n",
       " ('clown', 7),\n",
       " ('losers', 6),\n",
       " ('suck', 6),\n",
       " ('racist', 6),\n",
       " ('trash', 6),\n",
       " ('hypocrite', 6),\n",
       " ('jerk', 6),\n",
       " ('morons', 6),\n",
       " ('dumber', 6),\n",
       " ('scum', 6),\n",
       " ('ignorance', 6)]"
      ]
     },
     "execution_count": 17,
     "metadata": {},
     "output_type": "execute_result"
    }
   ],
   "source": [
    "fp_word_count.most_common(30)"
   ]
  },
  {
   "cell_type": "code",
   "execution_count": 18,
   "metadata": {},
   "outputs": [
    {
     "data": {
      "text/plain": [
       "[('and', 18),\n",
       " ('the', 13),\n",
       " ('are', 13),\n",
       " ('a', 13),\n",
       " ('ignorant', 11),\n",
       " ('racist', 10),\n",
       " ('you', 9),\n",
       " ('in', 9),\n",
       " ('is', 9),\n",
       " ('to', 8),\n",
       " ('of', 7),\n",
       " ('have', 7),\n",
       " ('loser', 7),\n",
       " ('st', 7),\n",
       " ('crap', 6),\n",
       " ('all', 6),\n",
       " ('chemical', 6),\n",
       " ('s', 5),\n",
       " ('est', 5),\n",
       " ('id', 5),\n",
       " ('that', 5),\n",
       " ('not', 5),\n",
       " ('bunch', 4),\n",
       " ('dumb', 4),\n",
       " ('disgusting', 4),\n",
       " ('this', 4),\n",
       " ('f', 4),\n",
       " ('white', 4),\n",
       " ('he', 4),\n",
       " ('incompetent', 4)]"
      ]
     },
     "execution_count": 18,
     "metadata": {},
     "output_type": "execute_result"
    }
   ],
   "source": [
    "fn_word_count.most_common(30)"
   ]
  },
  {
   "cell_type": "code",
   "execution_count": null,
   "metadata": {},
   "outputs": [],
   "source": []
  },
  {
   "cell_type": "code",
   "execution_count": 30,
   "metadata": {},
   "outputs": [
    {
     "name": "stdout",
     "output_type": "stream",
     "text": [
      "stupid & ass & and & of \\\\\n",
      "idiot & liar & the & have \\\\\n",
      "ignorant & garbage & are & loser \\\\\n",
      "moron & loser & a & st \\\\\n",
      "dumb & fools & ignorant & crap \\\\\n",
      "idiots & troll & racist & all \\\\\n",
      "fool & crap & you & chemical \\\\\n",
      "pathetic & damn & in & s \\\\\n",
      "stupidity & fuck & is & est \\\\\n",
      "ridiculous & clown & to & id \\\\\n"
     ]
    }
   ],
   "source": [
    "fptop = [w[0] for w in fp_word_count.most_common(20)]\n",
    "fntop = [w[0] for w in fn_word_count.most_common(20)]\n",
    "\n",
    "for p0, p1, p2, p3 in zip (fptop[:10], fptop[10:], fntop[:10], fntop[10:]):\n",
    "    print(f'{p0} & {p1} & {p2} & {p3} \\\\\\\\')"
   ]
  },
  {
   "cell_type": "code",
   "execution_count": 19,
   "metadata": {},
   "outputs": [
    {
     "data": {
      "text/html": [
       "<b>Dumb because it is obvious Assad never used chemical weapons.  It is clearly the rebels that have used chemical weapons, and not Assad.  Assad has a vast superiority in weapons, so has no need to resort to cheap weapons like chemical weapons, that are not very effective or easy to aim.  The rebels are the ones who don't have good weapons and have always been improvising alternatives like chemical weapons.  The UN can send in inspectors whenever they want, and they have never found any chemical weapons being used or possessed by Assad.  Why would Assad have turned over all his chemical weapons in 2013 if he intended to still use them?  Why would he bother using them at all, since he has much more lethal w</b>eapons?"
      ],
      "text/plain": [
       "<IPython.core.display.HTML object>"
      ]
     },
     "metadata": {},
     "output_type": "display_data"
    },
    {
     "data": {
      "text/html": [
       "<b>Dumb</b> because it is obvious Assad never used chemical weapons.  It is clearly the rebels that have used chemical weapons, and not Assad.  Assad has a vast superiority in weapons, so has no need to resort to cheap weapons like chemical weapons, that are not very effective or easy to aim.  The rebels are the ones who don't have good weapons and have always been improvising alternatives like chemical weapons.  The UN can send in inspectors whenever they want, and they have never found any chemical weapons being used or possessed by Assad.  Why would Assad have turned over all his chemical weapons in 2013 if he intended to still use them?  Why would he bother using them at all, since he has much more lethal weapons?"
      ],
      "text/plain": [
       "<IPython.core.display.HTML object>"
      ]
     },
     "metadata": {},
     "output_type": "display_data"
    }
   ],
   "source": [
    "for i, row in final_test.iterrows():\n",
    "    if row.spans != row.pred_spans:\n",
    "        missed = sorted(set(row.spans).difference(set(row.pred_spans)))\n",
    "        extra = sorted(set(row.pred_spans).difference(set(row.spans)))\n",
    "        extra_subs = get_substrings(extra, row.text)\n",
    "        missed_subs = get_substrings(missed, row.text)\n",
    "        if any('chemical' in p for p in missed_subs):\n",
    "            display_spans(row.spans, row.text)\n",
    "            display_spans(row.pred_spans, row.text)"
   ]
  },
  {
   "cell_type": "markdown",
   "metadata": {},
   "source": [
    "Some texts are labelled as toxic as a whole. We exclude them from error analysis."
   ]
  },
  {
   "cell_type": "code",
   "execution_count": 20,
   "metadata": {},
   "outputs": [
    {
     "data": {
      "text/html": [
       "<b>This whole family stinks</b>!"
      ],
      "text/plain": [
       "<IPython.core.display.HTML object>"
      ]
     },
     "metadata": {},
     "output_type": "display_data"
    },
    {
     "data": {
      "text/html": [
       "This whole family <b>stinks</b>!"
      ],
      "text/plain": [
       "<IPython.core.display.HTML object>"
      ]
     },
     "metadata": {},
     "output_type": "display_data"
    },
    {
     "data": {
      "text/html": [
       "What a phoney, <b>He really wishes all those brown people would have just drowned</b>, then he wouldn't have to talk about them"
      ],
      "text/plain": [
       "<IPython.core.display.HTML object>"
      ]
     },
     "metadata": {},
     "output_type": "display_data"
    },
    {
     "data": {
      "text/html": [
       "What a <b>phoney</b>, He really wishes all those brown people would have just drowned, then he wouldn't have to talk about them"
      ],
      "text/plain": [
       "<IPython.core.display.HTML object>"
      ]
     },
     "metadata": {},
     "output_type": "display_data"
    },
    {
     "data": {
      "text/html": [
       "Ugh, the worst, <b>burn them at the stake</b>."
      ],
      "text/plain": [
       "<IPython.core.display.HTML object>"
      ]
     },
     "metadata": {},
     "output_type": "display_data"
    },
    {
     "data": {
      "text/html": [
       "Ugh, the worst, <b>burn</b> them <b>at the stake</b>."
      ],
      "text/plain": [
       "<IPython.core.display.HTML object>"
      ]
     },
     "metadata": {},
     "output_type": "display_data"
    },
    {
     "data": {
      "text/html": [
       "<b>Cruz is a piece of garbage a globalist fraud"
      ],
      "text/plain": [
       "<IPython.core.display.HTML object>"
      ]
     },
     "metadata": {},
     "output_type": "display_data"
    },
    {
     "data": {
      "text/html": [
       "Cruz is a piece of <b>garbage</b> a globalist fraud"
      ],
      "text/plain": [
       "<IPython.core.display.HTML object>"
      ]
     },
     "metadata": {},
     "output_type": "display_data"
    },
    {
     "data": {
      "text/html": [
       "<b>Oregon State is absolutely terrible</b>!"
      ],
      "text/plain": [
       "<IPython.core.display.HTML object>"
      ]
     },
     "metadata": {},
     "output_type": "display_data"
    },
    {
     "data": {
      "text/html": [
       "Oregon State is absolutely <b>terrible</b>!"
      ],
      "text/plain": [
       "<IPython.core.display.HTML object>"
      ]
     },
     "metadata": {},
     "output_type": "display_data"
    },
    {
     "data": {
      "text/html": [
       "<b>Dumb because it is obvious Assad never used chemical weapons.  It is clearly the rebels that have used chemical weapons, and not Assad.  Assad has a vast superiority in weapons, so has no need to resort to cheap weapons like chemical weapons, that are not very effective or easy to aim.  The rebels are the ones who don't have good weapons and have always been improvising alternatives like chemical weapons.  The UN can send in inspectors whenever they want, and they have never found any chemical weapons being used or possessed by Assad.  Why would Assad have turned over all his chemical weapons in 2013 if he intended to still use them?  Why would he bother using them at all, since he has much more lethal w</b>eapons?"
      ],
      "text/plain": [
       "<IPython.core.display.HTML object>"
      ]
     },
     "metadata": {},
     "output_type": "display_data"
    },
    {
     "data": {
      "text/html": [
       "<b>Dumb</b> because it is obvious Assad never used chemical weapons.  It is clearly the rebels that have used chemical weapons, and not Assad.  Assad has a vast superiority in weapons, so has no need to resort to cheap weapons like chemical weapons, that are not very effective or easy to aim.  The rebels are the ones who don't have good weapons and have always been improvising alternatives like chemical weapons.  The UN can send in inspectors whenever they want, and they have never found any chemical weapons being used or possessed by Assad.  Why would Assad have turned over all his chemical weapons in 2013 if he intended to still use them?  Why would he bother using them at all, since he has much more lethal weapons?"
      ],
      "text/plain": [
       "<IPython.core.display.HTML object>"
      ]
     },
     "metadata": {},
     "output_type": "display_data"
    },
    {
     "data": {
      "text/html": [
       "<b>Great article. Thank you for saving me so much time in researching who will not ever get my vote.\n",
       "\n",
       "Obama's Failed Legacy's and they think that is good?!\n",
       "\n",
       "Laughable and pathet</b>ic."
      ],
      "text/plain": [
       "<IPython.core.display.HTML object>"
      ]
     },
     "metadata": {},
     "output_type": "display_data"
    },
    {
     "data": {
      "text/html": [
       "Great article. Thank you for saving me so much time in researching who will not ever get my vote.\n",
       "\n",
       "Obama's Failed Legacy's and they think that is good?!\n",
       "\n",
       "Laughable and <b>pathetic</b>."
      ],
      "text/plain": [
       "<IPython.core.display.HTML object>"
      ]
     },
     "metadata": {},
     "output_type": "display_data"
    },
    {
     "data": {
      "text/html": [
       "<b>I have to assume you are joking.  No one could be that dum</b>b."
      ],
      "text/plain": [
       "<IPython.core.display.HTML object>"
      ]
     },
     "metadata": {},
     "output_type": "display_data"
    },
    {
     "data": {
      "text/html": [
       "I have to assume you are joking.  No one could be that <b>dumb</b>."
      ],
      "text/plain": [
       "<IPython.core.display.HTML object>"
      ]
     },
     "metadata": {},
     "output_type": "display_data"
    },
    {
     "data": {
      "text/html": [
       "<b>Islamic counts on Christians in the last two years,  few hundred.  Civilians killing Muslims less than a handf</b>ul."
      ],
      "text/plain": [
       "<IPython.core.display.HTML object>"
      ]
     },
     "metadata": {},
     "output_type": "display_data"
    },
    {
     "data": {
      "text/html": [
       "Islamic counts on Christians in the last two years,  few hundred.  Civilians killing Muslims less than a handful."
      ],
      "text/plain": [
       "<IPython.core.display.HTML object>"
      ]
     },
     "metadata": {},
     "output_type": "display_data"
    },
    {
     "data": {
      "text/html": [
       "<b>They're all a bunch of dummies.  Trump exploits these shrunken heads -they're not smart enough to figure that ou</b>t."
      ],
      "text/plain": [
       "<IPython.core.display.HTML object>"
      ]
     },
     "metadata": {},
     "output_type": "display_data"
    },
    {
     "data": {
      "text/html": [
       "They're all a bunch of <b>dummies</b>.  Trump exploits these shrunken heads -they're not smart enough to figure that out."
      ],
      "text/plain": [
       "<IPython.core.display.HTML object>"
      ]
     },
     "metadata": {},
     "output_type": "display_data"
    },
    {
     "data": {
      "text/html": [
       "<b>liberals are incompetent corrupt vote buying scum"
      ],
      "text/plain": [
       "<IPython.core.display.HTML object>"
      ]
     },
     "metadata": {},
     "output_type": "display_data"
    },
    {
     "data": {
      "text/html": [
       "liberals are incompetent corrupt vote buying <b>scum"
      ],
      "text/plain": [
       "<IPython.core.display.HTML object>"
      ]
     },
     "metadata": {},
     "output_type": "display_data"
    }
   ],
   "source": [
    "for i, row in final_test.iterrows():\n",
    "    if row.spans != row.pred_spans:\n",
    "        if len(row.spans) > 0.5 * len(row.text) and len(row.spans) > 20:\n",
    "            display_spans(row.spans, row.text)\n",
    "            display_spans(row.pred_spans, row.text)"
   ]
  },
  {
   "cell_type": "markdown",
   "metadata": {},
   "source": [
    "# Examples of texts"
   ]
  },
  {
   "cell_type": "markdown",
   "metadata": {},
   "source": [
    "Successful examples"
   ]
  },
  {
   "cell_type": "code",
   "execution_count": 26,
   "metadata": {},
   "outputs": [
    {
     "data": {
      "text/html": [
       "\"Watch people die from taking away their healthcare\"\n",
       "\n",
       "DING DING DING!  Winner of <b>stupid</b> post of the day award!"
      ],
      "text/plain": [
       "<IPython.core.display.HTML object>"
      ]
     },
     "metadata": {},
     "output_type": "display_data"
    },
    {
     "data": {
      "text/html": [
       "\"Watch people die from taking away their healthcare\"\n",
       "\n",
       "DING DING DING!  Winner of <b>stupid</b> post of the day award!"
      ],
      "text/plain": [
       "<IPython.core.display.HTML object>"
      ]
     },
     "metadata": {},
     "output_type": "display_data"
    },
    {
     "name": "stdout",
     "output_type": "stream",
     "text": [
      "\n"
     ]
    },
    {
     "data": {
      "text/html": [
       "Intel Community: ‘How can we work for a President who Undermines our work?’\n",
       "\n",
       "Days before taking office, he compared America’s spies to Adolf Hitler’s Gestapo.\n",
       "\n",
       "American spies do not like having their work dismissed by the president. Nor do they appreciate comparisons to Nazi Germany.\n",
       "\n",
       "Former CIA Director John Brennan made it clear: “The person who said that should be ashamed of himself,” Brennan said.\n",
       "\n",
       "Coats’ predecessor, Gen. James Clapper, called Trump’s comments “a terrible, insulting affront … completely inappropriate.”\n",
       "\n",
       "Trump’s opinions are out of step with the conclusions of the agencies he is supposed to be leading.\n",
       "\n",
       "Not surprising in a treasonous traitor."
      ],
      "text/plain": [
       "<IPython.core.display.HTML object>"
      ]
     },
     "metadata": {},
     "output_type": "display_data"
    },
    {
     "data": {
      "text/html": [
       "Intel Community: ‘How can we work for a President who Undermines our work?’\n",
       "\n",
       "Days before taking office, he compared America’s spies to Adolf Hitler’s Gestapo.\n",
       "\n",
       "American spies do not like having their work dismissed by the president. Nor do they appreciate comparisons to Nazi Germany.\n",
       "\n",
       "Former CIA Director John Brennan made it clear: “The person who said that should be ashamed of himself,” Brennan said.\n",
       "\n",
       "Coats’ predecessor, Gen. James Clapper, called Trump’s comments “a terrible, insulting affront … completely inappropriate.”\n",
       "\n",
       "Trump’s opinions are out of step with the conclusions of the agencies he is supposed to be leading.\n",
       "\n",
       "Not surprising in a treasonous traitor."
      ],
      "text/plain": [
       "<IPython.core.display.HTML object>"
      ]
     },
     "metadata": {},
     "output_type": "display_data"
    },
    {
     "name": "stdout",
     "output_type": "stream",
     "text": [
      "\n"
     ]
    },
    {
     "data": {
      "text/html": [
       "I live in an area that saw major flood damage in 2013, including areas that were very unexpected. Trump's reversal is just plain <b>stupid</b>."
      ],
      "text/plain": [
       "<IPython.core.display.HTML object>"
      ]
     },
     "metadata": {},
     "output_type": "display_data"
    },
    {
     "data": {
      "text/html": [
       "I live in an area that saw major flood damage in 2013, including areas that were very unexpected. Trump's reversal is just plain <b>stupid</b>."
      ],
      "text/plain": [
       "<IPython.core.display.HTML object>"
      ]
     },
     "metadata": {},
     "output_type": "display_data"
    },
    {
     "name": "stdout",
     "output_type": "stream",
     "text": [
      "\n"
     ]
    },
    {
     "data": {
      "text/html": [
       "Elaine Marie Jeffers sounds like a <b>sociopath</b> 😕."
      ],
      "text/plain": [
       "<IPython.core.display.HTML object>"
      ]
     },
     "metadata": {},
     "output_type": "display_data"
    },
    {
     "data": {
      "text/html": [
       "Elaine Marie Jeffers sounds like a <b>sociopath</b> 😕."
      ],
      "text/plain": [
       "<IPython.core.display.HTML object>"
      ]
     },
     "metadata": {},
     "output_type": "display_data"
    },
    {
     "name": "stdout",
     "output_type": "stream",
     "text": [
      "\n"
     ]
    },
    {
     "data": {
      "text/html": [
       "Yes....it is to be expected....oddly enough it happens every time he opens his mouth and says <b>dumb</b> things."
      ],
      "text/plain": [
       "<IPython.core.display.HTML object>"
      ]
     },
     "metadata": {},
     "output_type": "display_data"
    },
    {
     "data": {
      "text/html": [
       "Yes....it is to be expected....oddly enough it happens every time he opens his mouth and says <b>dumb</b> things."
      ],
      "text/plain": [
       "<IPython.core.display.HTML object>"
      ]
     },
     "metadata": {},
     "output_type": "display_data"
    },
    {
     "name": "stdout",
     "output_type": "stream",
     "text": [
      "\n"
     ]
    },
    {
     "data": {
      "text/html": [
       "See a shrink you <b>pathetic troll</b>."
      ],
      "text/plain": [
       "<IPython.core.display.HTML object>"
      ]
     },
     "metadata": {},
     "output_type": "display_data"
    },
    {
     "data": {
      "text/html": [
       "See a shrink you <b>pathetic troll</b>."
      ],
      "text/plain": [
       "<IPython.core.display.HTML object>"
      ]
     },
     "metadata": {},
     "output_type": "display_data"
    },
    {
     "name": "stdout",
     "output_type": "stream",
     "text": [
      "\n"
     ]
    },
    {
     "data": {
      "text/html": [
       "What exactly is suspicious about it? Taking the advice of the entire democrat party? Partisan politics is our reality. It's not my fault democrats complain when they get what they called for. They are <b>hypocrites</b>, maybe they are mad Obama didn't have the stones to do this himself."
      ],
      "text/plain": [
       "<IPython.core.display.HTML object>"
      ]
     },
     "metadata": {},
     "output_type": "display_data"
    },
    {
     "data": {
      "text/html": [
       "What exactly is suspicious about it? Taking the advice of the entire democrat party? Partisan politics is our reality. It's not my fault democrats complain when they get what they called for. They are <b>hypocrites</b>, maybe they are mad Obama didn't have the stones to do this himself."
      ],
      "text/plain": [
       "<IPython.core.display.HTML object>"
      ]
     },
     "metadata": {},
     "output_type": "display_data"
    },
    {
     "name": "stdout",
     "output_type": "stream",
     "text": [
      "\n"
     ]
    },
    {
     "data": {
      "text/html": [
       "They're not patriots. They're <b>vandals</b>, <b>thieves</b>, and <b>bullies</b>. They've plastered a facade of patriotism over their outrage at being expected to obey the law."
      ],
      "text/plain": [
       "<IPython.core.display.HTML object>"
      ]
     },
     "metadata": {},
     "output_type": "display_data"
    },
    {
     "data": {
      "text/html": [
       "They're not patriots. They're <b>vandals</b>, <b>thieves</b>, and <b>bullies</b>. They've plastered a facade of patriotism over their outrage at being expected to obey the law."
      ],
      "text/plain": [
       "<IPython.core.display.HTML object>"
      ]
     },
     "metadata": {},
     "output_type": "display_data"
    },
    {
     "name": "stdout",
     "output_type": "stream",
     "text": [
      "\n"
     ]
    },
    {
     "data": {
      "text/html": [
       "The media is crooked and biased. It's pretty obvious. And they don't seem to care what we think about them. They can influence enough <b>idiots</b> to get their way, they'll do it. I have never hated the media more than I do now. I won't even watch The Today Show because they're a part of NBC. I only watch Fox."
      ],
      "text/plain": [
       "<IPython.core.display.HTML object>"
      ]
     },
     "metadata": {},
     "output_type": "display_data"
    },
    {
     "data": {
      "text/html": [
       "The media is crooked and biased. It's pretty obvious. And they don't seem to care what we think about them. They can influence enough <b>idiots</b> to get their way, they'll do it. I have never hated the media more than I do now. I won't even watch The Today Show because they're a part of NBC. I only watch Fox."
      ],
      "text/plain": [
       "<IPython.core.display.HTML object>"
      ]
     },
     "metadata": {},
     "output_type": "display_data"
    },
    {
     "name": "stdout",
     "output_type": "stream",
     "text": [
      "\n"
     ]
    },
    {
     "data": {
      "text/html": [
       "A <b>fool</b> and our money are soon to be parted."
      ],
      "text/plain": [
       "<IPython.core.display.HTML object>"
      ]
     },
     "metadata": {},
     "output_type": "display_data"
    },
    {
     "data": {
      "text/html": [
       "A <b>fool</b> and our money are soon to be parted."
      ],
      "text/plain": [
       "<IPython.core.display.HTML object>"
      ]
     },
     "metadata": {},
     "output_type": "display_data"
    },
    {
     "name": "stdout",
     "output_type": "stream",
     "text": [
      "\n"
     ]
    },
    {
     "data": {
      "text/html": [
       "<b>Idiot</b> \"miner\" in the photo isn't even wearing a dust mask. MSHA needs to inspect this operation for more worker safety violations."
      ],
      "text/plain": [
       "<IPython.core.display.HTML object>"
      ]
     },
     "metadata": {},
     "output_type": "display_data"
    },
    {
     "data": {
      "text/html": [
       "<b>Idiot</b> \"miner\" in the photo isn't even wearing a dust mask. MSHA needs to inspect this operation for more worker safety violations."
      ],
      "text/plain": [
       "<IPython.core.display.HTML object>"
      ]
     },
     "metadata": {},
     "output_type": "display_data"
    },
    {
     "name": "stdout",
     "output_type": "stream",
     "text": [
      "\n"
     ]
    },
    {
     "data": {
      "text/html": [
       "justin is an <b>embarrassment</b> to Canada.\n",
       "\n",
       "he needs a muzzle. \n",
       "\n",
       "he needs a brain."
      ],
      "text/plain": [
       "<IPython.core.display.HTML object>"
      ]
     },
     "metadata": {},
     "output_type": "display_data"
    },
    {
     "data": {
      "text/html": [
       "justin is an <b>embarrassment</b> to Canada.\n",
       "\n",
       "he needs a muzzle. \n",
       "\n",
       "he needs a brain."
      ],
      "text/plain": [
       "<IPython.core.display.HTML object>"
      ]
     },
     "metadata": {},
     "output_type": "display_data"
    },
    {
     "name": "stdout",
     "output_type": "stream",
     "text": [
      "\n"
     ]
    },
    {
     "data": {
      "text/html": [
       "No but most forget that there are a ton of Opel & Vauxhaul (Gm ) and Fords sold in Europe. Some of which are some of Europes largest selling models.Ford sold over 1 million cars in Europe in 2015 while GM sold almost as many. Trump is an <b>idiot</b> that is going to cost American taxpayers jobs and money and likely drag us into it as well. When you have a team of people that no practically nothing of what they are supposed to represent then it will end very bad."
      ],
      "text/plain": [
       "<IPython.core.display.HTML object>"
      ]
     },
     "metadata": {},
     "output_type": "display_data"
    },
    {
     "data": {
      "text/html": [
       "No but most forget that there are a ton of Opel & Vauxhaul (Gm ) and Fords sold in Europe. Some of which are some of Europes largest selling models.Ford sold over 1 million cars in Europe in 2015 while GM sold almost as many. Trump is an <b>idiot</b> that is going to cost American taxpayers jobs and money and likely drag us into it as well. When you have a team of people that no practically nothing of what they are supposed to represent then it will end very bad."
      ],
      "text/plain": [
       "<IPython.core.display.HTML object>"
      ]
     },
     "metadata": {},
     "output_type": "display_data"
    },
    {
     "name": "stdout",
     "output_type": "stream",
     "text": [
      "\n"
     ]
    },
    {
     "data": {
      "text/html": [
       "oh save your <b>stupidity</b>, any government negotiating is NOT in any way the market <b>loser</b>, this is a federal issue for all of canada, they have jurisdiction  not BC!"
      ],
      "text/plain": [
       "<IPython.core.display.HTML object>"
      ]
     },
     "metadata": {},
     "output_type": "display_data"
    },
    {
     "data": {
      "text/html": [
       "oh save your <b>stupidity</b>, any government negotiating is NOT in any way the market <b>loser</b>, this is a federal issue for all of canada, they have jurisdiction  not BC!"
      ],
      "text/plain": [
       "<IPython.core.display.HTML object>"
      ]
     },
     "metadata": {},
     "output_type": "display_data"
    },
    {
     "name": "stdout",
     "output_type": "stream",
     "text": [
      "\n"
     ]
    },
    {
     "data": {
      "text/html": [
       "Clapper is a proven,  <b>liar</b> even when under oath, why would anyone quote him on this matter!"
      ],
      "text/plain": [
       "<IPython.core.display.HTML object>"
      ]
     },
     "metadata": {},
     "output_type": "display_data"
    },
    {
     "data": {
      "text/html": [
       "Clapper is a proven,  <b>liar</b> even when under oath, why would anyone quote him on this matter!"
      ],
      "text/plain": [
       "<IPython.core.display.HTML object>"
      ]
     },
     "metadata": {},
     "output_type": "display_data"
    },
    {
     "name": "stdout",
     "output_type": "stream",
     "text": [
      "\n"
     ]
    },
    {
     "data": {
      "text/html": [
       "This <b>fucking idiot</b> has no clue."
      ],
      "text/plain": [
       "<IPython.core.display.HTML object>"
      ]
     },
     "metadata": {},
     "output_type": "display_data"
    },
    {
     "data": {
      "text/html": [
       "This <b>fucking idiot</b> has no clue."
      ],
      "text/plain": [
       "<IPython.core.display.HTML object>"
      ]
     },
     "metadata": {},
     "output_type": "display_data"
    },
    {
     "name": "stdout",
     "output_type": "stream",
     "text": [
      "\n"
     ]
    },
    {
     "data": {
      "text/html": [
       "you missed the point totally, nobody said that he did not have the constitutional right to do what she did, they are questioning the appropriateness of her actions.  acting like a <b>jerk</b> in front of a national tv audience is not proper demeanor for an elected delegate representing the democratic party and Hawaii.  she brought shame and dishonor to us."
      ],
      "text/plain": [
       "<IPython.core.display.HTML object>"
      ]
     },
     "metadata": {},
     "output_type": "display_data"
    },
    {
     "data": {
      "text/html": [
       "you missed the point totally, nobody said that he did not have the constitutional right to do what she did, they are questioning the appropriateness of her actions.  acting like a <b>jerk</b> in front of a national tv audience is not proper demeanor for an elected delegate representing the democratic party and Hawaii.  she brought shame and dishonor to us."
      ],
      "text/plain": [
       "<IPython.core.display.HTML object>"
      ]
     },
     "metadata": {},
     "output_type": "display_data"
    },
    {
     "name": "stdout",
     "output_type": "stream",
     "text": [
      "\n"
     ]
    },
    {
     "data": {
      "text/html": [
       "One candidate came across as an adult, and the other was <b>pathetically</b> juvenile."
      ],
      "text/plain": [
       "<IPython.core.display.HTML object>"
      ]
     },
     "metadata": {},
     "output_type": "display_data"
    },
    {
     "data": {
      "text/html": [
       "One candidate came across as an adult, and the other was <b>pathetically</b> juvenile."
      ],
      "text/plain": [
       "<IPython.core.display.HTML object>"
      ]
     },
     "metadata": {},
     "output_type": "display_data"
    },
    {
     "name": "stdout",
     "output_type": "stream",
     "text": [
      "\n"
     ]
    },
    {
     "data": {
      "text/html": [
       "You're laughably <b>ridiculous</b>!"
      ],
      "text/plain": [
       "<IPython.core.display.HTML object>"
      ]
     },
     "metadata": {},
     "output_type": "display_data"
    },
    {
     "data": {
      "text/html": [
       "You're laughably <b>ridiculous</b>!"
      ],
      "text/plain": [
       "<IPython.core.display.HTML object>"
      ]
     },
     "metadata": {},
     "output_type": "display_data"
    },
    {
     "name": "stdout",
     "output_type": "stream",
     "text": [
      "\n"
     ]
    },
    {
     "data": {
      "text/html": [
       "your an <b>idiot</b>, this is a tax based on a lie\n",
       "https://www.youtube.com/watch?v=5Smhn1gL6Xg"
      ],
      "text/plain": [
       "<IPython.core.display.HTML object>"
      ]
     },
     "metadata": {},
     "output_type": "display_data"
    },
    {
     "data": {
      "text/html": [
       "your an <b>idiot</b>, this is a tax based on a lie\n",
       "https://www.youtube.com/watch?v=5Smhn1gL6Xg"
      ],
      "text/plain": [
       "<IPython.core.display.HTML object>"
      ]
     },
     "metadata": {},
     "output_type": "display_data"
    },
    {
     "name": "stdout",
     "output_type": "stream",
     "text": [
      "\n"
     ]
    },
    {
     "data": {
      "text/html": [
       "The Turks turn out to be as <b>ignorant</b> as the Trump voters.  Voting against their own interests and those of their families.  Their children will curse them."
      ],
      "text/plain": [
       "<IPython.core.display.HTML object>"
      ]
     },
     "metadata": {},
     "output_type": "display_data"
    },
    {
     "data": {
      "text/html": [
       "The Turks turn out to be as <b>ignorant</b> as the Trump voters.  Voting against their own interests and those of their families.  Their children will curse them."
      ],
      "text/plain": [
       "<IPython.core.display.HTML object>"
      ]
     },
     "metadata": {},
     "output_type": "display_data"
    },
    {
     "name": "stdout",
     "output_type": "stream",
     "text": [
      "\n"
     ]
    },
    {
     "data": {
      "text/html": [
       "Time to pull this <b>morons</b> medical license and file a multimillion dollar lawsuit."
      ],
      "text/plain": [
       "<IPython.core.display.HTML object>"
      ]
     },
     "metadata": {},
     "output_type": "display_data"
    },
    {
     "data": {
      "text/html": [
       "Time to pull this <b>morons</b> medical license and file a multimillion dollar lawsuit."
      ],
      "text/plain": [
       "<IPython.core.display.HTML object>"
      ]
     },
     "metadata": {},
     "output_type": "display_data"
    },
    {
     "name": "stdout",
     "output_type": "stream",
     "text": [
      "\n"
     ]
    },
    {
     "data": {
      "text/html": [
       "Oboma is an <b>idiot</b>!"
      ],
      "text/plain": [
       "<IPython.core.display.HTML object>"
      ]
     },
     "metadata": {},
     "output_type": "display_data"
    },
    {
     "data": {
      "text/html": [
       "Oboma is an <b>idiot</b>!"
      ],
      "text/plain": [
       "<IPython.core.display.HTML object>"
      ]
     },
     "metadata": {},
     "output_type": "display_data"
    },
    {
     "name": "stdout",
     "output_type": "stream",
     "text": [
      "\n"
     ]
    },
    {
     "data": {
      "text/html": [
       "Sadly  uneducated,  <b>ignorant</b>  leftists  believed the  black  LBB Barry  and  Swillary's  lies  for years."
      ],
      "text/plain": [
       "<IPython.core.display.HTML object>"
      ]
     },
     "metadata": {},
     "output_type": "display_data"
    },
    {
     "data": {
      "text/html": [
       "Sadly  uneducated,  <b>ignorant</b>  leftists  believed the  black  LBB Barry  and  Swillary's  lies  for years."
      ],
      "text/plain": [
       "<IPython.core.display.HTML object>"
      ]
     },
     "metadata": {},
     "output_type": "display_data"
    },
    {
     "name": "stdout",
     "output_type": "stream",
     "text": [
      "\n"
     ]
    },
    {
     "data": {
      "text/html": [
       "Don't fret, <b>Dumb Dumb</b> Donald is busy putting the final touches on his beautiful everyone gets health insurance plan. Just wait!\n",
       "\n",
       "(Maybe he'll release the plan when he releases his tax returns...)"
      ],
      "text/plain": [
       "<IPython.core.display.HTML object>"
      ]
     },
     "metadata": {},
     "output_type": "display_data"
    },
    {
     "data": {
      "text/html": [
       "Don't fret, <b>Dumb Dumb</b> Donald is busy putting the final touches on his beautiful everyone gets health insurance plan. Just wait!\n",
       "\n",
       "(Maybe he'll release the plan when he releases his tax returns...)"
      ],
      "text/plain": [
       "<IPython.core.display.HTML object>"
      ]
     },
     "metadata": {},
     "output_type": "display_data"
    },
    {
     "name": "stdout",
     "output_type": "stream",
     "text": [
      "\n"
     ]
    },
    {
     "data": {
      "text/html": [
       "<b>Damn</b>, you beat me to it"
      ],
      "text/plain": [
       "<IPython.core.display.HTML object>"
      ]
     },
     "metadata": {},
     "output_type": "display_data"
    },
    {
     "data": {
      "text/html": [
       "<b>Damn</b>, you beat me to it"
      ],
      "text/plain": [
       "<IPython.core.display.HTML object>"
      ]
     },
     "metadata": {},
     "output_type": "display_data"
    },
    {
     "name": "stdout",
     "output_type": "stream",
     "text": [
      "\n"
     ]
    },
    {
     "data": {
      "text/html": [
       "Alaskans, not \"Alaskan's.\" They would never put a headline with such a poor grasp of the English language in the ADN. <b>Moron</b>."
      ],
      "text/plain": [
       "<IPython.core.display.HTML object>"
      ]
     },
     "metadata": {},
     "output_type": "display_data"
    },
    {
     "data": {
      "text/html": [
       "Alaskans, not \"Alaskan's.\" They would never put a headline with such a poor grasp of the English language in the ADN. <b>Moron</b>."
      ],
      "text/plain": [
       "<IPython.core.display.HTML object>"
      ]
     },
     "metadata": {},
     "output_type": "display_data"
    },
    {
     "name": "stdout",
     "output_type": "stream",
     "text": [
      "\n"
     ]
    },
    {
     "data": {
      "text/html": [
       "Too bad she won't apologize for being an <b>idiot</b>."
      ],
      "text/plain": [
       "<IPython.core.display.HTML object>"
      ]
     },
     "metadata": {},
     "output_type": "display_data"
    },
    {
     "data": {
      "text/html": [
       "Too bad she won't apologize for being an <b>idiot</b>."
      ],
      "text/plain": [
       "<IPython.core.display.HTML object>"
      ]
     },
     "metadata": {},
     "output_type": "display_data"
    },
    {
     "name": "stdout",
     "output_type": "stream",
     "text": [
      "\n"
     ]
    },
    {
     "data": {
      "text/html": [
       "Good luck with that.  The voters of Hawaii are <b>ignorant</b>.  They vote based on popularity contests and not the issues on hand.  I'll give you a million to one odds that during the next election, same ole same ole......We get what we reap and sow.\n",
       "Sad."
      ],
      "text/plain": [
       "<IPython.core.display.HTML object>"
      ]
     },
     "metadata": {},
     "output_type": "display_data"
    },
    {
     "data": {
      "text/html": [
       "Good luck with that.  The voters of Hawaii are <b>ignorant</b>.  They vote based on popularity contests and not the issues on hand.  I'll give you a million to one odds that during the next election, same ole same ole......We get what we reap and sow.\n",
       "Sad."
      ],
      "text/plain": [
       "<IPython.core.display.HTML object>"
      ]
     },
     "metadata": {},
     "output_type": "display_data"
    },
    {
     "name": "stdout",
     "output_type": "stream",
     "text": [
      "\n"
     ]
    },
    {
     "data": {
      "text/html": [
       "What a <b>jerk</b>!"
      ],
      "text/plain": [
       "<IPython.core.display.HTML object>"
      ]
     },
     "metadata": {},
     "output_type": "display_data"
    },
    {
     "data": {
      "text/html": [
       "What a <b>jerk</b>!"
      ],
      "text/plain": [
       "<IPython.core.display.HTML object>"
      ]
     },
     "metadata": {},
     "output_type": "display_data"
    },
    {
     "name": "stdout",
     "output_type": "stream",
     "text": [
      "\n"
     ]
    },
    {
     "data": {
      "text/html": [
       "aa poor lefty <b>loser</b> cant stand it still that trump won, keep crying as he does the capitalist magic making the usa economy soar again"
      ],
      "text/plain": [
       "<IPython.core.display.HTML object>"
      ]
     },
     "metadata": {},
     "output_type": "display_data"
    },
    {
     "data": {
      "text/html": [
       "aa poor lefty <b>loser</b> cant stand it still that trump won, keep crying as he does the capitalist magic making the usa economy soar again"
      ],
      "text/plain": [
       "<IPython.core.display.HTML object>"
      ]
     },
     "metadata": {},
     "output_type": "display_data"
    },
    {
     "name": "stdout",
     "output_type": "stream",
     "text": [
      "\n"
     ]
    },
    {
     "data": {
      "text/html": [
       "\"Yes much better to stay in your basement....the world is really scary.\"\n",
       "\n",
       "That's <b>silly</b>.\n",
       "\n",
       "Just don't travel to the USA, unless absolutely necessary. There's little that place has to offer us except for tasteless tomatoes in the winter."
      ],
      "text/plain": [
       "<IPython.core.display.HTML object>"
      ]
     },
     "metadata": {},
     "output_type": "display_data"
    },
    {
     "data": {
      "text/html": [
       "\"Yes much better to stay in your basement....the world is really scary.\"\n",
       "\n",
       "That's <b>silly</b>.\n",
       "\n",
       "Just don't travel to the USA, unless absolutely necessary. There's little that place has to offer us except for tasteless tomatoes in the winter."
      ],
      "text/plain": [
       "<IPython.core.display.HTML object>"
      ]
     },
     "metadata": {},
     "output_type": "display_data"
    },
    {
     "name": "stdout",
     "output_type": "stream",
     "text": [
      "\n"
     ]
    },
    {
     "data": {
      "text/html": [
       "\"Trump is up to the task\"  LMAO, you are an <b>idiot</b>,"
      ],
      "text/plain": [
       "<IPython.core.display.HTML object>"
      ]
     },
     "metadata": {},
     "output_type": "display_data"
    },
    {
     "data": {
      "text/html": [
       "\"Trump is up to the task\"  LMAO, you are an <b>idiot</b>,"
      ],
      "text/plain": [
       "<IPython.core.display.HTML object>"
      ]
     },
     "metadata": {},
     "output_type": "display_data"
    },
    {
     "name": "stdout",
     "output_type": "stream",
     "text": [
      "\n"
     ]
    },
    {
     "data": {
      "text/html": [
       "They are more animal than the goat, <b>disgusting</b>.!!!!!"
      ],
      "text/plain": [
       "<IPython.core.display.HTML object>"
      ]
     },
     "metadata": {},
     "output_type": "display_data"
    },
    {
     "data": {
      "text/html": [
       "They are more animal than the goat, <b>disgusting</b>.!!!!!"
      ],
      "text/plain": [
       "<IPython.core.display.HTML object>"
      ]
     },
     "metadata": {},
     "output_type": "display_data"
    },
    {
     "name": "stdout",
     "output_type": "stream",
     "text": [
      "\n"
     ]
    },
    {
     "data": {
      "text/html": [
       "Trudeau and Morneau are fiscally and economically <b>inept</b> and <b>incompetent</b>."
      ],
      "text/plain": [
       "<IPython.core.display.HTML object>"
      ]
     },
     "metadata": {},
     "output_type": "display_data"
    },
    {
     "data": {
      "text/html": [
       "Trudeau and Morneau are fiscally and economically <b>inept</b> and <b>incompetent</b>."
      ],
      "text/plain": [
       "<IPython.core.display.HTML object>"
      ]
     },
     "metadata": {},
     "output_type": "display_data"
    },
    {
     "name": "stdout",
     "output_type": "stream",
     "text": [
      "\n"
     ]
    },
    {
     "data": {
      "text/html": [
       "Now I'll stop watching MINOR LEAGUE BASEBALL...bunch of rich cry babies who only play a child's game...try putting on a different uniform...join the military and then you'll maybe understand what the flag represents...<b>asshole"
      ],
      "text/plain": [
       "<IPython.core.display.HTML object>"
      ]
     },
     "metadata": {},
     "output_type": "display_data"
    },
    {
     "data": {
      "text/html": [
       "Now I'll stop watching MINOR LEAGUE BASEBALL...bunch of rich cry babies who only play a child's game...try putting on a different uniform...join the military and then you'll maybe understand what the flag represents...<b>asshole"
      ],
      "text/plain": [
       "<IPython.core.display.HTML object>"
      ]
     },
     "metadata": {},
     "output_type": "display_data"
    },
    {
     "name": "stdout",
     "output_type": "stream",
     "text": [
      "\n"
     ]
    },
    {
     "data": {
      "text/html": [
       "Because you are that <b>stupid</b>."
      ],
      "text/plain": [
       "<IPython.core.display.HTML object>"
      ]
     },
     "metadata": {},
     "output_type": "display_data"
    },
    {
     "data": {
      "text/html": [
       "Because you are that <b>stupid</b>."
      ],
      "text/plain": [
       "<IPython.core.display.HTML object>"
      ]
     },
     "metadata": {},
     "output_type": "display_data"
    },
    {
     "name": "stdout",
     "output_type": "stream",
     "text": [
      "\n"
     ]
    },
    {
     "data": {
      "text/html": [
       "Trump opened this particular Pandora's Box during the campaign, with his usual oral diarrhea. His supporters loved it. Karma took notice. Good. \n",
       "\n",
       "Depp has one thing in common with Trump. Lying for a living. A pox on them both."
      ],
      "text/plain": [
       "<IPython.core.display.HTML object>"
      ]
     },
     "metadata": {},
     "output_type": "display_data"
    },
    {
     "data": {
      "text/html": [
       "Trump opened this particular Pandora's Box during the campaign, with his usual oral diarrhea. His supporters loved it. Karma took notice. Good. \n",
       "\n",
       "Depp has one thing in common with Trump. Lying for a living. A pox on them both."
      ],
      "text/plain": [
       "<IPython.core.display.HTML object>"
      ]
     },
     "metadata": {},
     "output_type": "display_data"
    },
    {
     "name": "stdout",
     "output_type": "stream",
     "text": [
      "\n"
     ]
    },
    {
     "data": {
      "text/html": [
       "I saw a Fox News commentator say the opposite-- that Trump made a <b>fool</b> of himself with Acosta and should never be allowed to make public presentations-- especially to the press. I agree-- Miller has a loose screw and flips out losing his temper."
      ],
      "text/plain": [
       "<IPython.core.display.HTML object>"
      ]
     },
     "metadata": {},
     "output_type": "display_data"
    },
    {
     "data": {
      "text/html": [
       "I saw a Fox News commentator say the opposite-- that Trump made a <b>fool</b> of himself with Acosta and should never be allowed to make public presentations-- especially to the press. I agree-- Miller has a loose screw and flips out losing his temper."
      ],
      "text/plain": [
       "<IPython.core.display.HTML object>"
      ]
     },
     "metadata": {},
     "output_type": "display_data"
    },
    {
     "name": "stdout",
     "output_type": "stream",
     "text": [
      "\n"
     ]
    },
    {
     "data": {
      "text/html": [
       "Have you walked around Denver lately , or Civic Center Park ? These poor homeless people are <b>pigs</b> !"
      ],
      "text/plain": [
       "<IPython.core.display.HTML object>"
      ]
     },
     "metadata": {},
     "output_type": "display_data"
    },
    {
     "data": {
      "text/html": [
       "Have you walked around Denver lately , or Civic Center Park ? These poor homeless people are <b>pigs</b> !"
      ],
      "text/plain": [
       "<IPython.core.display.HTML object>"
      ]
     },
     "metadata": {},
     "output_type": "display_data"
    },
    {
     "name": "stdout",
     "output_type": "stream",
     "text": [
      "\n"
     ]
    },
    {
     "data": {
      "text/html": [
       "<b>Moron</b>.  Illegals have no Constitutional rights~"
      ],
      "text/plain": [
       "<IPython.core.display.HTML object>"
      ]
     },
     "metadata": {},
     "output_type": "display_data"
    },
    {
     "data": {
      "text/html": [
       "<b>Moron</b>.  Illegals have no Constitutional rights~"
      ],
      "text/plain": [
       "<IPython.core.display.HTML object>"
      ]
     },
     "metadata": {},
     "output_type": "display_data"
    },
    {
     "name": "stdout",
     "output_type": "stream",
     "text": [
      "\n"
     ]
    },
    {
     "data": {
      "text/html": [
       "G and M, shut out the clearly commy <b>trolls</b> from china, like DI!!"
      ],
      "text/plain": [
       "<IPython.core.display.HTML object>"
      ]
     },
     "metadata": {},
     "output_type": "display_data"
    },
    {
     "data": {
      "text/html": [
       "G and M, shut out the clearly commy <b>trolls</b> from china, like DI!!"
      ],
      "text/plain": [
       "<IPython.core.display.HTML object>"
      ]
     },
     "metadata": {},
     "output_type": "display_data"
    },
    {
     "name": "stdout",
     "output_type": "stream",
     "text": [
      "\n"
     ]
    },
    {
     "data": {
      "text/html": [
       "There is even a website where sore <b>loser</b> Democrats can pretend that Hillary won. La-la-land indeed! \n",
       "\n",
       "#liberaltears #salt #schadenfreude"
      ],
      "text/plain": [
       "<IPython.core.display.HTML object>"
      ]
     },
     "metadata": {},
     "output_type": "display_data"
    },
    {
     "data": {
      "text/html": [
       "There is even a website where sore <b>loser</b> Democrats can pretend that Hillary won. La-la-land indeed! \n",
       "\n",
       "#liberaltears #salt #schadenfreude"
      ],
      "text/plain": [
       "<IPython.core.display.HTML object>"
      ]
     },
     "metadata": {},
     "output_type": "display_data"
    },
    {
     "name": "stdout",
     "output_type": "stream",
     "text": [
      "\n"
     ]
    },
    {
     "data": {
      "text/html": [
       "A Country where we have a right to protect ourselves and our property from <b>scumbags</b>."
      ],
      "text/plain": [
       "<IPython.core.display.HTML object>"
      ]
     },
     "metadata": {},
     "output_type": "display_data"
    },
    {
     "data": {
      "text/html": [
       "A Country where we have a right to protect ourselves and our property from <b>scumbags</b>."
      ],
      "text/plain": [
       "<IPython.core.display.HTML object>"
      ]
     },
     "metadata": {},
     "output_type": "display_data"
    },
    {
     "name": "stdout",
     "output_type": "stream",
     "text": [
      "\n"
     ]
    },
    {
     "data": {
      "text/html": [
       "Anything to keep the <b>idiot</b> out of the house. Must be tough on Trudy to have opposition party members constantly laughing at him."
      ],
      "text/plain": [
       "<IPython.core.display.HTML object>"
      ]
     },
     "metadata": {},
     "output_type": "display_data"
    },
    {
     "data": {
      "text/html": [
       "Anything to keep the <b>idiot</b> out of the house. Must be tough on Trudy to have opposition party members constantly laughing at him."
      ],
      "text/plain": [
       "<IPython.core.display.HTML object>"
      ]
     },
     "metadata": {},
     "output_type": "display_data"
    },
    {
     "name": "stdout",
     "output_type": "stream",
     "text": [
      "\n"
     ]
    },
    {
     "data": {
      "text/html": [
       "That kind of posturing is not only <b>ridiculous</b>.   It's toxic."
      ],
      "text/plain": [
       "<IPython.core.display.HTML object>"
      ]
     },
     "metadata": {},
     "output_type": "display_data"
    },
    {
     "data": {
      "text/html": [
       "That kind of posturing is not only <b>ridiculous</b>.   It's toxic."
      ],
      "text/plain": [
       "<IPython.core.display.HTML object>"
      ]
     },
     "metadata": {},
     "output_type": "display_data"
    },
    {
     "name": "stdout",
     "output_type": "stream",
     "text": [
      "\n"
     ]
    },
    {
     "data": {
      "text/html": [
       "And what place would that be? Instead, Trump stuck his <b>stupid</b> nose into a place it does not belong."
      ],
      "text/plain": [
       "<IPython.core.display.HTML object>"
      ]
     },
     "metadata": {},
     "output_type": "display_data"
    },
    {
     "data": {
      "text/html": [
       "And what place would that be? Instead, Trump stuck his <b>stupid</b> nose into a place it does not belong."
      ],
      "text/plain": [
       "<IPython.core.display.HTML object>"
      ]
     },
     "metadata": {},
     "output_type": "display_data"
    },
    {
     "name": "stdout",
     "output_type": "stream",
     "text": [
      "\n"
     ]
    },
    {
     "data": {
      "text/html": [
       "Apparently, the bang gang kids only needed a weak <b>ass</b> excuse, real or imagined, to kill"
      ],
      "text/plain": [
       "<IPython.core.display.HTML object>"
      ]
     },
     "metadata": {},
     "output_type": "display_data"
    },
    {
     "data": {
      "text/html": [
       "Apparently, the bang gang kids only needed a weak <b>ass</b> excuse, real or imagined, to kill"
      ],
      "text/plain": [
       "<IPython.core.display.HTML object>"
      ]
     },
     "metadata": {},
     "output_type": "display_data"
    },
    {
     "name": "stdout",
     "output_type": "stream",
     "text": [
      "\n"
     ]
    },
    {
     "data": {
      "text/html": [
       "What a <b>stupid</b>, un-American statement."
      ],
      "text/plain": [
       "<IPython.core.display.HTML object>"
      ]
     },
     "metadata": {},
     "output_type": "display_data"
    },
    {
     "data": {
      "text/html": [
       "What a <b>stupid</b>, un-American statement."
      ],
      "text/plain": [
       "<IPython.core.display.HTML object>"
      ]
     },
     "metadata": {},
     "output_type": "display_data"
    },
    {
     "name": "stdout",
     "output_type": "stream",
     "text": [
      "\n"
     ]
    },
    {
     "data": {
      "text/html": [
       "Right! George Clooney had no idea about Harvey Weinstein's serial predation. \n",
       "\n",
       "He's full of <b>crap</b>."
      ],
      "text/plain": [
       "<IPython.core.display.HTML object>"
      ]
     },
     "metadata": {},
     "output_type": "display_data"
    },
    {
     "data": {
      "text/html": [
       "Right! George Clooney had no idea about Harvey Weinstein's serial predation. \n",
       "\n",
       "He's full of <b>crap</b>."
      ],
      "text/plain": [
       "<IPython.core.display.HTML object>"
      ]
     },
     "metadata": {},
     "output_type": "display_data"
    },
    {
     "name": "stdout",
     "output_type": "stream",
     "text": [
      "\n"
     ]
    },
    {
     "data": {
      "text/html": [
       "This <b>stupid</b> so-called \"president\" said there were \"fine\" people among the alt-right protesters. He also blamed \"all sides\" when one of these same got into a car, and DROVE THROUGH a crowd of Americans, which is clearly another example of right wing domestic terrorism.\n",
       "\n",
       "\n",
       "And Trump utterly flubbed what is probably the easiest thing to do politically - denounce Nazis. And gets all combative with the FAYYYYKKKK NOOOOZ when they are trying to get him to clarify and/or give him a chance to apologize and/or retract this...instead, doubling down on the hate."
      ],
      "text/plain": [
       "<IPython.core.display.HTML object>"
      ]
     },
     "metadata": {},
     "output_type": "display_data"
    },
    {
     "data": {
      "text/html": [
       "This <b>stupid</b> so-called \"president\" said there were \"fine\" people among the alt-right protesters. He also blamed \"all sides\" when one of these same got into a car, and DROVE THROUGH a crowd of Americans, which is clearly another example of right wing domestic terrorism.\n",
       "\n",
       "\n",
       "And Trump utterly flubbed what is probably the easiest thing to do politically - denounce Nazis. And gets all combative with the FAYYYYKKKK NOOOOZ when they are trying to get him to clarify and/or give him a chance to apologize and/or retract this...instead, doubling down on the hate."
      ],
      "text/plain": [
       "<IPython.core.display.HTML object>"
      ]
     },
     "metadata": {},
     "output_type": "display_data"
    },
    {
     "name": "stdout",
     "output_type": "stream",
     "text": [
      "\n"
     ]
    },
    {
     "data": {
      "text/html": [
       "The debt ceiling is a truly <b>stupid</b> and useless bit of kabuki theater. Of course, the cons seem to love it."
      ],
      "text/plain": [
       "<IPython.core.display.HTML object>"
      ]
     },
     "metadata": {},
     "output_type": "display_data"
    },
    {
     "data": {
      "text/html": [
       "The debt ceiling is a truly <b>stupid</b> and useless bit of kabuki theater. Of course, the cons seem to love it."
      ],
      "text/plain": [
       "<IPython.core.display.HTML object>"
      ]
     },
     "metadata": {},
     "output_type": "display_data"
    },
    {
     "name": "stdout",
     "output_type": "stream",
     "text": [
      "\n"
     ]
    },
    {
     "data": {
      "text/html": [
       "What is more sad about Trump are the legion of lackeys and stooges who know deep down inside he's an ignorant clown, but out of blind <b>stupidity</b> and hanging on like a cheap groupie they'll support him anyway."
      ],
      "text/plain": [
       "<IPython.core.display.HTML object>"
      ]
     },
     "metadata": {},
     "output_type": "display_data"
    },
    {
     "data": {
      "text/html": [
       "What is more sad about Trump are the legion of lackeys and stooges who know deep down inside he's an ignorant clown, but out of blind <b>stupidity</b> and hanging on like a cheap groupie they'll support him anyway."
      ],
      "text/plain": [
       "<IPython.core.display.HTML object>"
      ]
     },
     "metadata": {},
     "output_type": "display_data"
    },
    {
     "name": "stdout",
     "output_type": "stream",
     "text": [
      "\n"
     ]
    },
    {
     "data": {
      "text/html": [
       "This president* is just the worst. Terrible president*. Cannot wait until he is gone. He simply has no idea what he's doing. He doesn't even seem to understand how to behave like an adult.\n",
       "\n",
       "\n",
       "At this point, I'd almost prefer to pick someone at random from the phonebook to run things rather than this <b>moron</b>."
      ],
      "text/plain": [
       "<IPython.core.display.HTML object>"
      ]
     },
     "metadata": {},
     "output_type": "display_data"
    },
    {
     "data": {
      "text/html": [
       "This president* is just the worst. Terrible president*. Cannot wait until he is gone. He simply has no idea what he's doing. He doesn't even seem to understand how to behave like an adult.\n",
       "\n",
       "\n",
       "At this point, I'd almost prefer to pick someone at random from the phonebook to run things rather than this <b>moron</b>."
      ],
      "text/plain": [
       "<IPython.core.display.HTML object>"
      ]
     },
     "metadata": {},
     "output_type": "display_data"
    },
    {
     "name": "stdout",
     "output_type": "stream",
     "text": [
      "\n"
     ]
    },
    {
     "data": {
      "text/html": [
       "You are an <b>idiot</b>, with zero knowledge of what you're speaking about. If you know nothing-say nothing. You have no place opening your mouth-so keep it shut with BS like this."
      ],
      "text/plain": [
       "<IPython.core.display.HTML object>"
      ]
     },
     "metadata": {},
     "output_type": "display_data"
    },
    {
     "data": {
      "text/html": [
       "You are an <b>idiot</b>, with zero knowledge of what you're speaking about. If you know nothing-say nothing. You have no place opening your mouth-so keep it shut with BS like this."
      ],
      "text/plain": [
       "<IPython.core.display.HTML object>"
      ]
     },
     "metadata": {},
     "output_type": "display_data"
    },
    {
     "name": "stdout",
     "output_type": "stream",
     "text": [
      "\n"
     ]
    },
    {
     "data": {
      "text/html": [
       "By heavens they are <b>stupid</b> and proud of it! Wait for the inevitable \"Poor us, we've been victimized by those godless liberals.\" whining when they lose."
      ],
      "text/plain": [
       "<IPython.core.display.HTML object>"
      ]
     },
     "metadata": {},
     "output_type": "display_data"
    },
    {
     "data": {
      "text/html": [
       "By heavens they are <b>stupid</b> and proud of it! Wait for the inevitable \"Poor us, we've been victimized by those godless liberals.\" whining when they lose."
      ],
      "text/plain": [
       "<IPython.core.display.HTML object>"
      ]
     },
     "metadata": {},
     "output_type": "display_data"
    },
    {
     "name": "stdout",
     "output_type": "stream",
     "text": [
      "\n"
     ]
    },
    {
     "data": {
      "text/html": [
       "Unfortunately people are just too <b>stupid</b>, lazy and irresponsible to manage their own lives. They have become dependent on Government and only want to live for the moment."
      ],
      "text/plain": [
       "<IPython.core.display.HTML object>"
      ]
     },
     "metadata": {},
     "output_type": "display_data"
    },
    {
     "data": {
      "text/html": [
       "Unfortunately people are just too <b>stupid</b>, lazy and irresponsible to manage their own lives. They have become dependent on Government and only want to live for the moment."
      ],
      "text/plain": [
       "<IPython.core.display.HTML object>"
      ]
     },
     "metadata": {},
     "output_type": "display_data"
    },
    {
     "name": "stdout",
     "output_type": "stream",
     "text": [
      "\n"
     ]
    },
    {
     "data": {
      "text/html": [
       "I don't know your name, are you an immigrant? Your questions are kind of odd, are you  rapist?  See how <b>stupid</b> you sound?"
      ],
      "text/plain": [
       "<IPython.core.display.HTML object>"
      ]
     },
     "metadata": {},
     "output_type": "display_data"
    },
    {
     "data": {
      "text/html": [
       "I don't know your name, are you an immigrant? Your questions are kind of odd, are you  rapist?  See how <b>stupid</b> you sound?"
      ],
      "text/plain": [
       "<IPython.core.display.HTML object>"
      ]
     },
     "metadata": {},
     "output_type": "display_data"
    },
    {
     "name": "stdout",
     "output_type": "stream",
     "text": [
      "\n"
     ]
    },
    {
     "data": {
      "text/html": [
       "Wonder if the <b>moron</b> is married."
      ],
      "text/plain": [
       "<IPython.core.display.HTML object>"
      ]
     },
     "metadata": {},
     "output_type": "display_data"
    },
    {
     "data": {
      "text/html": [
       "Wonder if the <b>moron</b> is married."
      ],
      "text/plain": [
       "<IPython.core.display.HTML object>"
      ]
     },
     "metadata": {},
     "output_type": "display_data"
    },
    {
     "name": "stdout",
     "output_type": "stream",
     "text": [
      "\n"
     ]
    },
    {
     "data": {
      "text/html": [
       "I mean lets face it, They say only the good die young.  If true Hill-larious has many years left. If Hillary gets off the campaign trail, America will be better for it!  I think she needs an old folks home where she can rest and yell at the top of her lungs all she wants about Americans being deplorable if they are not leftist useful <b>idiots</b>."
      ],
      "text/plain": [
       "<IPython.core.display.HTML object>"
      ]
     },
     "metadata": {},
     "output_type": "display_data"
    },
    {
     "data": {
      "text/html": [
       "I mean lets face it, They say only the good die young.  If true Hill-larious has many years left. If Hillary gets off the campaign trail, America will be better for it!  I think she needs an old folks home where she can rest and yell at the top of her lungs all she wants about Americans being deplorable if they are not leftist useful <b>idiots</b>."
      ],
      "text/plain": [
       "<IPython.core.display.HTML object>"
      ]
     },
     "metadata": {},
     "output_type": "display_data"
    },
    {
     "name": "stdout",
     "output_type": "stream",
     "text": [
      "\n"
     ]
    },
    {
     "data": {
      "text/html": [
       "Everything the <b>idiot</b> touches turns to crap & now he wants to gamble on health care?  Mind boggling how <b>stupid</b> he is."
      ],
      "text/plain": [
       "<IPython.core.display.HTML object>"
      ]
     },
     "metadata": {},
     "output_type": "display_data"
    },
    {
     "data": {
      "text/html": [
       "Everything the <b>idiot</b> touches turns to crap & now he wants to gamble on health care?  Mind boggling how <b>stupid</b> he is."
      ],
      "text/plain": [
       "<IPython.core.display.HTML object>"
      ]
     },
     "metadata": {},
     "output_type": "display_data"
    },
    {
     "name": "stdout",
     "output_type": "stream",
     "text": [
      "\n"
     ]
    },
    {
     "data": {
      "text/html": [
       "<b>Liar</b>.  That's what bigoted hate leads to.  Willfully misinformed."
      ],
      "text/plain": [
       "<IPython.core.display.HTML object>"
      ]
     },
     "metadata": {},
     "output_type": "display_data"
    },
    {
     "data": {
      "text/html": [
       "<b>Liar</b>.  That's what bigoted hate leads to.  Willfully misinformed."
      ],
      "text/plain": [
       "<IPython.core.display.HTML object>"
      ]
     },
     "metadata": {},
     "output_type": "display_data"
    },
    {
     "name": "stdout",
     "output_type": "stream",
     "text": [
      "\n"
     ]
    },
    {
     "data": {
      "text/html": [
       "<b>Stupid</b> is as <b>stupid</b> does Gump was right"
      ],
      "text/plain": [
       "<IPython.core.display.HTML object>"
      ]
     },
     "metadata": {},
     "output_type": "display_data"
    },
    {
     "data": {
      "text/html": [
       "<b>Stupid</b> is as <b>stupid</b> does Gump was right"
      ],
      "text/plain": [
       "<IPython.core.display.HTML object>"
      ]
     },
     "metadata": {},
     "output_type": "display_data"
    },
    {
     "name": "stdout",
     "output_type": "stream",
     "text": [
      "\n"
     ]
    },
    {
     "data": {
      "text/html": [
       "WoW, you're <b>ridiculous</b>!"
      ],
      "text/plain": [
       "<IPython.core.display.HTML object>"
      ]
     },
     "metadata": {},
     "output_type": "display_data"
    },
    {
     "data": {
      "text/html": [
       "WoW, you're <b>ridiculous</b>!"
      ],
      "text/plain": [
       "<IPython.core.display.HTML object>"
      ]
     },
     "metadata": {},
     "output_type": "display_data"
    },
    {
     "name": "stdout",
     "output_type": "stream",
     "text": [
      "\n"
     ]
    },
    {
     "data": {
      "text/html": [
       "<b>Idiots</b> .... yes, of course.\n",
       "\n",
       "You will not pay any estate tax.  Zero $.  The first (roughly) $11 million left by a couple to their children is exempt from tax.  You really need to speak with an attorney or a CPA.\n",
       "\n",
       "Now let's talk about who the <b>idiot</b> is, OK?"
      ],
      "text/plain": [
       "<IPython.core.display.HTML object>"
      ]
     },
     "metadata": {},
     "output_type": "display_data"
    },
    {
     "data": {
      "text/html": [
       "<b>Idiots</b> .... yes, of course.\n",
       "\n",
       "You will not pay any estate tax.  Zero $.  The first (roughly) $11 million left by a couple to their children is exempt from tax.  You really need to speak with an attorney or a CPA.\n",
       "\n",
       "Now let's talk about who the <b>idiot</b> is, OK?"
      ],
      "text/plain": [
       "<IPython.core.display.HTML object>"
      ]
     },
     "metadata": {},
     "output_type": "display_data"
    },
    {
     "name": "stdout",
     "output_type": "stream",
     "text": [
      "\n"
     ]
    },
    {
     "data": {
      "text/html": [
       "Trump is just part of a horrible and sleazy family.  Why on earth did America elect this <b>fool</b>?  It was a very reckless course.  WE all regret it now."
      ],
      "text/plain": [
       "<IPython.core.display.HTML object>"
      ]
     },
     "metadata": {},
     "output_type": "display_data"
    },
    {
     "data": {
      "text/html": [
       "Trump is just part of a horrible and sleazy family.  Why on earth did America elect this <b>fool</b>?  It was a very reckless course.  WE all regret it now."
      ],
      "text/plain": [
       "<IPython.core.display.HTML object>"
      ]
     },
     "metadata": {},
     "output_type": "display_data"
    },
    {
     "name": "stdout",
     "output_type": "stream",
     "text": [
      "\n"
     ]
    },
    {
     "data": {
      "text/html": [
       "Why don't you call yourself <b>dickhead</b> instead of pubic ... good grief."
      ],
      "text/plain": [
       "<IPython.core.display.HTML object>"
      ]
     },
     "metadata": {},
     "output_type": "display_data"
    },
    {
     "data": {
      "text/html": [
       "Why don't you call yourself <b>dickhead</b> instead of pubic ... good grief."
      ],
      "text/plain": [
       "<IPython.core.display.HTML object>"
      ]
     },
     "metadata": {},
     "output_type": "display_data"
    },
    {
     "name": "stdout",
     "output_type": "stream",
     "text": [
      "\n"
     ]
    },
    {
     "data": {
      "text/html": [
       "<b>Bullshit</b> story. The 3 killings are related. Some one making their bones."
      ],
      "text/plain": [
       "<IPython.core.display.HTML object>"
      ]
     },
     "metadata": {},
     "output_type": "display_data"
    },
    {
     "data": {
      "text/html": [
       "<b>Bullshit</b> story. The 3 killings are related. Some one making their bones."
      ],
      "text/plain": [
       "<IPython.core.display.HTML object>"
      ]
     },
     "metadata": {},
     "output_type": "display_data"
    },
    {
     "name": "stdout",
     "output_type": "stream",
     "text": [
      "\n"
     ]
    },
    {
     "data": {
      "text/html": [
       "This is why we have Congress and the federal judiciary.  Trump will be stopped again on this latest of his <b>idiotic</b> ideas.\n",
       "\n",
       "Worst President Ever.  No one else even comes close."
      ],
      "text/plain": [
       "<IPython.core.display.HTML object>"
      ]
     },
     "metadata": {},
     "output_type": "display_data"
    },
    {
     "data": {
      "text/html": [
       "This is why we have Congress and the federal judiciary.  Trump will be stopped again on this latest of his <b>idiotic</b> ideas.\n",
       "\n",
       "Worst President Ever.  No one else even comes close."
      ],
      "text/plain": [
       "<IPython.core.display.HTML object>"
      ]
     },
     "metadata": {},
     "output_type": "display_data"
    },
    {
     "name": "stdout",
     "output_type": "stream",
     "text": [
      "\n"
     ]
    },
    {
     "data": {
      "text/html": [
       "Never! Rampahosa will be a very <b>useless</b> president."
      ],
      "text/plain": [
       "<IPython.core.display.HTML object>"
      ]
     },
     "metadata": {},
     "output_type": "display_data"
    },
    {
     "data": {
      "text/html": [
       "Never! Rampahosa will be a very <b>useless</b> president."
      ],
      "text/plain": [
       "<IPython.core.display.HTML object>"
      ]
     },
     "metadata": {},
     "output_type": "display_data"
    },
    {
     "name": "stdout",
     "output_type": "stream",
     "text": [
      "\n"
     ]
    },
    {
     "data": {
      "text/html": [
       "Braddah needs to find another line of work. He's too <b>stupid</b> to be a criminal."
      ],
      "text/plain": [
       "<IPython.core.display.HTML object>"
      ]
     },
     "metadata": {},
     "output_type": "display_data"
    },
    {
     "data": {
      "text/html": [
       "Braddah needs to find another line of work. He's too <b>stupid</b> to be a criminal."
      ],
      "text/plain": [
       "<IPython.core.display.HTML object>"
      ]
     },
     "metadata": {},
     "output_type": "display_data"
    },
    {
     "name": "stdout",
     "output_type": "stream",
     "text": [
      "\n"
     ]
    },
    {
     "data": {
      "text/html": [
       "<b>Stupid</b> clerk.  I wonder if he has been fired yet."
      ],
      "text/plain": [
       "<IPython.core.display.HTML object>"
      ]
     },
     "metadata": {},
     "output_type": "display_data"
    },
    {
     "data": {
      "text/html": [
       "<b>Stupid</b> clerk.  I wonder if he has been fired yet."
      ],
      "text/plain": [
       "<IPython.core.display.HTML object>"
      ]
     },
     "metadata": {},
     "output_type": "display_data"
    },
    {
     "name": "stdout",
     "output_type": "stream",
     "text": [
      "\n"
     ]
    },
    {
     "data": {
      "text/html": [
       "You got that right, Stevens; one <b>damn</b> thing after another by the Republicans.  Like cats on a hot tin roof."
      ],
      "text/plain": [
       "<IPython.core.display.HTML object>"
      ]
     },
     "metadata": {},
     "output_type": "display_data"
    },
    {
     "data": {
      "text/html": [
       "You got that right, Stevens; one <b>damn</b> thing after another by the Republicans.  Like cats on a hot tin roof."
      ],
      "text/plain": [
       "<IPython.core.display.HTML object>"
      ]
     },
     "metadata": {},
     "output_type": "display_data"
    },
    {
     "name": "stdout",
     "output_type": "stream",
     "text": [
      "\n"
     ]
    },
    {
     "data": {
      "text/html": [
       "<b>Fuck</b> the police and <b>fuck</b> that construction company"
      ],
      "text/plain": [
       "<IPython.core.display.HTML object>"
      ]
     },
     "metadata": {},
     "output_type": "display_data"
    },
    {
     "data": {
      "text/html": [
       "<b>Fuck</b> the police and <b>fuck</b> that construction company"
      ],
      "text/plain": [
       "<IPython.core.display.HTML object>"
      ]
     },
     "metadata": {},
     "output_type": "display_data"
    },
    {
     "name": "stdout",
     "output_type": "stream",
     "text": [
      "\n"
     ]
    },
    {
     "data": {
      "text/html": [
       "Nervous...  Try devastated.  We are so <b>screwed</b>.  Discuss."
      ],
      "text/plain": [
       "<IPython.core.display.HTML object>"
      ]
     },
     "metadata": {},
     "output_type": "display_data"
    },
    {
     "data": {
      "text/html": [
       "Nervous...  Try devastated.  We are so <b>screwed</b>.  Discuss."
      ],
      "text/plain": [
       "<IPython.core.display.HTML object>"
      ]
     },
     "metadata": {},
     "output_type": "display_data"
    },
    {
     "name": "stdout",
     "output_type": "stream",
     "text": [
      "\n"
     ]
    },
    {
     "data": {
      "text/html": [
       "Look up Maunder Minimum and the new Mini Ice Age.\n",
       "Instead of promoting climate rubbish and <b>stupidity</b> get a little savvy will ya.\n",
       "\n",
       "Of course you climate nutters and scammers will  use the Maunder Minimum and this new Ice Age to say it's climate change.\n",
       "\n",
       "BTW we are climate truthers not climate deniers.\n",
       "You are nothing but tax sucking vermin.\n",
       "You are sleaziest people around."
      ],
      "text/plain": [
       "<IPython.core.display.HTML object>"
      ]
     },
     "metadata": {},
     "output_type": "display_data"
    },
    {
     "data": {
      "text/html": [
       "Look up Maunder Minimum and the new Mini Ice Age.\n",
       "Instead of promoting climate rubbish and <b>stupidity</b> get a little savvy will ya.\n",
       "\n",
       "Of course you climate nutters and scammers will  use the Maunder Minimum and this new Ice Age to say it's climate change.\n",
       "\n",
       "BTW we are climate truthers not climate deniers.\n",
       "You are nothing but tax sucking vermin.\n",
       "You are sleaziest people around."
      ],
      "text/plain": [
       "<IPython.core.display.HTML object>"
      ]
     },
     "metadata": {},
     "output_type": "display_data"
    },
    {
     "name": "stdout",
     "output_type": "stream",
     "text": [
      "\n"
     ]
    },
    {
     "data": {
      "text/html": [
       "Lead contained entirely within the range and cleaned up at regular intervals?  /facepalm at your <b>idiocy</b>."
      ],
      "text/plain": [
       "<IPython.core.display.HTML object>"
      ]
     },
     "metadata": {},
     "output_type": "display_data"
    },
    {
     "data": {
      "text/html": [
       "Lead contained entirely within the range and cleaned up at regular intervals?  /facepalm at your <b>idiocy</b>."
      ],
      "text/plain": [
       "<IPython.core.display.HTML object>"
      ]
     },
     "metadata": {},
     "output_type": "display_data"
    },
    {
     "name": "stdout",
     "output_type": "stream",
     "text": [
      "\n"
     ]
    },
    {
     "data": {
      "text/html": [
       "Actually I think that those who voted for him or support him are far bigger <b>idiots</b> than trump is. He is what he is and what he always has been and what he always will be. People who voted for him can't claim that he mislead them."
      ],
      "text/plain": [
       "<IPython.core.display.HTML object>"
      ]
     },
     "metadata": {},
     "output_type": "display_data"
    },
    {
     "data": {
      "text/html": [
       "Actually I think that those who voted for him or support him are far bigger <b>idiots</b> than trump is. He is what he is and what he always has been and what he always will be. People who voted for him can't claim that he mislead them."
      ],
      "text/plain": [
       "<IPython.core.display.HTML object>"
      ]
     },
     "metadata": {},
     "output_type": "display_data"
    },
    {
     "name": "stdout",
     "output_type": "stream",
     "text": [
      "\n"
     ]
    },
    {
     "data": {
      "text/html": [
       "self centred <b>fools</b> are not what we need for leaders , so go back to your TV  acting O leery."
      ],
      "text/plain": [
       "<IPython.core.display.HTML object>"
      ]
     },
     "metadata": {},
     "output_type": "display_data"
    },
    {
     "data": {
      "text/html": [
       "self centred <b>fools</b> are not what we need for leaders , so go back to your TV  acting O leery."
      ],
      "text/plain": [
       "<IPython.core.display.HTML object>"
      ]
     },
     "metadata": {},
     "output_type": "display_data"
    },
    {
     "name": "stdout",
     "output_type": "stream",
     "text": [
      "\n"
     ]
    },
    {
     "data": {
      "text/html": [
       "He sure did act mature, but his legislation and moves as C.I.C. were not good at all.  Some politicians can glaze over their lousy work and get this public thinking they were something great when they really weren't.\n",
       "\n",
       "Trump's just a <b>fool</b> all around, though."
      ],
      "text/plain": [
       "<IPython.core.display.HTML object>"
      ]
     },
     "metadata": {},
     "output_type": "display_data"
    },
    {
     "data": {
      "text/html": [
       "He sure did act mature, but his legislation and moves as C.I.C. were not good at all.  Some politicians can glaze over their lousy work and get this public thinking they were something great when they really weren't.\n",
       "\n",
       "Trump's just a <b>fool</b> all around, though."
      ],
      "text/plain": [
       "<IPython.core.display.HTML object>"
      ]
     },
     "metadata": {},
     "output_type": "display_data"
    },
    {
     "name": "stdout",
     "output_type": "stream",
     "text": [
      "\n"
     ]
    },
    {
     "data": {
      "text/html": [
       "Crawl in a hole and die, <b>jerk</b>. And before anybody flags this as an uncivil comment, please read what I'm responding to."
      ],
      "text/plain": [
       "<IPython.core.display.HTML object>"
      ]
     },
     "metadata": {},
     "output_type": "display_data"
    },
    {
     "data": {
      "text/html": [
       "Crawl in a hole and die, <b>jerk</b>. And before anybody flags this as an uncivil comment, please read what I'm responding to."
      ],
      "text/plain": [
       "<IPython.core.display.HTML object>"
      ]
     },
     "metadata": {},
     "output_type": "display_data"
    },
    {
     "name": "stdout",
     "output_type": "stream",
     "text": [
      "\n"
     ]
    },
    {
     "data": {
      "text/html": [
       "Wow, Lisa Ho looks <b>foolish</b>."
      ],
      "text/plain": [
       "<IPython.core.display.HTML object>"
      ]
     },
     "metadata": {},
     "output_type": "display_data"
    },
    {
     "data": {
      "text/html": [
       "Wow, Lisa Ho looks <b>foolish</b>."
      ],
      "text/plain": [
       "<IPython.core.display.HTML object>"
      ]
     },
     "metadata": {},
     "output_type": "display_data"
    },
    {
     "name": "stdout",
     "output_type": "stream",
     "text": [
      "\n"
     ]
    },
    {
     "data": {
      "text/html": [
       "You're <b>pathetic</b>.  You voted for Trump because you believed his BS, because your widdle feewings got hurt and because you can't think for yourself."
      ],
      "text/plain": [
       "<IPython.core.display.HTML object>"
      ]
     },
     "metadata": {},
     "output_type": "display_data"
    },
    {
     "data": {
      "text/html": [
       "You're <b>pathetic</b>.  You voted for Trump because you believed his BS, because your widdle feewings got hurt and because you can't think for yourself."
      ],
      "text/plain": [
       "<IPython.core.display.HTML object>"
      ]
     },
     "metadata": {},
     "output_type": "display_data"
    },
    {
     "name": "stdout",
     "output_type": "stream",
     "text": [
      "\n"
     ]
    },
    {
     "data": {
      "text/html": [
       "This guy is an <b>idiot</b>. He was all in for shorting Canadian banks and probably took many down this road with him. He has now learned his lesson about how well run Canadian banks are."
      ],
      "text/plain": [
       "<IPython.core.display.HTML object>"
      ]
     },
     "metadata": {},
     "output_type": "display_data"
    },
    {
     "data": {
      "text/html": [
       "This guy is an <b>idiot</b>. He was all in for shorting Canadian banks and probably took many down this road with him. He has now learned his lesson about how well run Canadian banks are."
      ],
      "text/plain": [
       "<IPython.core.display.HTML object>"
      ]
     },
     "metadata": {},
     "output_type": "display_data"
    },
    {
     "name": "stdout",
     "output_type": "stream",
     "text": [
      "\n"
     ]
    },
    {
     "data": {
      "text/html": [
       "there are sick delusional people and liars, and old banister is clearly sick and lying living the left wing <b>stupid</b> world outside of reality"
      ],
      "text/plain": [
       "<IPython.core.display.HTML object>"
      ]
     },
     "metadata": {},
     "output_type": "display_data"
    },
    {
     "data": {
      "text/html": [
       "there are sick delusional people and liars, and old banister is clearly sick and lying living the left wing <b>stupid</b> world outside of reality"
      ],
      "text/plain": [
       "<IPython.core.display.HTML object>"
      ]
     },
     "metadata": {},
     "output_type": "display_data"
    },
    {
     "name": "stdout",
     "output_type": "stream",
     "text": [
      "\n"
     ]
    },
    {
     "data": {
      "text/html": [
       "And you are <b>stupidity</b> like your Fuhrer likes them..."
      ],
      "text/plain": [
       "<IPython.core.display.HTML object>"
      ]
     },
     "metadata": {},
     "output_type": "display_data"
    },
    {
     "data": {
      "text/html": [
       "And you are <b>stupidity</b> like your Fuhrer likes them..."
      ],
      "text/plain": [
       "<IPython.core.display.HTML object>"
      ]
     },
     "metadata": {},
     "output_type": "display_data"
    },
    {
     "name": "stdout",
     "output_type": "stream",
     "text": [
      "\n"
     ]
    },
    {
     "data": {
      "text/html": [
       "You cannot erase history. Why does the media give coverage to the most <b>foolish</b> ideas. Check out study by Princeton as to the criteria for removing names, statues etc"
      ],
      "text/plain": [
       "<IPython.core.display.HTML object>"
      ]
     },
     "metadata": {},
     "output_type": "display_data"
    },
    {
     "data": {
      "text/html": [
       "You cannot erase history. Why does the media give coverage to the most <b>foolish</b> ideas. Check out study by Princeton as to the criteria for removing names, statues etc"
      ],
      "text/plain": [
       "<IPython.core.display.HTML object>"
      ]
     },
     "metadata": {},
     "output_type": "display_data"
    },
    {
     "name": "stdout",
     "output_type": "stream",
     "text": [
      "\n"
     ]
    },
    {
     "data": {
      "text/html": [
       "Our country is now literally being run by Russian foreign agents. Really scary how easy it has been to put \"useful <b>idiots</b>\" in charge and how gullible Americans are."
      ],
      "text/plain": [
       "<IPython.core.display.HTML object>"
      ]
     },
     "metadata": {},
     "output_type": "display_data"
    },
    {
     "data": {
      "text/html": [
       "Our country is now literally being run by Russian foreign agents. Really scary how easy it has been to put \"useful <b>idiots</b>\" in charge and how gullible Americans are."
      ],
      "text/plain": [
       "<IPython.core.display.HTML object>"
      ]
     },
     "metadata": {},
     "output_type": "display_data"
    },
    {
     "name": "stdout",
     "output_type": "stream",
     "text": [
      "\n"
     ]
    },
    {
     "data": {
      "text/html": [
       "\"Is this Trump ( <b>idiot</b> ) going to go around bullying every institution that he finds \"offensive\"\n",
       "\n",
       "We get it, perfectly acceptable for the left to engage in this tactic but if the institute in question supports your position it's unacceptable."
      ],
      "text/plain": [
       "<IPython.core.display.HTML object>"
      ]
     },
     "metadata": {},
     "output_type": "display_data"
    },
    {
     "data": {
      "text/html": [
       "\"Is this Trump ( <b>idiot</b> ) going to go around bullying every institution that he finds \"offensive\"\n",
       "\n",
       "We get it, perfectly acceptable for the left to engage in this tactic but if the institute in question supports your position it's unacceptable."
      ],
      "text/plain": [
       "<IPython.core.display.HTML object>"
      ]
     },
     "metadata": {},
     "output_type": "display_data"
    },
    {
     "name": "stdout",
     "output_type": "stream",
     "text": [
      "\n"
     ]
    },
    {
     "data": {
      "text/html": [
       "Round up the thug protesters and tossem in here too. Maybe they might need a few years to think over how <b>stupid</b> they are"
      ],
      "text/plain": [
       "<IPython.core.display.HTML object>"
      ]
     },
     "metadata": {},
     "output_type": "display_data"
    },
    {
     "data": {
      "text/html": [
       "Round up the thug protesters and tossem in here too. Maybe they might need a few years to think over how <b>stupid</b> they are"
      ],
      "text/plain": [
       "<IPython.core.display.HTML object>"
      ]
     },
     "metadata": {},
     "output_type": "display_data"
    },
    {
     "name": "stdout",
     "output_type": "stream",
     "text": [
      "\n"
     ]
    },
    {
     "data": {
      "text/html": [
       "\"Look, the average Democrat voter is just plain <b>stupid</b>.  They're easy to \n",
       "manipulate.  That's the easy part.\" - Hillary Clinton, 2005"
      ],
      "text/plain": [
       "<IPython.core.display.HTML object>"
      ]
     },
     "metadata": {},
     "output_type": "display_data"
    },
    {
     "data": {
      "text/html": [
       "\"Look, the average Democrat voter is just plain <b>stupid</b>.  They're easy to \n",
       "manipulate.  That's the easy part.\" - Hillary Clinton, 2005"
      ],
      "text/plain": [
       "<IPython.core.display.HTML object>"
      ]
     },
     "metadata": {},
     "output_type": "display_data"
    },
    {
     "name": "stdout",
     "output_type": "stream",
     "text": [
      "\n"
     ]
    },
    {
     "data": {
      "text/html": [
       "Absolutely.  You're an <b>idiot</b>.\n",
       "I would consider it a subhuman being killed.\n",
       "zazzle.com/FirstPrinciples/products?rf=238518351914519699"
      ],
      "text/plain": [
       "<IPython.core.display.HTML object>"
      ]
     },
     "metadata": {},
     "output_type": "display_data"
    },
    {
     "data": {
      "text/html": [
       "Absolutely.  You're an <b>idiot</b>.\n",
       "I would consider it a subhuman being killed.\n",
       "zazzle.com/FirstPrinciples/products?rf=238518351914519699"
      ],
      "text/plain": [
       "<IPython.core.display.HTML object>"
      ]
     },
     "metadata": {},
     "output_type": "display_data"
    },
    {
     "name": "stdout",
     "output_type": "stream",
     "text": [
      "\n"
     ]
    },
    {
     "data": {
      "text/html": [
       "This might fit the current scene. \"when your dead you don't know your dead, it only affects those left behind, it is the same as when you are <b>stupid</b>."
      ],
      "text/plain": [
       "<IPython.core.display.HTML object>"
      ]
     },
     "metadata": {},
     "output_type": "display_data"
    },
    {
     "data": {
      "text/html": [
       "This might fit the current scene. \"when your dead you don't know your dead, it only affects those left behind, it is the same as when you are <b>stupid</b>."
      ],
      "text/plain": [
       "<IPython.core.display.HTML object>"
      ]
     },
     "metadata": {},
     "output_type": "display_data"
    },
    {
     "name": "stdout",
     "output_type": "stream",
     "text": [
      "\n"
     ]
    },
    {
     "data": {
      "text/html": [
       "Hope Trump cancels his Hawaii visit.  NK might just do something, <b>stupid</b>."
      ],
      "text/plain": [
       "<IPython.core.display.HTML object>"
      ]
     },
     "metadata": {},
     "output_type": "display_data"
    },
    {
     "data": {
      "text/html": [
       "Hope Trump cancels his Hawaii visit.  NK might just do something, <b>stupid</b>."
      ],
      "text/plain": [
       "<IPython.core.display.HTML object>"
      ]
     },
     "metadata": {},
     "output_type": "display_data"
    },
    {
     "name": "stdout",
     "output_type": "stream",
     "text": [
      "\n"
     ]
    },
    {
     "data": {
      "text/html": [
       "Lars is what is technically known as a \"<b>jerk</b>.\" Ignore him. He has no legitimate interest in what you have to say."
      ],
      "text/plain": [
       "<IPython.core.display.HTML object>"
      ]
     },
     "metadata": {},
     "output_type": "display_data"
    },
    {
     "data": {
      "text/html": [
       "Lars is what is technically known as a \"<b>jerk</b>.\" Ignore him. He has no legitimate interest in what you have to say."
      ],
      "text/plain": [
       "<IPython.core.display.HTML object>"
      ]
     },
     "metadata": {},
     "output_type": "display_data"
    },
    {
     "name": "stdout",
     "output_type": "stream",
     "text": [
      "\n"
     ]
    },
    {
     "data": {
      "text/html": [
       "<b>Idiot</b> occupying the White House insults mayor of London ... again"
      ],
      "text/plain": [
       "<IPython.core.display.HTML object>"
      ]
     },
     "metadata": {},
     "output_type": "display_data"
    },
    {
     "data": {
      "text/html": [
       "<b>Idiot</b> occupying the White House insults mayor of London ... again"
      ],
      "text/plain": [
       "<IPython.core.display.HTML object>"
      ]
     },
     "metadata": {},
     "output_type": "display_data"
    },
    {
     "name": "stdout",
     "output_type": "stream",
     "text": [
      "\n"
     ]
    },
    {
     "data": {
      "text/html": [
       "<b>Idiots</b> at the shallow end of the gene pool."
      ],
      "text/plain": [
       "<IPython.core.display.HTML object>"
      ]
     },
     "metadata": {},
     "output_type": "display_data"
    },
    {
     "data": {
      "text/html": [
       "<b>Idiots</b> at the shallow end of the gene pool."
      ],
      "text/plain": [
       "<IPython.core.display.HTML object>"
      ]
     },
     "metadata": {},
     "output_type": "display_data"
    },
    {
     "name": "stdout",
     "output_type": "stream",
     "text": [
      "\n"
     ]
    },
    {
     "data": {
      "text/html": [
       "Not my problem, you want police service?? Pay for it. Expensive and not necessary. Police are expensive and spend too much time creating revenue. Watch the news, they think they are a branch of the military. <b>Idiots</b> one and all."
      ],
      "text/plain": [
       "<IPython.core.display.HTML object>"
      ]
     },
     "metadata": {},
     "output_type": "display_data"
    },
    {
     "data": {
      "text/html": [
       "Not my problem, you want police service?? Pay for it. Expensive and not necessary. Police are expensive and spend too much time creating revenue. Watch the news, they think they are a branch of the military. <b>Idiots</b> one and all."
      ],
      "text/plain": [
       "<IPython.core.display.HTML object>"
      ]
     },
     "metadata": {},
     "output_type": "display_data"
    },
    {
     "name": "stdout",
     "output_type": "stream",
     "text": [
      "\n"
     ]
    },
    {
     "data": {
      "text/html": [
       "You forgot the Comet Pizza <b>idiot</b>."
      ],
      "text/plain": [
       "<IPython.core.display.HTML object>"
      ]
     },
     "metadata": {},
     "output_type": "display_data"
    },
    {
     "data": {
      "text/html": [
       "You forgot the Comet Pizza <b>idiot</b>."
      ],
      "text/plain": [
       "<IPython.core.display.HTML object>"
      ]
     },
     "metadata": {},
     "output_type": "display_data"
    },
    {
     "name": "stdout",
     "output_type": "stream",
     "text": [
      "\n"
     ]
    },
    {
     "data": {
      "text/html": [
       "Leave it to the tinfoil hat wearers to waste tax payers money on this <b>stupid</b> lawsuit!"
      ],
      "text/plain": [
       "<IPython.core.display.HTML object>"
      ]
     },
     "metadata": {},
     "output_type": "display_data"
    },
    {
     "data": {
      "text/html": [
       "Leave it to the tinfoil hat wearers to waste tax payers money on this <b>stupid</b> lawsuit!"
      ],
      "text/plain": [
       "<IPython.core.display.HTML object>"
      ]
     },
     "metadata": {},
     "output_type": "display_data"
    },
    {
     "name": "stdout",
     "output_type": "stream",
     "text": [
      "\n"
     ]
    }
   ],
   "source": [
    "total = 0\n",
    "for i, row in final_test.iterrows():\n",
    "    if row.spans == row.pred_spans:\n",
    "        display_spans(row.spans, row.text)\n",
    "        display_spans(row.pred_spans, row.text)\n",
    "        print()\n",
    "        total += 1\n",
    "        if total >= 100:\n",
    "            break"
   ]
  },
  {
   "cell_type": "markdown",
   "metadata": {},
   "source": [
    "Bad examples"
   ]
  },
  {
   "cell_type": "code",
   "execution_count": 24,
   "metadata": {},
   "outputs": [
    {
     "data": {
      "text/html": [
       "That's right. They are not normal. And I am starting from the premise that they are <b>ABNORMAL</b>. Proceed wth the typical racist, bigot, <b>sexist rubbish</b>.\n",
       "Thanks!"
      ],
      "text/plain": [
       "<IPython.core.display.HTML object>"
      ]
     },
     "metadata": {},
     "output_type": "display_data"
    },
    {
     "data": {
      "text/html": [
       "That's right. They are not normal. And I am starting from the premise that they are ABNORMAL. Proceed wth the typical racist, <b>bigot</b>, <b>sexist rubbish</b>.\n",
       "Thanks!"
      ],
      "text/plain": [
       "<IPython.core.display.HTML object>"
      ]
     },
     "metadata": {},
     "output_type": "display_data"
    },
    {
     "name": "stdout",
     "output_type": "stream",
     "text": [
      "\n"
     ]
    },
    {
     "data": {
      "text/html": [
       "tens years ago i contacted the PDR and suggested that the time might be good to work with alaska on building a gas line.. alaska rejected them without even consideration despite china being flush with cash and hungry for gas.. and set up another infamous boondoggle.. the transcanada-exxon rip off that we are still paying for and have yet to receive anything of value.. hundreds of millions of dollars on studies.. and buyouts.. i hope china says f you alaska.. you are nothing but ignorant people.."
      ],
      "text/plain": [
       "<IPython.core.display.HTML object>"
      ]
     },
     "metadata": {},
     "output_type": "display_data"
    },
    {
     "data": {
      "text/html": [
       "tens years ago i contacted the PDR and suggested that the time might be good to work with alaska on building a gas line.. alaska rejected them without even consideration despite china being flush with cash and hungry for gas.. and set up another infamous boondoggle.. the transcanada-exxon rip off that we are still paying for and have yet to receive anything of value.. hundreds of millions of dollars on studies.. and buyouts.. i hope china says f you alaska.. you are nothing but <b>ignorant</b> people.."
      ],
      "text/plain": [
       "<IPython.core.display.HTML object>"
      ]
     },
     "metadata": {},
     "output_type": "display_data"
    },
    {
     "name": "stdout",
     "output_type": "stream",
     "text": [
      "\n"
     ]
    },
    {
     "data": {
      "text/html": [
       "The parallels between the ANC and the Sicilian Mafia are glaring. The ANC has always been run by a few \"families\" who treat the state as 'turf' ; as just one big piggy bank for their self-enrichment. The government basically believes we all just work for them. They aren't a democratic government at all, but use the appearances of democracy to give their entitlement practices a mask of legitimacy. The poor and ignorant have been fooled for so long, but people are slowly coming to the ANC for what it is: a self-serving Mafia!"
      ],
      "text/plain": [
       "<IPython.core.display.HTML object>"
      ]
     },
     "metadata": {},
     "output_type": "display_data"
    },
    {
     "data": {
      "text/html": [
       "The parallels between the ANC and the Sicilian Mafia are glaring. The ANC has always been run by a few \"families\" who treat the state as 'turf' ; as just one big piggy bank for their self-enrichment. The government basically believes we all just work for them. They aren't a democratic government at all, but use the appearances of democracy to give their entitlement practices a mask of legitimacy. The poor and <b>ignorant</b> have been fooled for so long, but people are slowly coming to the ANC for what it is: a self-serving Mafia!"
      ],
      "text/plain": [
       "<IPython.core.display.HTML object>"
      ]
     },
     "metadata": {},
     "output_type": "display_data"
    },
    {
     "name": "stdout",
     "output_type": "stream",
     "text": [
      "\n"
     ]
    },
    {
     "data": {
      "text/html": [
       "A rock has more mental horsepower than the indubitably <b>ignorant</b>. And more integrity as well. They're largely very <b>dishonest people</b> who repeat the same lies over and over. Just like their 🍊 hero."
      ],
      "text/plain": [
       "<IPython.core.display.HTML object>"
      ]
     },
     "metadata": {},
     "output_type": "display_data"
    },
    {
     "data": {
      "text/html": [
       "A rock has more mental horsepower than the indubitably <b>ignorant</b>. And more integrity as well. They're largely very dishonest people who repeat the same lies over and over. Just like their 🍊 hero."
      ],
      "text/plain": [
       "<IPython.core.display.HTML object>"
      ]
     },
     "metadata": {},
     "output_type": "display_data"
    },
    {
     "name": "stdout",
     "output_type": "stream",
     "text": [
      "\n"
     ]
    },
    {
     "data": {
      "text/html": [
       "Ha ha, HILLARY LOST. All you hillary <b>fools</b> need to be rounded up and put in prison along with your leader. You are all anti--American scum. Perhaps we should <b>dump</b> you in Mexico along with all the illegal <b>trash</b> you let in....if you love 'em so much, go live with 'em. But you are not welcome here, you hate filled Marxist morons."
      ],
      "text/plain": [
       "<IPython.core.display.HTML object>"
      ]
     },
     "metadata": {},
     "output_type": "display_data"
    },
    {
     "data": {
      "text/html": [
       "Ha ha, HILLARY LOST. All you hillary <b>fools</b> need to be rounded up and put in prison along with your leader. You are all anti--American scum. Perhaps we should dump you in Mexico along with all the illegal trash you let in....if you love 'em so much, go live with 'em. But you are not welcome here, you hate filled Marxist <b>mor</b>ons."
      ],
      "text/plain": [
       "<IPython.core.display.HTML object>"
      ]
     },
     "metadata": {},
     "output_type": "display_data"
    },
    {
     "name": "stdout",
     "output_type": "stream",
     "text": [
      "\n"
     ]
    },
    {
     "data": {
      "text/html": [
       "<b>Trump troll</b>..."
      ],
      "text/plain": [
       "<IPython.core.display.HTML object>"
      ]
     },
     "metadata": {},
     "output_type": "display_data"
    },
    {
     "data": {
      "text/html": [
       "Trump <b>troll</b>..."
      ],
      "text/plain": [
       "<IPython.core.display.HTML object>"
      ]
     },
     "metadata": {},
     "output_type": "display_data"
    },
    {
     "name": "stdout",
     "output_type": "stream",
     "text": [
      "\n"
     ]
    },
    {
     "data": {
      "text/html": [
       "ADN is endorsing, without officially endorsing.  <b>Bunch of cowards</b>!!!"
      ],
      "text/plain": [
       "<IPython.core.display.HTML object>"
      ]
     },
     "metadata": {},
     "output_type": "display_data"
    },
    {
     "data": {
      "text/html": [
       "ADN is endorsing, without officially endorsing.  Bunch of <b>cowards</b>!!!"
      ],
      "text/plain": [
       "<IPython.core.display.HTML object>"
      ]
     },
     "metadata": {},
     "output_type": "display_data"
    },
    {
     "name": "stdout",
     "output_type": "stream",
     "text": [
      "\n"
     ]
    },
    {
     "data": {
      "text/html": [
       "Rabidly <b>anti-Canadian</b> troll."
      ],
      "text/plain": [
       "<IPython.core.display.HTML object>"
      ]
     },
     "metadata": {},
     "output_type": "display_data"
    },
    {
     "data": {
      "text/html": [
       "Rabidly anti-Canadian <b>troll</b>."
      ],
      "text/plain": [
       "<IPython.core.display.HTML object>"
      ]
     },
     "metadata": {},
     "output_type": "display_data"
    },
    {
     "name": "stdout",
     "output_type": "stream",
     "text": [
      "\n"
     ]
    },
    {
     "data": {
      "text/html": [
       "I wish this moron would have been shot to death by the US soldier instead of the other way around. I hope that 10 million is given to the soldier's family who actually deserve it."
      ],
      "text/plain": [
       "<IPython.core.display.HTML object>"
      ]
     },
     "metadata": {},
     "output_type": "display_data"
    },
    {
     "data": {
      "text/html": [
       "I wish this <b>moron</b> would have been shot to death by the US soldier instead of the other way around. I hope that 10 million is given to the soldier's family who actually deserve it."
      ],
      "text/plain": [
       "<IPython.core.display.HTML object>"
      ]
     },
     "metadata": {},
     "output_type": "display_data"
    },
    {
     "name": "stdout",
     "output_type": "stream",
     "text": [
      "\n"
     ]
    },
    {
     "data": {
      "text/html": [
       "Chris Birch is a mean, self-centered, contrary ass. He repeatedly interrupted Robin Brena during his presentation and always, always sucks up to Big Oil. He could care less about his constituents and the rest of Alaska. He needs to get gone. What has he done for you, South Anchorage? Sarcastic is the perfect adjective for Chris Birch!"
      ],
      "text/plain": [
       "<IPython.core.display.HTML object>"
      ]
     },
     "metadata": {},
     "output_type": "display_data"
    },
    {
     "data": {
      "text/html": [
       "Chris Birch is a mean, self-centered, contrary <b>ass</b>. He repeatedly interrupted Robin Brena during his presentation and always, always sucks up to Big Oil. He could care less about his constituents and the rest of Alaska. He needs to get gone. What has he done for you, South Anchorage? Sarcastic is the perfect adjective for Chris Birch!"
      ],
      "text/plain": [
       "<IPython.core.display.HTML object>"
      ]
     },
     "metadata": {},
     "output_type": "display_data"
    },
    {
     "name": "stdout",
     "output_type": "stream",
     "text": [
      "\n"
     ]
    },
    {
     "data": {
      "text/html": [
       "I always knew you were a dirty cop."
      ],
      "text/plain": [
       "<IPython.core.display.HTML object>"
      ]
     },
     "metadata": {},
     "output_type": "display_data"
    },
    {
     "data": {
      "text/html": [
       "I always knew you were a <b>dirty</b> cop."
      ],
      "text/plain": [
       "<IPython.core.display.HTML object>"
      ]
     },
     "metadata": {},
     "output_type": "display_data"
    },
    {
     "name": "stdout",
     "output_type": "stream",
     "text": [
      "\n"
     ]
    },
    {
     "data": {
      "text/html": [
       "No, my poor <b>benighted</b> correspondent, your reductionism reveals an archaic mindset. Intersex, questioning, nongendered, and a vast variety of others have rights too!"
      ],
      "text/plain": [
       "<IPython.core.display.HTML object>"
      ]
     },
     "metadata": {},
     "output_type": "display_data"
    },
    {
     "data": {
      "text/html": [
       "No, my poor benighted correspondent, your reductionism reveals an archaic mindset. Intersex, questioning, nongendered, and a vast variety of others have rights too!"
      ],
      "text/plain": [
       "<IPython.core.display.HTML object>"
      ]
     },
     "metadata": {},
     "output_type": "display_data"
    },
    {
     "name": "stdout",
     "output_type": "stream",
     "text": [
      "\n"
     ]
    },
    {
     "data": {
      "text/html": [
       "You are a <b>simpleton</b>, who is full of racial hatred.  That is too bad.  You make America a worse place."
      ],
      "text/plain": [
       "<IPython.core.display.HTML object>"
      ]
     },
     "metadata": {},
     "output_type": "display_data"
    },
    {
     "data": {
      "text/html": [
       "You are a simple<b>ton</b>, who is full of racial hatred.  That is too bad.  You make America a worse place."
      ],
      "text/plain": [
       "<IPython.core.display.HTML object>"
      ]
     },
     "metadata": {},
     "output_type": "display_data"
    },
    {
     "name": "stdout",
     "output_type": "stream",
     "text": [
      "\n"
     ]
    },
    {
     "data": {
      "text/html": [
       "When you consider the source - he writes like the Trump we've all come to know -  \"I could stand in the middle of 5th Avenue and shoot somebody and I wouldn't lose voters\", a <b>racist</b>, \n",
       "<b>misgynistic</b>, liar who only brings hate to the table."
      ],
      "text/plain": [
       "<IPython.core.display.HTML object>"
      ]
     },
     "metadata": {},
     "output_type": "display_data"
    },
    {
     "data": {
      "text/html": [
       "When you consider the source - he writes like the Trump we've all come to know -  \"I could stand in the middle of 5th Avenue and shoot somebody and I wouldn't lose voters\", a racist, \n",
       "misgynistic, <b>liar</b> who only brings hate to the table."
      ],
      "text/plain": [
       "<IPython.core.display.HTML object>"
      ]
     },
     "metadata": {},
     "output_type": "display_data"
    },
    {
     "name": "stdout",
     "output_type": "stream",
     "text": [
      "\n"
     ]
    },
    {
     "data": {
      "text/html": [
       "Lord have Mercy on us, Trump is running <b>amok</b>."
      ],
      "text/plain": [
       "<IPython.core.display.HTML object>"
      ]
     },
     "metadata": {},
     "output_type": "display_data"
    },
    {
     "data": {
      "text/html": [
       "Lord have Mercy on us, Trump is running <b>am</b>ok."
      ],
      "text/plain": [
       "<IPython.core.display.HTML object>"
      ]
     },
     "metadata": {},
     "output_type": "display_data"
    },
    {
     "name": "stdout",
     "output_type": "stream",
     "text": [
      "\n"
     ]
    },
    {
     "data": {
      "text/html": [
       "<b>Total rubbish</b>! The birther bit was started by Crooked Hillary and perpetuated by Zero his own damn self."
      ],
      "text/plain": [
       "<IPython.core.display.HTML object>"
      ]
     },
     "metadata": {},
     "output_type": "display_data"
    },
    {
     "data": {
      "text/html": [
       "Total <b>rubbish</b>! The birther bit was started by Crooked Hillary and perpetuated by Zero his own <b>damn</b> self."
      ],
      "text/plain": [
       "<IPython.core.display.HTML object>"
      ]
     },
     "metadata": {},
     "output_type": "display_data"
    },
    {
     "name": "stdout",
     "output_type": "stream",
     "text": [
      "\n"
     ]
    },
    {
     "data": {
      "text/html": [
       "Just kind of funny the way liberals who like to carry on about how educated and sophisticated and global they are and how the rest of us are just a bunch of <b>dumb</b> parochial hicks always end up unmasking themselves as <b>ignorant blockheads</b>."
      ],
      "text/plain": [
       "<IPython.core.display.HTML object>"
      ]
     },
     "metadata": {},
     "output_type": "display_data"
    },
    {
     "data": {
      "text/html": [
       "Just kind of funny the way liberals who like to carry on about how educated and sophisticated and global they are and how the rest of us are just a bunch of dumb parochial hicks always end up unmasking themselves as ignorant blockheads."
      ],
      "text/plain": [
       "<IPython.core.display.HTML object>"
      ]
     },
     "metadata": {},
     "output_type": "display_data"
    },
    {
     "name": "stdout",
     "output_type": "stream",
     "text": [
      "\n"
     ]
    },
    {
     "data": {
      "text/html": [
       "People who are anti-immigration are weak, lying, <b>racist whiners</b>."
      ],
      "text/plain": [
       "<IPython.core.display.HTML object>"
      ]
     },
     "metadata": {},
     "output_type": "display_data"
    },
    {
     "data": {
      "text/html": [
       "People who are anti-immigration are weak, <b>lying</b>, <b>racist</b> whiners."
      ],
      "text/plain": [
       "<IPython.core.display.HTML object>"
      ]
     },
     "metadata": {},
     "output_type": "display_data"
    },
    {
     "name": "stdout",
     "output_type": "stream",
     "text": [
      "\n"
     ]
    },
    {
     "data": {
      "text/html": [
       "Your the SAD, <b>PATHETIC LIB LOSER</b>, go AWAY"
      ],
      "text/plain": [
       "<IPython.core.display.HTML object>"
      ]
     },
     "metadata": {},
     "output_type": "display_data"
    },
    {
     "data": {
      "text/html": [
       "Your the SAD, PATH<b>ET</b>IC LIB <b>LOS</b>ER, go AWAY"
      ],
      "text/plain": [
       "<IPython.core.display.HTML object>"
      ]
     },
     "metadata": {},
     "output_type": "display_data"
    },
    {
     "name": "stdout",
     "output_type": "stream",
     "text": [
      "\n"
     ]
    },
    {
     "data": {
      "text/html": [
       "Some people don’t need dope to be <b>dopey</b>."
      ],
      "text/plain": [
       "<IPython.core.display.HTML object>"
      ]
     },
     "metadata": {},
     "output_type": "display_data"
    },
    {
     "data": {
      "text/html": [
       "Some people don’t need dope to be do<b>pey."
      ],
      "text/plain": [
       "<IPython.core.display.HTML object>"
      ]
     },
     "metadata": {},
     "output_type": "display_data"
    },
    {
     "name": "stdout",
     "output_type": "stream",
     "text": [
      "\n"
     ]
    }
   ],
   "source": [
    "total = 0\n",
    "for i, row in final_test.iterrows():\n",
    "    if row.spans != row.pred_spans:\n",
    "        display_spans(row.spans, row.text)\n",
    "        display_spans(row.pred_spans, row.text)\n",
    "        print()\n",
    "        total += 1\n",
    "        if total >= 20:\n",
    "            break"
   ]
  },
  {
   "cell_type": "code",
   "execution_count": null,
   "metadata": {},
   "outputs": [],
   "source": []
  }
 ],
 "metadata": {
  "kernelspec": {
   "display_name": "p3k",
   "language": "python",
   "name": "p3k"
  },
  "language_info": {
   "codemirror_mode": {
    "name": "ipython",
    "version": 3
   },
   "file_extension": ".py",
   "mimetype": "text/x-python",
   "name": "python",
   "nbconvert_exporter": "python",
   "pygments_lexer": "ipython3",
   "version": "3.7.4"
  }
 },
 "nbformat": 4,
 "nbformat_minor": 4
}
