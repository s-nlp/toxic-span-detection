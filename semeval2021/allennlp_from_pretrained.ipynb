{
 "cells": [
  {
   "cell_type": "code",
   "execution_count": 7,
   "metadata": {},
   "outputs": [
    {
     "name": "stdout",
     "output_type": "stream",
     "text": [
      "Wed Dec  9 19:51:03 2020       \n",
      "+-----------------------------------------------------------------------------+\n",
      "| NVIDIA-SMI 440.100      Driver Version: 440.100      CUDA Version: 10.2     |\n",
      "|-------------------------------+----------------------+----------------------+\n",
      "| GPU  Name        Persistence-M| Bus-Id        Disp.A | Volatile Uncorr. ECC |\n",
      "| Fan  Temp  Perf  Pwr:Usage/Cap|         Memory-Usage | GPU-Util  Compute M. |\n",
      "|===============================+======================+======================|\n",
      "|   0  GeForce RTX 208...  Off  | 00000000:1A:00.0 Off |                  N/A |\n",
      "| 27%   32C    P8    25W / 260W |   5990MiB / 11019MiB |      0%      Default |\n",
      "+-------------------------------+----------------------+----------------------+\n",
      "|   1  GeForce RTX 208...  Off  | 00000000:1B:00.0 Off |                  N/A |\n",
      "| 31%   45C    P2    60W / 260W |   6938MiB / 11019MiB |      7%      Default |\n",
      "+-------------------------------+----------------------+----------------------+\n",
      "|   2  GeForce RTX 208...  Off  | 00000000:1C:00.0 Off |                  N/A |\n",
      "| 27%   30C    P8     5W / 260W |   9528MiB / 11019MiB |      0%      Default |\n",
      "+-------------------------------+----------------------+----------------------+\n",
      "|   3  GeForce RTX 208...  Off  | 00000000:1E:00.0 Off |                  N/A |\n",
      "| 27%   28C    P8    10W / 260W |    966MiB / 11019MiB |      0%      Default |\n",
      "+-------------------------------+----------------------+----------------------+\n",
      "|   4  GeForce RTX 208...  Off  | 00000000:3D:00.0 Off |                  N/A |\n",
      "| 27%   42C    P2    48W / 260W |   1064MiB / 11019MiB |      0%      Default |\n",
      "+-------------------------------+----------------------+----------------------+\n",
      "|   5  GeForce RTX 208...  Off  | 00000000:3E:00.0 Off |                  N/A |\n",
      "| 27%   28C    P8    15W / 260W |     11MiB / 11019MiB |      0%      Default |\n",
      "+-------------------------------+----------------------+----------------------+\n",
      "|   6  GeForce RTX 208...  Off  | 00000000:40:00.0 Off |                  N/A |\n",
      "| 27%   27C    P8     9W / 260W |     11MiB / 11019MiB |      0%      Default |\n",
      "+-------------------------------+----------------------+----------------------+\n",
      "|   7  GeForce RTX 208...  Off  | 00000000:41:00.0 Off |                  N/A |\n",
      "| 27%   31C    P8    26W / 260W |   1340MiB / 11019MiB |      0%      Default |\n",
      "+-------------------------------+----------------------+----------------------+\n",
      "                                                                               \n",
      "+-----------------------------------------------------------------------------+\n",
      "| Processes:                                                       GPU Memory |\n",
      "|  GPU       PID   Type   Process name                             Usage      |\n",
      "|=============================================================================|\n",
      "|    0     20345      C   /opt/.pyenv/versions/3.7.4/bin/python       1057MiB |\n",
      "|    0     22533      C   /opt/.pyenv/versions/3.7.4/bin/python       1103MiB |\n",
      "|    0     23791      C   /opt/.pyenv/versions/3.7.4/bin/python       3819MiB |\n",
      "|    1     21885      C   python                                      6927MiB |\n",
      "|    2      8833      C   /opt/.pyenv/versions/3.7.4/bin/python       9517MiB |\n",
      "|    3     24491      C   python                                       955MiB |\n",
      "|    4     24491      C   python                                      1053MiB |\n",
      "|    7      9443      C   /home/logacheva/anaconda3/bin/python        1329MiB |\n",
      "+-----------------------------------------------------------------------------+\n"
     ]
    }
   ],
   "source": [
    "!nvidia-smi"
   ]
  },
  {
   "cell_type": "code",
   "execution_count": 8,
   "metadata": {},
   "outputs": [],
   "source": [
    "import sys\n",
    "import datetime\n",
    "\n",
    "\n",
    "import torch\n",
    "import numpy as np\n",
    "from pathlib import Path\n",
    "\n",
    "\n",
    "\n",
    "from torch.utils.data import DataLoader\n",
    "from allennlp.data import allennlp_collate\n",
    "from allennlp.training.util import evaluate\n",
    "from allennlp.predictors import SentenceTaggerPredictor\n",
    "from allennlp.modules.text_field_embedders import BasicTextFieldEmbedder\n",
    "from allennlp.data.dataset_readers.sequence_tagging import SequenceTaggingDatasetReader\n",
    "from allennlp.data.vocabulary import Vocabulary\n",
    "from allennlp.data.token_indexers import PretrainedTransformerMismatchedIndexer\n",
    "\n",
    "from allennlp.nn.initializers import PretrainedModelInitializer, InitializerApplicator\n",
    "\n",
    "\n",
    "from transformers import RobertaModel\n",
    "\n",
    "seed=1\n",
    "torch.manual_seed(seed)\n",
    "np.random.seed(seed)"
   ]
  },
  {
   "cell_type": "code",
   "execution_count": 9,
   "metadata": {},
   "outputs": [
    {
     "name": "stdout",
     "output_type": "stream",
     "text": [
      "GeForce RTX 2080 Ti\n",
      "GeForce RTX 2080 Ti\n",
      "GeForce RTX 2080 Ti\n",
      "GeForce RTX 2080 Ti\n",
      "GeForce RTX 2080 Ti\n",
      "GeForce RTX 2080 Ti\n",
      "GeForce RTX 2080 Ti\n",
      "GeForce RTX 2080 Ti\n"
     ]
    }
   ],
   "source": [
    "cuda_device = torch.device('cuda:5')\n",
    "n_gpu = torch.cuda.device_count()\n",
    "\n",
    "for i in range(n_gpu):\n",
    "    print(torch.cuda.get_device_name(i))"
   ]
  },
  {
   "cell_type": "code",
   "execution_count": 10,
   "metadata": {},
   "outputs": [],
   "source": [
    "data_folder = './data'\n",
    "pretrained_roberta_bin = '../toxicity/models/roberta_base/pytorch_model.bin'\n",
    "pretrained_roberta_folder = '../toxicity/models/roberta_base'\n",
    "ROBERTA_MODEL = 'roberta-base'\n",
    "LOG_PATH=Path('../logs/')\n",
    "LOG_PATH.mkdir(exist_ok=True)\n",
    "run_start_time = datetime.datetime.today().strftime('%Y-%m-%d_%H-%M-%S')"
   ]
  },
  {
   "cell_type": "code",
   "execution_count": 11,
   "metadata": {},
   "outputs": [],
   "source": [
    "import logging\n",
    "\n",
    "logfile = str(LOG_PATH/'log-{}-{}.txt'.format(run_start_time, 'TEST'))\n",
    "\n",
    "logging.basicConfig(\n",
    "    level=logging.INFO,\n",
    "    format='%(asctime)s - %(levelname)s - %(name)s -   %(message)s',\n",
    "    datefmt='%m/%d/%Y %H:%M:%S',\n",
    "    handlers=[\n",
    "        logging.FileHandler(logfile),\n",
    "        logging.StreamHandler(sys.stdout)\n",
    "    ])\n",
    "\n",
    "logger = logging.getLogger()"
   ]
  },
  {
   "cell_type": "code",
   "execution_count": 12,
   "metadata": {},
   "outputs": [],
   "source": [
    "def get_parameter_overrides():\n",
    "    from allennlp.models import SimpleTagger\n",
    "    model = SimpleTagger(text_field_embedder=text_field_embedder, \n",
    "                      vocab=vocab, \n",
    "                      encoder=seq2seq_encoder,\n",
    "                      calculate_span_f1=True,\n",
    "                      label_encoding='IOB1').cuda(device=cuda_device)\n",
    "    pretrained_roberta = PretrainedModelInitializer(pretrained_roberta_bin)\n",
    "    allen_layer_names = list(model.state_dict().keys())\n",
    "    trans_layer_names = list(pretrained_roberta.weights.keys())\n",
    "    allen_fig = allen_layer_names[:len(trans_layer_names)]\n",
    "    trans_fig = trans_layer_names\n",
    "    overrides_dict = dict(zip(allen_fig, trans_fig))\n",
    "    positions = '|'.join(allen_fig)\n",
    "    return overrides_dict, positions"
   ]
  },
  {
   "cell_type": "markdown",
   "metadata": {},
   "source": [
    "## Model"
   ]
  },
  {
   "cell_type": "code",
   "execution_count": 13,
   "metadata": {},
   "outputs": [],
   "source": [
    "indexer = PretrainedTransformerMismatchedIndexer(model_name=ROBERTA_MODEL)"
   ]
  },
  {
   "cell_type": "code",
   "execution_count": 14,
   "metadata": {},
   "outputs": [
    {
     "data": {
      "text/plain": [
       "[<s>, We, are, living, in, M, Ã¶n, che, ng, lad, bach, </s>]"
      ]
     },
     "execution_count": 14,
     "metadata": {},
     "output_type": "execute_result"
    }
   ],
   "source": [
    "wordpieces, offsets = indexer._allennlp_tokenizer.intra_word_tokenize(['We', 'are', 'living', 'in', 'Mönchengladbach'])\n",
    "wordpieces"
   ]
  },
  {
   "cell_type": "code",
   "execution_count": 15,
   "metadata": {},
   "outputs": [
    {
     "data": {
      "application/vnd.jupyter.widget-view+json": {
       "model_id": "cfda0b318851479aaca9101ec04fdc2d",
       "version_major": 2,
       "version_minor": 0
      },
      "text/plain": [
       "HBox(children=(FloatProgress(value=1.0, bar_style='info', description='reading instances', layout=Layout(width…"
      ]
     },
     "metadata": {},
     "output_type": "display_data"
    },
    {
     "name": "stdout",
     "output_type": "stream",
     "text": [
      "12/09/2020 19:51:10 - INFO - allennlp.data.dataset_readers.sequence_tagging -   Reading instances from lines in file at: data/train.seq\n"
     ]
    },
    {
     "name": "stderr",
     "output_type": "stream",
     "text": [
      "\n"
     ]
    },
    {
     "data": {
      "application/vnd.jupyter.widget-view+json": {
       "model_id": "8d286fd950af4a41916f8e85060bbe4f",
       "version_major": 2,
       "version_minor": 0
      },
      "text/plain": [
       "HBox(children=(FloatProgress(value=1.0, bar_style='info', description='reading instances', layout=Layout(width…"
      ]
     },
     "metadata": {},
     "output_type": "display_data"
    },
    {
     "name": "stdout",
     "output_type": "stream",
     "text": [
      "12/09/2020 19:51:11 - INFO - allennlp.data.dataset_readers.sequence_tagging -   Reading instances from lines in file at: data/dev.seq\n"
     ]
    },
    {
     "name": "stderr",
     "output_type": "stream",
     "text": [
      "\n"
     ]
    },
    {
     "data": {
      "application/vnd.jupyter.widget-view+json": {
       "model_id": "fa18ef23fda04a7cb1e9805e970cd7ee",
       "version_major": 2,
       "version_minor": 0
      },
      "text/plain": [
       "HBox(children=(FloatProgress(value=1.0, bar_style='info', description='reading instances', layout=Layout(width…"
      ]
     },
     "metadata": {},
     "output_type": "display_data"
    },
    {
     "name": "stdout",
     "output_type": "stream",
     "text": [
      "12/09/2020 19:51:11 - INFO - allennlp.data.dataset_readers.sequence_tagging -   Reading instances from lines in file at: data/trial.seq\n"
     ]
    },
    {
     "name": "stderr",
     "output_type": "stream",
     "text": [
      "\n"
     ]
    }
   ],
   "source": [
    "reader = SequenceTaggingDatasetReader(token_indexers={'tokens' : indexer})\n",
    "train_dataset = reader.read('data/train.seq')\n",
    "dev_dataset = reader.read('data/dev.seq')\n",
    "test_dataset = reader.read('data/trial.seq')"
   ]
  },
  {
   "cell_type": "code",
   "execution_count": 16,
   "metadata": {},
   "outputs": [
    {
     "name": "stdout",
     "output_type": "stream",
     "text": [
      "12/09/2020 19:51:12 - INFO - allennlp.data.vocabulary -   Fitting token dictionary from dataset.\n"
     ]
    },
    {
     "data": {
      "application/vnd.jupyter.widget-view+json": {
       "model_id": "06aadafd004340cc83766a3e4c6a5fca",
       "version_major": 2,
       "version_minor": 0
      },
      "text/plain": [
       "HBox(children=(FloatProgress(value=0.0, description='building vocab', max=6351.0, style=ProgressStyle(descript…"
      ]
     },
     "metadata": {},
     "output_type": "display_data"
    },
    {
     "name": "stderr",
     "output_type": "stream",
     "text": [
      "\n"
     ]
    }
   ],
   "source": [
    "vocab = Vocabulary.from_instances(train_dataset.instances)\n",
    "train_dataset.index_with(vocab)\n",
    "dev_dataset.index_with(vocab)\n",
    "test_dataset.index_with(vocab)"
   ]
  },
  {
   "cell_type": "code",
   "execution_count": 17,
   "metadata": {},
   "outputs": [],
   "source": [
    "from allennlp.modules.token_embedders import PretrainedTransformerMismatchedEmbedder\n",
    "from allennlp.modules.text_field_embedders import BasicTextFieldEmbedder\n",
    "from allennlp.modules.seq2seq_encoders import PassThroughEncoder\n",
    "\n",
    "\n",
    "embedder = PretrainedTransformerMismatchedEmbedder(model_name=ROBERTA_MODEL)\n",
    "text_field_embedder = BasicTextFieldEmbedder({'tokens': embedder})\n",
    "seq2seq_encoder = PassThroughEncoder(input_dim=embedder.get_output_dim())"
   ]
  },
  {
   "cell_type": "code",
   "execution_count": null,
   "metadata": {},
   "outputs": [],
   "source": [
    "parameter_name_overrides, positions = get_parameter_overrides()"
   ]
  },
  {
   "cell_type": "code",
   "execution_count": 19,
   "metadata": {},
   "outputs": [],
   "source": [
    "pretrained_roberta = PretrainedModelInitializer(pretrained_roberta_bin, \n",
    "                                                parameter_name_overrides)"
   ]
  },
  {
   "cell_type": "code",
   "execution_count": 20,
   "metadata": {},
   "outputs": [],
   "source": [
    "initializer = InitializerApplicator([(positions, pretrained_roberta)])"
   ]
  },
  {
   "cell_type": "code",
   "execution_count": null,
   "metadata": {},
   "outputs": [],
   "source": [
    "from allennlp.models import SimpleTagger\n",
    "\n",
    "\n",
    "model = SimpleTagger(text_field_embedder=text_field_embedder, \n",
    "                      vocab=vocab, \n",
    "                      encoder=seq2seq_encoder,\n",
    "                      calculate_span_f1=True,\n",
    "                      label_encoding='IOB1',\n",
    "                     initializer=initializer).cuda(device=cuda_device)"
   ]
  },
  {
   "cell_type": "code",
   "execution_count": 22,
   "metadata": {},
   "outputs": [
    {
     "name": "stdout",
     "output_type": "stream",
     "text": [
      "12/09/2020 19:51:23 - WARNING - allennlp.training.trainer -   You provided a validation dataset but patience was set to None, meaning that early stopping is disabled\n",
      "12/09/2020 19:51:23 - INFO - allennlp.training.trainer -   Beginning training.\n",
      "12/09/2020 19:51:23 - INFO - allennlp.training.trainer -   Epoch 0/9\n",
      "12/09/2020 19:51:23 - INFO - allennlp.training.trainer -   Worker 0 memory usage MB: 4458.972\n",
      "12/09/2020 19:51:23 - INFO - allennlp.training.trainer -   GPU 0 memory usage MB: 7509\n",
      "12/09/2020 19:51:23 - INFO - allennlp.training.trainer -   GPU 1 memory usage MB: 6938\n",
      "12/09/2020 19:51:23 - INFO - allennlp.training.trainer -   GPU 2 memory usage MB: 9528\n",
      "12/09/2020 19:51:23 - INFO - allennlp.training.trainer -   GPU 3 memory usage MB: 966\n",
      "12/09/2020 19:51:23 - INFO - allennlp.training.trainer -   GPU 4 memory usage MB: 1064\n",
      "12/09/2020 19:51:23 - INFO - allennlp.training.trainer -   GPU 5 memory usage MB: 1550\n",
      "12/09/2020 19:51:23 - INFO - allennlp.training.trainer -   GPU 6 memory usage MB: 11\n",
      "12/09/2020 19:51:23 - INFO - allennlp.training.trainer -   GPU 7 memory usage MB: 1340\n",
      "12/09/2020 19:51:23 - INFO - allennlp.training.trainer -   Training\n"
     ]
    },
    {
     "data": {
      "application/vnd.jupyter.widget-view+json": {
       "model_id": "e5ba940c5e6e449389c66a6b25cda152",
       "version_major": 2,
       "version_minor": 0
      },
      "text/plain": [
       "HBox(children=(FloatProgress(value=0.0, max=636.0), HTML(value='')))"
      ]
     },
     "metadata": {},
     "output_type": "display_data"
    },
    {
     "name": "stdout",
     "output_type": "stream",
     "text": [
      "12/09/2020 19:53:08 - INFO - allennlp.training.trainer -   Validating\n"
     ]
    },
    {
     "name": "stderr",
     "output_type": "stream",
     "text": [
      "\n"
     ]
    },
    {
     "data": {
      "application/vnd.jupyter.widget-view+json": {
       "model_id": "dd0af71d93d940e5ae1fb4f40d4a3ee8",
       "version_major": 2,
       "version_minor": 0
      },
      "text/plain": [
       "HBox(children=(FloatProgress(value=0.0, max=32.0), HTML(value='')))"
      ]
     },
     "metadata": {},
     "output_type": "display_data"
    },
    {
     "name": "stdout",
     "output_type": "stream",
     "text": [
      "12/09/2020 19:53:20 - INFO - allennlp.training.tensorboard_writer -                          Training |  Validation\n",
      "12/09/2020 19:53:20 - INFO - allennlp.training.tensorboard_writer -   accuracy           |     0.933  |     0.940\n",
      "12/09/2020 19:53:20 - INFO - allennlp.training.tensorboard_writer -   accuracy3          |     1.000  |     1.000\n",
      "12/09/2020 19:53:20 - INFO - allennlp.training.tensorboard_writer -   f1-measure-overall |     0.335  |     0.493\n",
      "12/09/2020 19:53:20 - INFO - allennlp.training.tensorboard_writer -   gpu_0_memory_MB    |  7509.000  |       N/A\n",
      "12/09/2020 19:53:20 - INFO - allennlp.training.tensorboard_writer -   gpu_1_memory_MB    |  6938.000  |       N/A\n",
      "12/09/2020 19:53:20 - INFO - allennlp.training.tensorboard_writer -   gpu_2_memory_MB    |  9528.000  |       N/A\n",
      "12/09/2020 19:53:20 - INFO - allennlp.training.tensorboard_writer -   gpu_3_memory_MB    |   966.000  |       N/A\n",
      "12/09/2020 19:53:20 - INFO - allennlp.training.tensorboard_writer -   gpu_4_memory_MB    |  1064.000  |       N/A\n",
      "12/09/2020 19:53:20 - INFO - allennlp.training.tensorboard_writer -   gpu_5_memory_MB    |  1550.000  |       N/A\n",
      "12/09/2020 19:53:20 - INFO - allennlp.training.tensorboard_writer -   gpu_6_memory_MB    |    11.000  |       N/A\n",
      "12/09/2020 19:53:20 - INFO - allennlp.training.tensorboard_writer -   gpu_7_memory_MB    |  1340.000  |       N/A\n",
      "12/09/2020 19:53:20 - INFO - allennlp.training.tensorboard_writer -   loss               |     0.353  |     0.289\n",
      "12/09/2020 19:53:20 - INFO - allennlp.training.tensorboard_writer -   precision-overall  |     0.547  |     0.702\n",
      "12/09/2020 19:53:20 - INFO - allennlp.training.tensorboard_writer -   recall-overall     |     0.241  |     0.380\n",
      "12/09/2020 19:53:20 - INFO - allennlp.training.tensorboard_writer -   worker_0_memory_MB |  4458.972  |       N/A\n"
     ]
    },
    {
     "name": "stderr",
     "output_type": "stream",
     "text": [
      "\n"
     ]
    },
    {
     "name": "stdout",
     "output_type": "stream",
     "text": [
      "12/09/2020 19:53:23 - INFO - allennlp.training.checkpointer -   Best validation performance so far. Copying weights to './workdir/12/09/2020/19:51:23/best.th'.\n",
      "12/09/2020 19:53:23 - INFO - allennlp.training.trainer -   Epoch duration: 0:02:00.420199\n",
      "12/09/2020 19:53:23 - INFO - allennlp.training.trainer -   Estimated training time remaining: 0:18:03\n",
      "12/09/2020 19:53:23 - INFO - allennlp.training.trainer -   Epoch 1/9\n",
      "12/09/2020 19:53:23 - INFO - allennlp.training.trainer -   Worker 0 memory usage MB: 4945.86\n",
      "12/09/2020 19:53:24 - INFO - allennlp.training.trainer -   GPU 0 memory usage MB: 7509\n",
      "12/09/2020 19:53:24 - INFO - allennlp.training.trainer -   GPU 1 memory usage MB: 6938\n",
      "12/09/2020 19:53:24 - INFO - allennlp.training.trainer -   GPU 2 memory usage MB: 9528\n",
      "12/09/2020 19:53:24 - INFO - allennlp.training.trainer -   GPU 3 memory usage MB: 966\n",
      "12/09/2020 19:53:24 - INFO - allennlp.training.trainer -   GPU 4 memory usage MB: 1084\n",
      "12/09/2020 19:53:24 - INFO - allennlp.training.trainer -   GPU 5 memory usage MB: 10652\n",
      "12/09/2020 19:53:24 - INFO - allennlp.training.trainer -   GPU 6 memory usage MB: 11\n",
      "12/09/2020 19:53:24 - INFO - allennlp.training.trainer -   GPU 7 memory usage MB: 1340\n",
      "12/09/2020 19:53:24 - INFO - allennlp.training.trainer -   Training\n"
     ]
    },
    {
     "data": {
      "application/vnd.jupyter.widget-view+json": {
       "model_id": "4c3748af722947949474d25f64774a90",
       "version_major": 2,
       "version_minor": 0
      },
      "text/plain": [
       "HBox(children=(FloatProgress(value=0.0, max=636.0), HTML(value='')))"
      ]
     },
     "metadata": {},
     "output_type": "display_data"
    },
    {
     "name": "stdout",
     "output_type": "stream",
     "text": [
      "12/09/2020 19:54:59 - INFO - allennlp.training.trainer -   Validating\n"
     ]
    },
    {
     "name": "stderr",
     "output_type": "stream",
     "text": [
      "\n"
     ]
    },
    {
     "data": {
      "application/vnd.jupyter.widget-view+json": {
       "model_id": "55cd420436144347870c40e527fe624b",
       "version_major": 2,
       "version_minor": 0
      },
      "text/plain": [
       "HBox(children=(FloatProgress(value=0.0, max=32.0), HTML(value='')))"
      ]
     },
     "metadata": {},
     "output_type": "display_data"
    },
    {
     "name": "stdout",
     "output_type": "stream",
     "text": [
      "12/09/2020 19:55:07 - INFO - allennlp.training.tensorboard_writer -                          Training |  Validation\n",
      "12/09/2020 19:55:07 - INFO - allennlp.training.tensorboard_writer -   accuracy           |     0.939  |     0.941\n",
      "12/09/2020 19:55:07 - INFO - allennlp.training.tensorboard_writer -   accuracy3          |     1.000  |     1.000\n",
      "12/09/2020 19:55:07 - INFO - allennlp.training.tensorboard_writer -   f1-measure-overall |     0.503  |     0.536\n",
      "12/09/2020 19:55:07 - INFO - allennlp.training.tensorboard_writer -   gpu_0_memory_MB    |  7509.000  |       N/A\n",
      "12/09/2020 19:55:07 - INFO - allennlp.training.tensorboard_writer -   gpu_1_memory_MB    |  6938.000  |       N/A\n",
      "12/09/2020 19:55:07 - INFO - allennlp.training.tensorboard_writer -   gpu_2_memory_MB    |  9528.000  |       N/A\n",
      "12/09/2020 19:55:07 - INFO - allennlp.training.tensorboard_writer -   gpu_3_memory_MB    |   966.000  |       N/A\n",
      "12/09/2020 19:55:07 - INFO - allennlp.training.tensorboard_writer -   gpu_4_memory_MB    |  1084.000  |       N/A\n",
      "12/09/2020 19:55:07 - INFO - allennlp.training.tensorboard_writer -   gpu_5_memory_MB    |  10652.000  |       N/A\n",
      "12/09/2020 19:55:07 - INFO - allennlp.training.tensorboard_writer -   gpu_6_memory_MB    |    11.000  |       N/A\n",
      "12/09/2020 19:55:07 - INFO - allennlp.training.tensorboard_writer -   gpu_7_memory_MB    |  1340.000  |       N/A\n",
      "12/09/2020 19:55:07 - INFO - allennlp.training.tensorboard_writer -   loss               |     0.276  |     0.276\n",
      "12/09/2020 19:55:07 - INFO - allennlp.training.tensorboard_writer -   precision-overall  |     0.602  |     0.607\n",
      "12/09/2020 19:55:07 - INFO - allennlp.training.tensorboard_writer -   recall-overall     |     0.432  |     0.480\n",
      "12/09/2020 19:55:07 - INFO - allennlp.training.tensorboard_writer -   worker_0_memory_MB |  4945.860  |       N/A\n"
     ]
    },
    {
     "name": "stderr",
     "output_type": "stream",
     "text": [
      "\n"
     ]
    },
    {
     "name": "stdout",
     "output_type": "stream",
     "text": [
      "12/09/2020 19:55:10 - INFO - allennlp.training.checkpointer -   Best validation performance so far. Copying weights to './workdir/12/09/2020/19:51:23/best.th'.\n",
      "12/09/2020 19:55:11 - INFO - allennlp.training.trainer -   Epoch duration: 0:01:47.537223\n",
      "12/09/2020 19:55:11 - INFO - allennlp.training.trainer -   Estimated training time remaining: 0:15:11\n",
      "12/09/2020 19:55:11 - INFO - allennlp.training.trainer -   Epoch 2/9\n",
      "12/09/2020 19:55:11 - INFO - allennlp.training.trainer -   Worker 0 memory usage MB: 4946.044\n",
      "12/09/2020 19:55:11 - INFO - allennlp.training.trainer -   GPU 0 memory usage MB: 7509\n",
      "12/09/2020 19:55:11 - INFO - allennlp.training.trainer -   GPU 1 memory usage MB: 6938\n",
      "12/09/2020 19:55:11 - INFO - allennlp.training.trainer -   GPU 2 memory usage MB: 9528\n",
      "12/09/2020 19:55:11 - INFO - allennlp.training.trainer -   GPU 3 memory usage MB: 966\n",
      "12/09/2020 19:55:11 - INFO - allennlp.training.trainer -   GPU 4 memory usage MB: 1064\n",
      "12/09/2020 19:55:11 - INFO - allennlp.training.trainer -   GPU 5 memory usage MB: 10698\n",
      "12/09/2020 19:55:11 - INFO - allennlp.training.trainer -   GPU 6 memory usage MB: 11\n",
      "12/09/2020 19:55:11 - INFO - allennlp.training.trainer -   GPU 7 memory usage MB: 1340\n",
      "12/09/2020 19:55:11 - INFO - allennlp.training.trainer -   Training\n"
     ]
    },
    {
     "data": {
      "application/vnd.jupyter.widget-view+json": {
       "model_id": "0a7f04897f3c435d8ffda989d6bb96a4",
       "version_major": 2,
       "version_minor": 0
      },
      "text/plain": [
       "HBox(children=(FloatProgress(value=0.0, max=636.0), HTML(value='')))"
      ]
     },
     "metadata": {},
     "output_type": "display_data"
    },
    {
     "name": "stdout",
     "output_type": "stream",
     "text": [
      "12/09/2020 19:56:47 - INFO - allennlp.training.trainer -   Validating\n"
     ]
    },
    {
     "name": "stderr",
     "output_type": "stream",
     "text": [
      "\n"
     ]
    },
    {
     "data": {
      "application/vnd.jupyter.widget-view+json": {
       "model_id": "1929d4470b2d42d88dc2b902c962196d",
       "version_major": 2,
       "version_minor": 0
      },
      "text/plain": [
       "HBox(children=(FloatProgress(value=0.0, max=32.0), HTML(value='')))"
      ]
     },
     "metadata": {},
     "output_type": "display_data"
    },
    {
     "name": "stdout",
     "output_type": "stream",
     "text": [
      "12/09/2020 19:56:55 - INFO - allennlp.training.tensorboard_writer -                          Training |  Validation\n",
      "12/09/2020 19:56:55 - INFO - allennlp.training.tensorboard_writer -   accuracy           |     0.941  |     0.936\n",
      "12/09/2020 19:56:55 - INFO - allennlp.training.tensorboard_writer -   accuracy3          |     1.000  |     1.000\n",
      "12/09/2020 19:56:55 - INFO - allennlp.training.tensorboard_writer -   f1-measure-overall |     0.519  |     0.515\n",
      "12/09/2020 19:56:55 - INFO - allennlp.training.tensorboard_writer -   gpu_0_memory_MB    |  7509.000  |       N/A\n",
      "12/09/2020 19:56:55 - INFO - allennlp.training.tensorboard_writer -   gpu_1_memory_MB    |  6938.000  |       N/A\n",
      "12/09/2020 19:56:55 - INFO - allennlp.training.tensorboard_writer -   gpu_2_memory_MB    |  9528.000  |       N/A\n",
      "12/09/2020 19:56:55 - INFO - allennlp.training.tensorboard_writer -   gpu_3_memory_MB    |   966.000  |       N/A\n",
      "12/09/2020 19:56:55 - INFO - allennlp.training.tensorboard_writer -   gpu_4_memory_MB    |  1064.000  |       N/A\n",
      "12/09/2020 19:56:55 - INFO - allennlp.training.tensorboard_writer -   gpu_5_memory_MB    |  10698.000  |       N/A\n",
      "12/09/2020 19:56:55 - INFO - allennlp.training.tensorboard_writer -   gpu_6_memory_MB    |    11.000  |       N/A\n",
      "12/09/2020 19:56:55 - INFO - allennlp.training.tensorboard_writer -   gpu_7_memory_MB    |  1340.000  |       N/A\n",
      "12/09/2020 19:56:55 - INFO - allennlp.training.tensorboard_writer -   loss               |     0.250  |     0.286\n",
      "12/09/2020 19:56:55 - INFO - allennlp.training.tensorboard_writer -   precision-overall  |     0.616  |     0.504\n",
      "12/09/2020 19:56:55 - INFO - allennlp.training.tensorboard_writer -   recall-overall     |     0.449  |     0.527\n",
      "12/09/2020 19:56:55 - INFO - allennlp.training.tensorboard_writer -   worker_0_memory_MB |  4946.044  |       N/A\n"
     ]
    },
    {
     "name": "stderr",
     "output_type": "stream",
     "text": [
      "\n"
     ]
    },
    {
     "name": "stdout",
     "output_type": "stream",
     "text": [
      "12/09/2020 19:56:58 - INFO - allennlp.training.trainer -   Epoch duration: 0:01:47.519020\n",
      "12/09/2020 19:56:58 - INFO - allennlp.training.trainer -   Estimated training time remaining: 0:13:02\n",
      "12/09/2020 19:56:58 - INFO - allennlp.training.trainer -   Epoch 3/9\n",
      "12/09/2020 19:56:58 - INFO - allennlp.training.trainer -   Worker 0 memory usage MB: 4946.172\n",
      "12/09/2020 19:56:59 - INFO - allennlp.training.trainer -   GPU 0 memory usage MB: 7509\n",
      "12/09/2020 19:56:59 - INFO - allennlp.training.trainer -   GPU 1 memory usage MB: 6938\n",
      "12/09/2020 19:56:59 - INFO - allennlp.training.trainer -   GPU 2 memory usage MB: 9528\n",
      "12/09/2020 19:56:59 - INFO - allennlp.training.trainer -   GPU 3 memory usage MB: 966\n",
      "12/09/2020 19:56:59 - INFO - allennlp.training.trainer -   GPU 4 memory usage MB: 1064\n",
      "12/09/2020 19:56:59 - INFO - allennlp.training.trainer -   GPU 5 memory usage MB: 10698\n",
      "12/09/2020 19:56:59 - INFO - allennlp.training.trainer -   GPU 6 memory usage MB: 11\n",
      "12/09/2020 19:56:59 - INFO - allennlp.training.trainer -   GPU 7 memory usage MB: 1340\n",
      "12/09/2020 19:56:59 - INFO - allennlp.training.trainer -   Training\n"
     ]
    },
    {
     "data": {
      "application/vnd.jupyter.widget-view+json": {
       "model_id": "98fdb3f1d5ba4ea0a4a019fcb89a87ad",
       "version_major": 2,
       "version_minor": 0
      },
      "text/plain": [
       "HBox(children=(FloatProgress(value=0.0, max=636.0), HTML(value='')))"
      ]
     },
     "metadata": {},
     "output_type": "display_data"
    },
    {
     "name": "stdout",
     "output_type": "stream",
     "text": [
      "12/09/2020 19:58:34 - INFO - allennlp.training.trainer -   Validating\n"
     ]
    },
    {
     "name": "stderr",
     "output_type": "stream",
     "text": [
      "\n"
     ]
    },
    {
     "data": {
      "application/vnd.jupyter.widget-view+json": {
       "model_id": "168ae3e23291477795055cc3222e9789",
       "version_major": 2,
       "version_minor": 0
      },
      "text/plain": [
       "HBox(children=(FloatProgress(value=0.0, max=32.0), HTML(value='')))"
      ]
     },
     "metadata": {},
     "output_type": "display_data"
    },
    {
     "name": "stdout",
     "output_type": "stream",
     "text": [
      "12/09/2020 19:58:42 - INFO - allennlp.training.tensorboard_writer -                          Training |  Validation\n",
      "12/09/2020 19:58:42 - INFO - allennlp.training.tensorboard_writer -   accuracy           |     0.943  |     0.928\n",
      "12/09/2020 19:58:42 - INFO - allennlp.training.tensorboard_writer -   accuracy3          |     1.000  |     1.000\n",
      "12/09/2020 19:58:42 - INFO - allennlp.training.tensorboard_writer -   f1-measure-overall |     0.523  |     0.482\n",
      "12/09/2020 19:58:42 - INFO - allennlp.training.tensorboard_writer -   gpu_0_memory_MB    |  7509.000  |       N/A\n",
      "12/09/2020 19:58:42 - INFO - allennlp.training.tensorboard_writer -   gpu_1_memory_MB    |  6938.000  |       N/A\n",
      "12/09/2020 19:58:42 - INFO - allennlp.training.tensorboard_writer -   gpu_2_memory_MB    |  9528.000  |       N/A\n",
      "12/09/2020 19:58:42 - INFO - allennlp.training.tensorboard_writer -   gpu_3_memory_MB    |   966.000  |       N/A\n",
      "12/09/2020 19:58:42 - INFO - allennlp.training.tensorboard_writer -   gpu_4_memory_MB    |  1064.000  |       N/A\n",
      "12/09/2020 19:58:42 - INFO - allennlp.training.tensorboard_writer -   gpu_5_memory_MB    |  10698.000  |       N/A\n",
      "12/09/2020 19:58:42 - INFO - allennlp.training.tensorboard_writer -   gpu_6_memory_MB    |    11.000  |       N/A\n",
      "12/09/2020 19:58:42 - INFO - allennlp.training.tensorboard_writer -   gpu_7_memory_MB    |  1340.000  |       N/A\n",
      "12/09/2020 19:58:42 - INFO - allennlp.training.tensorboard_writer -   loss               |     0.225  |     0.309\n",
      "12/09/2020 19:58:42 - INFO - allennlp.training.tensorboard_writer -   precision-overall  |     0.609  |     0.449\n",
      "12/09/2020 19:58:42 - INFO - allennlp.training.tensorboard_writer -   recall-overall     |     0.458  |     0.521\n",
      "12/09/2020 19:58:42 - INFO - allennlp.training.tensorboard_writer -   worker_0_memory_MB |  4946.172  |       N/A\n"
     ]
    },
    {
     "name": "stderr",
     "output_type": "stream",
     "text": [
      "\n"
     ]
    },
    {
     "name": "stdout",
     "output_type": "stream",
     "text": [
      "12/09/2020 19:58:46 - INFO - allennlp.training.trainer -   Epoch duration: 0:01:47.163978\n",
      "12/09/2020 19:58:46 - INFO - allennlp.training.trainer -   Estimated training time remaining: 0:11:03\n",
      "12/09/2020 19:58:46 - INFO - allennlp.training.trainer -   Epoch 4/9\n",
      "12/09/2020 19:58:46 - INFO - allennlp.training.trainer -   Worker 0 memory usage MB: 4946.264\n",
      "12/09/2020 19:58:46 - INFO - allennlp.training.trainer -   GPU 0 memory usage MB: 7509\n",
      "12/09/2020 19:58:46 - INFO - allennlp.training.trainer -   GPU 1 memory usage MB: 6938\n",
      "12/09/2020 19:58:46 - INFO - allennlp.training.trainer -   GPU 2 memory usage MB: 9528\n",
      "12/09/2020 19:58:46 - INFO - allennlp.training.trainer -   GPU 3 memory usage MB: 966\n",
      "12/09/2020 19:58:46 - INFO - allennlp.training.trainer -   GPU 4 memory usage MB: 1084\n",
      "12/09/2020 19:58:46 - INFO - allennlp.training.trainer -   GPU 5 memory usage MB: 10698\n",
      "12/09/2020 19:58:46 - INFO - allennlp.training.trainer -   GPU 6 memory usage MB: 11\n",
      "12/09/2020 19:58:46 - INFO - allennlp.training.trainer -   GPU 7 memory usage MB: 1340\n",
      "12/09/2020 19:58:46 - INFO - allennlp.training.trainer -   Training\n"
     ]
    },
    {
     "data": {
      "application/vnd.jupyter.widget-view+json": {
       "model_id": "d76bf7428bc24f43ac4b1f472bd27188",
       "version_major": 2,
       "version_minor": 0
      },
      "text/plain": [
       "HBox(children=(FloatProgress(value=0.0, max=636.0), HTML(value='')))"
      ]
     },
     "metadata": {},
     "output_type": "display_data"
    },
    {
     "name": "stdout",
     "output_type": "stream",
     "text": [
      "12/09/2020 20:00:21 - INFO - allennlp.training.trainer -   Validating\n"
     ]
    },
    {
     "name": "stderr",
     "output_type": "stream",
     "text": [
      "\n"
     ]
    },
    {
     "data": {
      "application/vnd.jupyter.widget-view+json": {
       "model_id": "74a32b7bcfc04af992b33501dd62cfa0",
       "version_major": 2,
       "version_minor": 0
      },
      "text/plain": [
       "HBox(children=(FloatProgress(value=0.0, max=32.0), HTML(value='')))"
      ]
     },
     "metadata": {},
     "output_type": "display_data"
    },
    {
     "name": "stdout",
     "output_type": "stream",
     "text": [
      "12/09/2020 20:00:29 - INFO - allennlp.training.tensorboard_writer -                          Training |  Validation\n",
      "12/09/2020 20:00:29 - INFO - allennlp.training.tensorboard_writer -   accuracy           |     0.945  |     0.938\n",
      "12/09/2020 20:00:29 - INFO - allennlp.training.tensorboard_writer -   accuracy3          |     1.000  |     1.000\n",
      "12/09/2020 20:00:29 - INFO - allennlp.training.tensorboard_writer -   f1-measure-overall |     0.548  |     0.530\n",
      "12/09/2020 20:00:29 - INFO - allennlp.training.tensorboard_writer -   gpu_0_memory_MB    |  7509.000  |       N/A\n",
      "12/09/2020 20:00:29 - INFO - allennlp.training.tensorboard_writer -   gpu_1_memory_MB    |  6938.000  |       N/A\n",
      "12/09/2020 20:00:29 - INFO - allennlp.training.tensorboard_writer -   gpu_2_memory_MB    |  9528.000  |       N/A\n",
      "12/09/2020 20:00:29 - INFO - allennlp.training.tensorboard_writer -   gpu_3_memory_MB    |   966.000  |       N/A\n",
      "12/09/2020 20:00:29 - INFO - allennlp.training.tensorboard_writer -   gpu_4_memory_MB    |  1084.000  |       N/A\n",
      "12/09/2020 20:00:29 - INFO - allennlp.training.tensorboard_writer -   gpu_5_memory_MB    |  10698.000  |       N/A\n",
      "12/09/2020 20:00:29 - INFO - allennlp.training.tensorboard_writer -   gpu_6_memory_MB    |    11.000  |       N/A\n",
      "12/09/2020 20:00:29 - INFO - allennlp.training.tensorboard_writer -   gpu_7_memory_MB    |  1340.000  |       N/A\n",
      "12/09/2020 20:00:29 - INFO - allennlp.training.tensorboard_writer -   loss               |     0.199  |     0.312\n",
      "12/09/2020 20:00:29 - INFO - allennlp.training.tensorboard_writer -   precision-overall  |     0.621  |     0.566\n",
      "12/09/2020 20:00:29 - INFO - allennlp.training.tensorboard_writer -   recall-overall     |     0.490  |     0.498\n",
      "12/09/2020 20:00:29 - INFO - allennlp.training.tensorboard_writer -   worker_0_memory_MB |  4946.264  |       N/A\n"
     ]
    },
    {
     "name": "stderr",
     "output_type": "stream",
     "text": [
      "\n"
     ]
    },
    {
     "name": "stdout",
     "output_type": "stream",
     "text": [
      "12/09/2020 20:00:33 - INFO - allennlp.training.trainer -   Epoch duration: 0:01:47.052524\n",
      "12/09/2020 20:00:33 - INFO - allennlp.training.trainer -   Estimated training time remaining: 0:09:09\n",
      "12/09/2020 20:00:33 - INFO - allennlp.training.trainer -   Epoch 5/9\n",
      "12/09/2020 20:00:33 - INFO - allennlp.training.trainer -   Worker 0 memory usage MB: 4946.332\n",
      "12/09/2020 20:00:33 - INFO - allennlp.training.trainer -   GPU 0 memory usage MB: 7509\n",
      "12/09/2020 20:00:33 - INFO - allennlp.training.trainer -   GPU 1 memory usage MB: 6938\n",
      "12/09/2020 20:00:33 - INFO - allennlp.training.trainer -   GPU 2 memory usage MB: 9528\n",
      "12/09/2020 20:00:33 - INFO - allennlp.training.trainer -   GPU 3 memory usage MB: 966\n",
      "12/09/2020 20:00:33 - INFO - allennlp.training.trainer -   GPU 4 memory usage MB: 1064\n",
      "12/09/2020 20:00:33 - INFO - allennlp.training.trainer -   GPU 5 memory usage MB: 10698\n",
      "12/09/2020 20:00:33 - INFO - allennlp.training.trainer -   GPU 6 memory usage MB: 11\n",
      "12/09/2020 20:00:33 - INFO - allennlp.training.trainer -   GPU 7 memory usage MB: 1340\n",
      "12/09/2020 20:00:33 - INFO - allennlp.training.trainer -   Training\n"
     ]
    },
    {
     "data": {
      "application/vnd.jupyter.widget-view+json": {
       "model_id": "098d444a7c2642449b4294ae1e0603c2",
       "version_major": 2,
       "version_minor": 0
      },
      "text/plain": [
       "HBox(children=(FloatProgress(value=0.0, max=636.0), HTML(value='')))"
      ]
     },
     "metadata": {},
     "output_type": "display_data"
    },
    {
     "name": "stdout",
     "output_type": "stream",
     "text": [
      "12/09/2020 20:02:07 - INFO - allennlp.training.trainer -   Validating\n"
     ]
    },
    {
     "name": "stderr",
     "output_type": "stream",
     "text": [
      "\n"
     ]
    },
    {
     "data": {
      "application/vnd.jupyter.widget-view+json": {
       "model_id": "5c97591621284d6aa4d9372fdfe85807",
       "version_major": 2,
       "version_minor": 0
      },
      "text/plain": [
       "HBox(children=(FloatProgress(value=0.0, max=32.0), HTML(value='')))"
      ]
     },
     "metadata": {},
     "output_type": "display_data"
    },
    {
     "name": "stdout",
     "output_type": "stream",
     "text": [
      "12/09/2020 20:02:16 - INFO - allennlp.training.tensorboard_writer -                          Training |  Validation\n",
      "12/09/2020 20:02:16 - INFO - allennlp.training.tensorboard_writer -   accuracy           |     0.950  |     0.935\n",
      "12/09/2020 20:02:16 - INFO - allennlp.training.tensorboard_writer -   accuracy3          |     1.000  |     1.000\n",
      "12/09/2020 20:02:16 - INFO - allennlp.training.tensorboard_writer -   f1-measure-overall |     0.563  |     0.509\n",
      "12/09/2020 20:02:16 - INFO - allennlp.training.tensorboard_writer -   gpu_0_memory_MB    |  7509.000  |       N/A\n",
      "12/09/2020 20:02:16 - INFO - allennlp.training.tensorboard_writer -   gpu_1_memory_MB    |  6938.000  |       N/A\n",
      "12/09/2020 20:02:16 - INFO - allennlp.training.tensorboard_writer -   gpu_2_memory_MB    |  9528.000  |       N/A\n",
      "12/09/2020 20:02:16 - INFO - allennlp.training.tensorboard_writer -   gpu_3_memory_MB    |   966.000  |       N/A\n",
      "12/09/2020 20:02:16 - INFO - allennlp.training.tensorboard_writer -   gpu_4_memory_MB    |  1064.000  |       N/A\n",
      "12/09/2020 20:02:16 - INFO - allennlp.training.tensorboard_writer -   gpu_5_memory_MB    |  10698.000  |       N/A\n",
      "12/09/2020 20:02:16 - INFO - allennlp.training.tensorboard_writer -   gpu_6_memory_MB    |    11.000  |       N/A\n",
      "12/09/2020 20:02:16 - INFO - allennlp.training.tensorboard_writer -   gpu_7_memory_MB    |  1340.000  |       N/A\n",
      "12/09/2020 20:02:16 - INFO - allennlp.training.tensorboard_writer -   loss               |     0.168  |     0.322\n",
      "12/09/2020 20:02:16 - INFO - allennlp.training.tensorboard_writer -   precision-overall  |     0.629  |     0.575\n",
      "12/09/2020 20:02:16 - INFO - allennlp.training.tensorboard_writer -   recall-overall     |     0.511  |     0.456\n",
      "12/09/2020 20:02:16 - INFO - allennlp.training.tensorboard_writer -   worker_0_memory_MB |  4946.332  |       N/A\n"
     ]
    },
    {
     "name": "stderr",
     "output_type": "stream",
     "text": [
      "\n"
     ]
    },
    {
     "name": "stdout",
     "output_type": "stream",
     "text": [
      "12/09/2020 20:02:19 - INFO - allennlp.training.trainer -   Epoch duration: 0:01:46.256777\n",
      "12/09/2020 20:02:19 - INFO - allennlp.training.trainer -   Estimated training time remaining: 0:07:17\n",
      "12/09/2020 20:02:19 - INFO - allennlp.training.trainer -   Epoch 6/9\n",
      "12/09/2020 20:02:19 - INFO - allennlp.training.trainer -   Worker 0 memory usage MB: 4946.516\n",
      "12/09/2020 20:02:19 - INFO - allennlp.training.trainer -   GPU 0 memory usage MB: 7509\n",
      "12/09/2020 20:02:19 - INFO - allennlp.training.trainer -   GPU 1 memory usage MB: 6938\n",
      "12/09/2020 20:02:19 - INFO - allennlp.training.trainer -   GPU 2 memory usage MB: 9528\n",
      "12/09/2020 20:02:19 - INFO - allennlp.training.trainer -   GPU 3 memory usage MB: 966\n",
      "12/09/2020 20:02:19 - INFO - allennlp.training.trainer -   GPU 4 memory usage MB: 1064\n",
      "12/09/2020 20:02:19 - INFO - allennlp.training.trainer -   GPU 5 memory usage MB: 10698\n",
      "12/09/2020 20:02:19 - INFO - allennlp.training.trainer -   GPU 6 memory usage MB: 11\n",
      "12/09/2020 20:02:19 - INFO - allennlp.training.trainer -   GPU 7 memory usage MB: 1340\n",
      "12/09/2020 20:02:19 - INFO - allennlp.training.trainer -   Training\n"
     ]
    },
    {
     "data": {
      "application/vnd.jupyter.widget-view+json": {
       "model_id": "e0081eccfa664c139dfd2f94d64a0239",
       "version_major": 2,
       "version_minor": 0
      },
      "text/plain": [
       "HBox(children=(FloatProgress(value=0.0, max=636.0), HTML(value='')))"
      ]
     },
     "metadata": {},
     "output_type": "display_data"
    },
    {
     "name": "stdout",
     "output_type": "stream",
     "text": [
      "12/09/2020 20:03:54 - INFO - allennlp.training.trainer -   Validating\n"
     ]
    },
    {
     "name": "stderr",
     "output_type": "stream",
     "text": [
      "\n"
     ]
    },
    {
     "data": {
      "application/vnd.jupyter.widget-view+json": {
       "model_id": "943daf42f65a4da5939e3ed53d3b0b3e",
       "version_major": 2,
       "version_minor": 0
      },
      "text/plain": [
       "HBox(children=(FloatProgress(value=0.0, max=32.0), HTML(value='')))"
      ]
     },
     "metadata": {},
     "output_type": "display_data"
    },
    {
     "name": "stdout",
     "output_type": "stream",
     "text": [
      "12/09/2020 20:04:03 - INFO - allennlp.training.tensorboard_writer -                          Training |  Validation\n",
      "12/09/2020 20:04:03 - INFO - allennlp.training.tensorboard_writer -   accuracy           |     0.958  |     0.938\n",
      "12/09/2020 20:04:03 - INFO - allennlp.training.tensorboard_writer -   accuracy3          |     1.000  |     1.000\n",
      "12/09/2020 20:04:03 - INFO - allennlp.training.tensorboard_writer -   f1-measure-overall |     0.593  |     0.527\n",
      "12/09/2020 20:04:03 - INFO - allennlp.training.tensorboard_writer -   gpu_0_memory_MB    |  7509.000  |       N/A\n",
      "12/09/2020 20:04:03 - INFO - allennlp.training.tensorboard_writer -   gpu_1_memory_MB    |  6938.000  |       N/A\n",
      "12/09/2020 20:04:03 - INFO - allennlp.training.tensorboard_writer -   gpu_2_memory_MB    |  9528.000  |       N/A\n",
      "12/09/2020 20:04:03 - INFO - allennlp.training.tensorboard_writer -   gpu_3_memory_MB    |   966.000  |       N/A\n",
      "12/09/2020 20:04:03 - INFO - allennlp.training.tensorboard_writer -   gpu_4_memory_MB    |  1064.000  |       N/A\n",
      "12/09/2020 20:04:03 - INFO - allennlp.training.tensorboard_writer -   gpu_5_memory_MB    |  10698.000  |       N/A\n",
      "12/09/2020 20:04:03 - INFO - allennlp.training.tensorboard_writer -   gpu_6_memory_MB    |    11.000  |       N/A\n",
      "12/09/2020 20:04:03 - INFO - allennlp.training.tensorboard_writer -   gpu_7_memory_MB    |  1340.000  |       N/A\n",
      "12/09/2020 20:04:03 - INFO - allennlp.training.tensorboard_writer -   loss               |     0.137  |     0.371\n",
      "12/09/2020 20:04:03 - INFO - allennlp.training.tensorboard_writer -   precision-overall  |     0.645  |     0.598\n",
      "12/09/2020 20:04:03 - INFO - allennlp.training.tensorboard_writer -   recall-overall     |     0.549  |     0.471\n",
      "12/09/2020 20:04:03 - INFO - allennlp.training.tensorboard_writer -   worker_0_memory_MB |  4946.516  |       N/A\n"
     ]
    },
    {
     "name": "stderr",
     "output_type": "stream",
     "text": [
      "\n"
     ]
    },
    {
     "name": "stdout",
     "output_type": "stream",
     "text": [
      "12/09/2020 20:04:06 - INFO - allennlp.training.trainer -   Epoch duration: 0:01:47.423351\n",
      "12/09/2020 20:04:06 - INFO - allennlp.training.trainer -   Estimated training time remaining: 0:05:27\n",
      "12/09/2020 20:04:06 - INFO - allennlp.training.trainer -   Epoch 7/9\n",
      "12/09/2020 20:04:06 - INFO - allennlp.training.trainer -   Worker 0 memory usage MB: 4946.516\n",
      "12/09/2020 20:04:07 - INFO - allennlp.training.trainer -   GPU 0 memory usage MB: 7509\n",
      "12/09/2020 20:04:07 - INFO - allennlp.training.trainer -   GPU 1 memory usage MB: 6938\n",
      "12/09/2020 20:04:07 - INFO - allennlp.training.trainer -   GPU 2 memory usage MB: 9528\n",
      "12/09/2020 20:04:07 - INFO - allennlp.training.trainer -   GPU 3 memory usage MB: 11\n",
      "12/09/2020 20:04:07 - INFO - allennlp.training.trainer -   GPU 4 memory usage MB: 1046\n",
      "12/09/2020 20:04:07 - INFO - allennlp.training.trainer -   GPU 5 memory usage MB: 10698\n",
      "12/09/2020 20:04:07 - INFO - allennlp.training.trainer -   GPU 6 memory usage MB: 11\n",
      "12/09/2020 20:04:07 - INFO - allennlp.training.trainer -   GPU 7 memory usage MB: 1340\n",
      "12/09/2020 20:04:07 - INFO - allennlp.training.trainer -   Training\n"
     ]
    },
    {
     "data": {
      "application/vnd.jupyter.widget-view+json": {
       "model_id": "b4bebca74275448b916330d8da002e11",
       "version_major": 2,
       "version_minor": 0
      },
      "text/plain": [
       "HBox(children=(FloatProgress(value=0.0, max=636.0), HTML(value='')))"
      ]
     },
     "metadata": {},
     "output_type": "display_data"
    },
    {
     "name": "stdout",
     "output_type": "stream",
     "text": [
      "12/09/2020 20:05:42 - INFO - allennlp.training.trainer -   Validating\n"
     ]
    },
    {
     "name": "stderr",
     "output_type": "stream",
     "text": [
      "\n"
     ]
    },
    {
     "data": {
      "application/vnd.jupyter.widget-view+json": {
       "model_id": "c010d68d2739403598eeb9563a743aec",
       "version_major": 2,
       "version_minor": 0
      },
      "text/plain": [
       "HBox(children=(FloatProgress(value=0.0, max=32.0), HTML(value='')))"
      ]
     },
     "metadata": {},
     "output_type": "display_data"
    },
    {
     "name": "stdout",
     "output_type": "stream",
     "text": [
      "12/09/2020 20:05:51 - INFO - allennlp.training.tensorboard_writer -                          Training |  Validation\n",
      "12/09/2020 20:05:51 - INFO - allennlp.training.tensorboard_writer -   accuracy           |     0.963  |     0.933\n",
      "12/09/2020 20:05:51 - INFO - allennlp.training.tensorboard_writer -   accuracy3          |     1.000  |     1.000\n",
      "12/09/2020 20:05:51 - INFO - allennlp.training.tensorboard_writer -   f1-measure-overall |     0.624  |     0.507\n",
      "12/09/2020 20:05:51 - INFO - allennlp.training.tensorboard_writer -   gpu_0_memory_MB    |  7509.000  |       N/A\n",
      "12/09/2020 20:05:51 - INFO - allennlp.training.tensorboard_writer -   gpu_1_memory_MB    |  6938.000  |       N/A\n",
      "12/09/2020 20:05:51 - INFO - allennlp.training.tensorboard_writer -   gpu_2_memory_MB    |  9528.000  |       N/A\n",
      "12/09/2020 20:05:51 - INFO - allennlp.training.tensorboard_writer -   gpu_3_memory_MB    |    11.000  |       N/A\n",
      "12/09/2020 20:05:51 - INFO - allennlp.training.tensorboard_writer -   gpu_4_memory_MB    |  1046.000  |       N/A\n",
      "12/09/2020 20:05:51 - INFO - allennlp.training.tensorboard_writer -   gpu_5_memory_MB    |  10698.000  |       N/A\n",
      "12/09/2020 20:05:51 - INFO - allennlp.training.tensorboard_writer -   gpu_6_memory_MB    |    11.000  |       N/A\n",
      "12/09/2020 20:05:51 - INFO - allennlp.training.tensorboard_writer -   gpu_7_memory_MB    |  1340.000  |       N/A\n",
      "12/09/2020 20:05:51 - INFO - allennlp.training.tensorboard_writer -   loss               |     0.114  |     0.384\n",
      "12/09/2020 20:05:51 - INFO - allennlp.training.tensorboard_writer -   precision-overall  |     0.670  |     0.558\n",
      "12/09/2020 20:05:51 - INFO - allennlp.training.tensorboard_writer -   recall-overall     |     0.584  |     0.464\n",
      "12/09/2020 20:05:51 - INFO - allennlp.training.tensorboard_writer -   worker_0_memory_MB |  4946.516  |       N/A\n"
     ]
    },
    {
     "name": "stderr",
     "output_type": "stream",
     "text": [
      "\n"
     ]
    },
    {
     "name": "stdout",
     "output_type": "stream",
     "text": [
      "12/09/2020 20:05:54 - INFO - allennlp.training.trainer -   Epoch duration: 0:01:47.774153\n",
      "12/09/2020 20:05:54 - INFO - allennlp.training.trainer -   Estimated training time remaining: 0:03:37\n",
      "12/09/2020 20:05:54 - INFO - allennlp.training.trainer -   Epoch 8/9\n",
      "12/09/2020 20:05:54 - INFO - allennlp.training.trainer -   Worker 0 memory usage MB: 4946.556\n",
      "12/09/2020 20:05:54 - INFO - allennlp.training.trainer -   GPU 0 memory usage MB: 7509\n",
      "12/09/2020 20:05:54 - INFO - allennlp.training.trainer -   GPU 1 memory usage MB: 6938\n",
      "12/09/2020 20:05:54 - INFO - allennlp.training.trainer -   GPU 2 memory usage MB: 9528\n",
      "12/09/2020 20:05:54 - INFO - allennlp.training.trainer -   GPU 3 memory usage MB: 966\n",
      "12/09/2020 20:05:54 - INFO - allennlp.training.trainer -   GPU 4 memory usage MB: 1046\n",
      "12/09/2020 20:05:54 - INFO - allennlp.training.trainer -   GPU 5 memory usage MB: 10698\n",
      "12/09/2020 20:05:54 - INFO - allennlp.training.trainer -   GPU 6 memory usage MB: 11\n",
      "12/09/2020 20:05:54 - INFO - allennlp.training.trainer -   GPU 7 memory usage MB: 1340\n",
      "12/09/2020 20:05:54 - INFO - allennlp.training.trainer -   Training\n"
     ]
    },
    {
     "data": {
      "application/vnd.jupyter.widget-view+json": {
       "model_id": "c5d797bf40eb4e21a314e9074e2a7bca",
       "version_major": 2,
       "version_minor": 0
      },
      "text/plain": [
       "HBox(children=(FloatProgress(value=0.0, max=636.0), HTML(value='')))"
      ]
     },
     "metadata": {},
     "output_type": "display_data"
    },
    {
     "name": "stdout",
     "output_type": "stream",
     "text": [
      "12/09/2020 20:07:28 - INFO - allennlp.training.trainer -   Validating\n"
     ]
    },
    {
     "name": "stderr",
     "output_type": "stream",
     "text": [
      "\n"
     ]
    },
    {
     "data": {
      "application/vnd.jupyter.widget-view+json": {
       "model_id": "00314db5b3034e6fb6c4adcbfdfcbafd",
       "version_major": 2,
       "version_minor": 0
      },
      "text/plain": [
       "HBox(children=(FloatProgress(value=0.0, max=32.0), HTML(value='')))"
      ]
     },
     "metadata": {},
     "output_type": "display_data"
    },
    {
     "name": "stdout",
     "output_type": "stream",
     "text": [
      "12/09/2020 20:07:37 - INFO - allennlp.training.tensorboard_writer -                          Training |  Validation\n",
      "12/09/2020 20:07:37 - INFO - allennlp.training.tensorboard_writer -   accuracy           |     0.969  |     0.931\n",
      "12/09/2020 20:07:37 - INFO - allennlp.training.tensorboard_writer -   accuracy3          |     1.000  |     1.000\n",
      "12/09/2020 20:07:37 - INFO - allennlp.training.tensorboard_writer -   f1-measure-overall |     0.649  |     0.501\n",
      "12/09/2020 20:07:37 - INFO - allennlp.training.tensorboard_writer -   gpu_0_memory_MB    |  7509.000  |       N/A\n",
      "12/09/2020 20:07:37 - INFO - allennlp.training.tensorboard_writer -   gpu_1_memory_MB    |  6938.000  |       N/A\n",
      "12/09/2020 20:07:37 - INFO - allennlp.training.tensorboard_writer -   gpu_2_memory_MB    |  9528.000  |       N/A\n",
      "12/09/2020 20:07:37 - INFO - allennlp.training.tensorboard_writer -   gpu_3_memory_MB    |   966.000  |       N/A\n",
      "12/09/2020 20:07:37 - INFO - allennlp.training.tensorboard_writer -   gpu_4_memory_MB    |  1046.000  |       N/A\n",
      "12/09/2020 20:07:37 - INFO - allennlp.training.tensorboard_writer -   gpu_5_memory_MB    |  10698.000  |       N/A\n",
      "12/09/2020 20:07:37 - INFO - allennlp.training.tensorboard_writer -   gpu_6_memory_MB    |    11.000  |       N/A\n",
      "12/09/2020 20:07:37 - INFO - allennlp.training.tensorboard_writer -   gpu_7_memory_MB    |  1340.000  |       N/A\n",
      "12/09/2020 20:07:37 - INFO - allennlp.training.tensorboard_writer -   loss               |     0.097  |     0.409\n",
      "12/09/2020 20:07:37 - INFO - allennlp.training.tensorboard_writer -   precision-overall  |     0.697  |     0.536\n",
      "12/09/2020 20:07:37 - INFO - allennlp.training.tensorboard_writer -   recall-overall     |     0.607  |     0.470\n",
      "12/09/2020 20:07:37 - INFO - allennlp.training.tensorboard_writer -   worker_0_memory_MB |  4946.556  |       N/A\n"
     ]
    },
    {
     "name": "stderr",
     "output_type": "stream",
     "text": [
      "\n"
     ]
    },
    {
     "name": "stdout",
     "output_type": "stream",
     "text": [
      "12/09/2020 20:07:40 - INFO - allennlp.training.trainer -   Epoch duration: 0:01:45.907423\n",
      "12/09/2020 20:07:40 - INFO - allennlp.training.trainer -   Estimated training time remaining: 0:01:48\n",
      "12/09/2020 20:07:40 - INFO - allennlp.training.trainer -   Epoch 9/9\n",
      "12/09/2020 20:07:40 - INFO - allennlp.training.trainer -   Worker 0 memory usage MB: 4946.624\n",
      "12/09/2020 20:07:40 - INFO - allennlp.training.trainer -   GPU 0 memory usage MB: 7509\n",
      "12/09/2020 20:07:40 - INFO - allennlp.training.trainer -   GPU 1 memory usage MB: 6938\n",
      "12/09/2020 20:07:40 - INFO - allennlp.training.trainer -   GPU 2 memory usage MB: 9528\n",
      "12/09/2020 20:07:40 - INFO - allennlp.training.trainer -   GPU 3 memory usage MB: 966\n",
      "12/09/2020 20:07:40 - INFO - allennlp.training.trainer -   GPU 4 memory usage MB: 1046\n",
      "12/09/2020 20:07:40 - INFO - allennlp.training.trainer -   GPU 5 memory usage MB: 10698\n",
      "12/09/2020 20:07:40 - INFO - allennlp.training.trainer -   GPU 6 memory usage MB: 11\n",
      "12/09/2020 20:07:40 - INFO - allennlp.training.trainer -   GPU 7 memory usage MB: 1340\n",
      "12/09/2020 20:07:40 - INFO - allennlp.training.trainer -   Training\n"
     ]
    },
    {
     "data": {
      "application/vnd.jupyter.widget-view+json": {
       "model_id": "25ecd8ec93a140a8a319c794adc5a3a6",
       "version_major": 2,
       "version_minor": 0
      },
      "text/plain": [
       "HBox(children=(FloatProgress(value=0.0, max=636.0), HTML(value='')))"
      ]
     },
     "metadata": {},
     "output_type": "display_data"
    },
    {
     "name": "stdout",
     "output_type": "stream",
     "text": [
      "12/09/2020 20:09:11 - INFO - allennlp.training.trainer -   Validating\n"
     ]
    },
    {
     "name": "stderr",
     "output_type": "stream",
     "text": [
      "\n"
     ]
    },
    {
     "data": {
      "application/vnd.jupyter.widget-view+json": {
       "model_id": "eaca9bb2e6c547dc89a9ee621676fa1a",
       "version_major": 2,
       "version_minor": 0
      },
      "text/plain": [
       "HBox(children=(FloatProgress(value=0.0, max=32.0), HTML(value='')))"
      ]
     },
     "metadata": {},
     "output_type": "display_data"
    },
    {
     "name": "stdout",
     "output_type": "stream",
     "text": [
      "12/09/2020 20:09:20 - INFO - allennlp.training.tensorboard_writer -                          Training |  Validation\n",
      "12/09/2020 20:09:20 - INFO - allennlp.training.tensorboard_writer -   accuracy           |     0.971  |     0.931\n",
      "12/09/2020 20:09:20 - INFO - allennlp.training.tensorboard_writer -   accuracy3          |     1.000  |     1.000\n",
      "12/09/2020 20:09:20 - INFO - allennlp.training.tensorboard_writer -   f1-measure-overall |     0.666  |     0.502\n",
      "12/09/2020 20:09:20 - INFO - allennlp.training.tensorboard_writer -   gpu_0_memory_MB    |  7509.000  |       N/A\n",
      "12/09/2020 20:09:20 - INFO - allennlp.training.tensorboard_writer -   gpu_1_memory_MB    |  6938.000  |       N/A\n",
      "12/09/2020 20:09:20 - INFO - allennlp.training.tensorboard_writer -   gpu_2_memory_MB    |  9528.000  |       N/A\n",
      "12/09/2020 20:09:20 - INFO - allennlp.training.tensorboard_writer -   gpu_3_memory_MB    |   966.000  |       N/A\n",
      "12/09/2020 20:09:20 - INFO - allennlp.training.tensorboard_writer -   gpu_4_memory_MB    |  1046.000  |       N/A\n",
      "12/09/2020 20:09:20 - INFO - allennlp.training.tensorboard_writer -   gpu_5_memory_MB    |  10698.000  |       N/A\n",
      "12/09/2020 20:09:20 - INFO - allennlp.training.tensorboard_writer -   gpu_6_memory_MB    |    11.000  |       N/A\n",
      "12/09/2020 20:09:20 - INFO - allennlp.training.tensorboard_writer -   gpu_7_memory_MB    |  1340.000  |       N/A\n",
      "12/09/2020 20:09:20 - INFO - allennlp.training.tensorboard_writer -   loss               |     0.088  |     0.417\n",
      "12/09/2020 20:09:20 - INFO - allennlp.training.tensorboard_writer -   precision-overall  |     0.711  |     0.536\n",
      "12/09/2020 20:09:20 - INFO - allennlp.training.tensorboard_writer -   recall-overall     |     0.625  |     0.472\n",
      "12/09/2020 20:09:20 - INFO - allennlp.training.tensorboard_writer -   worker_0_memory_MB |  4946.624  |       N/A\n"
     ]
    },
    {
     "name": "stderr",
     "output_type": "stream",
     "text": [
      "\n"
     ]
    },
    {
     "name": "stdout",
     "output_type": "stream",
     "text": [
      "12/09/2020 20:09:23 - INFO - allennlp.training.trainer -   Epoch duration: 0:01:43.158295\n",
      "12/09/2020 20:09:23 - INFO - allennlp.training.checkpointer -   loading best weights\n"
     ]
    }
   ],
   "source": [
    "import torch.optim as optim\n",
    "from transformers import AdamW\n",
    "import transformers\n",
    "from datetime import datetime\n",
    "\n",
    "from allennlp.training.learning_rate_schedulers import LinearWithWarmup\n",
    "from torch.utils.data import DataLoader\n",
    "from allennlp.training import GradientDescentTrainer\n",
    "from allennlp.training.learning_rate_schedulers import SlantedTriangular\n",
    "\n",
    "import math\n",
    "\n",
    "\n",
    "num_epochs = 10\n",
    "batch_size = 10\n",
    "steps_per_epoch = math.ceil(len(train_dataset) / batch_size)\n",
    "\n",
    "optimizer = optim.AdamW(model.parameters(), lr=3e-5, weight_decay=0.01)\n",
    "train_data_loader = DataLoader(dataset=train_dataset, batch_size=batch_size, \n",
    "                               collate_fn=allennlp_collate, shuffle=True)\n",
    "val_data_loader = DataLoader(dataset=dev_dataset, batch_size=50, collate_fn=allennlp_collate)\n",
    "lr_scheduler = LinearWithWarmup(optimizer, \n",
    "                                num_epochs=num_epochs, \n",
    "                                warmup_steps=(steps_per_epoch*num_epochs)*0.1, \n",
    "                                num_steps_per_epoch=steps_per_epoch)\n",
    "\n",
    "date_time = datetime.now()\n",
    "date_str = date_time.strftime('%m/%d/%Y')\n",
    "time_str = date_time.strftime('%H:%M:%S')\n",
    "\n",
    "\n",
    "trainer = GradientDescentTrainer(\n",
    "    model=model,\n",
    "    optimizer=optimizer,\n",
    "    data_loader=train_data_loader,\n",
    "    validation_data_loader=val_data_loader,\n",
    "    num_epochs=num_epochs,\n",
    "    cuda_device=cuda_device,\n",
    "    learning_rate_scheduler=lr_scheduler,\n",
    "    num_gradient_accumulation_steps=1,\n",
    "    serialization_dir=f'./workdir/{date_str}/{time_str}',\n",
    "    grad_clipping=1.\n",
    ")\n",
    "\n",
    "try:\n",
    "    metrics = trainer.train()\n",
    "except KeyboardInterrupt:\n",
    "    pass"
   ]
  },
  {
   "cell_type": "code",
   "execution_count": 23,
   "metadata": {},
   "outputs": [],
   "source": [
    "torch.save(model.state_dict(), '../toxicity/models/roberta_spans')"
   ]
  },
  {
   "cell_type": "code",
   "execution_count": 24,
   "metadata": {},
   "outputs": [
    {
     "name": "stdout",
     "output_type": "stream",
     "text": [
      "12/09/2020 20:09:25 - INFO - allennlp.training.util -   Iterating over dataset\n"
     ]
    },
    {
     "data": {
      "application/vnd.jupyter.widget-view+json": {
       "model_id": "a58ae835706d46afbf671db57df9b35a",
       "version_major": 2,
       "version_minor": 0
      },
      "text/plain": [
       "HBox(children=(FloatProgress(value=0.0, max=7.0), HTML(value='')))"
      ]
     },
     "metadata": {},
     "output_type": "display_data"
    },
    {
     "name": "stderr",
     "output_type": "stream",
     "text": [
      "\n"
     ]
    },
    {
     "data": {
      "text/plain": [
       "{'accuracy': 0.9514164305949009,\n",
       " 'accuracy3': 1.0,\n",
       " 'precision-overall': 0.6384039900249375,\n",
       " 'recall-overall': 0.5278350515463917,\n",
       " 'f1-measure-overall': 0.5778781038374222,\n",
       " 'loss': 0.25075810083321165}"
      ]
     },
     "execution_count": 24,
     "metadata": {},
     "output_type": "execute_result"
    }
   ],
   "source": [
    "test_dataloader = DataLoader(test_dataset, batch_size=100, collate_fn=allennlp_collate)\n",
    "evaluate(model, test_dataloader, cuda_device=cuda_device)"
   ]
  },
  {
   "cell_type": "code",
   "execution_count": 25,
   "metadata": {},
   "outputs": [],
   "source": [
    "predictor = SentenceTaggerPredictor(model, reader)\n",
    "preds = predictor.predict('We are living in New York')"
   ]
  },
  {
   "cell_type": "code",
   "execution_count": 28,
   "metadata": {},
   "outputs": [
    {
     "name": "stdout",
     "output_type": "stream",
     "text": [
      "[('We', 'O'), ('are', 'O'), ('living', 'O'), ('in', 'O'), ('New', 'O'), ('York', 'O')]\n"
     ]
    }
   ],
   "source": [
    "print(list(zip(preds['words'], preds['tags'])))"
   ]
  },
  {
   "cell_type": "markdown",
   "metadata": {},
   "source": [
    "## Predicting"
   ]
  },
  {
   "cell_type": "markdown",
   "metadata": {},
   "source": [
    "### in conll format"
   ]
  },
  {
   "cell_type": "code",
   "execution_count": 43,
   "metadata": {},
   "outputs": [],
   "source": [
    "from nltk import word_tokenize\n",
    "def conll_sentence(labeled_sentence):\n",
    "    ok_sentence = []\n",
    "    for elem in labeled_sentence:\n",
    "        new_word = []\n",
    "        word, label = elem\n",
    "        word_elems = word_tokenize(word)\n",
    "        for word_elem in word_elems:\n",
    "            if any(char.isalpha() for char in word_elem):\n",
    "                new_word.append((word_elem, label))\n",
    "            else:\n",
    "                new_word.append((word_elem, 'O'))\n",
    "        ok_sentence += new_word\n",
    "    return ok_sentence"
   ]
  },
  {
   "cell_type": "code",
   "execution_count": 44,
   "metadata": {},
   "outputs": [],
   "source": [
    "import pandas as pd\n",
    "from ast import literal_eval\n",
    "trial = pd.read_csv('data/tsd_trial.csv')\n",
    "trial['spans'] = trial.spans.apply(literal_eval)"
   ]
  },
  {
   "cell_type": "code",
   "execution_count": 45,
   "metadata": {},
   "outputs": [],
   "source": [
    "conll_preds = []\n",
    "for text in trial.text:\n",
    "    preds = predictor.predict(text)\n",
    "    raw_pred = list(zip(preds['words'], preds['tags']))\n",
    "    conll_pred = conll_sentence(raw_pred)\n",
    "    conll_preds.append(conll_pred)"
   ]
  },
  {
   "cell_type": "code",
   "execution_count": 46,
   "metadata": {},
   "outputs": [],
   "source": [
    "with open('./data/preds_trial.conll2003', 'w') as f:\n",
    "    for sentence in conll_preds:\n",
    "        for comb in sentence:\n",
    "            f.write(comb[0] + ' ' + comb[1] + '\\n')\n",
    "        f.write('\\n')"
   ]
  },
  {
   "cell_type": "code",
   "execution_count": null,
   "metadata": {},
   "outputs": [],
   "source": []
  }
 ],
 "metadata": {
  "kernelspec": {
   "display_name": "Python 3",
   "language": "python",
   "name": "python3"
  },
  "language_info": {
   "codemirror_mode": {
    "name": "ipython",
    "version": 3
   },
   "file_extension": ".py",
   "mimetype": "text/x-python",
   "name": "python",
   "nbconvert_exporter": "python",
   "pygments_lexer": "ipython3",
   "version": "3.7.6"
  }
 },
 "nbformat": 4,
 "nbformat_minor": 4
}
