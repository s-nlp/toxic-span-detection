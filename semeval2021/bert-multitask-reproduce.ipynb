{
 "cells": [
  {
   "cell_type": "markdown",
   "metadata": {},
   "source": [
    "* basic roberta ft: 0.6589791487657798 (thr 0.3)\n",
    "* basic roberta ft (head first): 0.6768011808573329 (thr 0.42)\n",
    "* fine tune roberta on weird clf, then only head on spans, then whole: 0.6853127403287083 (thr 0.32)\n",
    "* "
   ]
  },
  {
   "cell_type": "code",
   "execution_count": 1,
   "metadata": {},
   "outputs": [],
   "source": [
    "from transformers import RobertaTokenizer, RobertaForTokenClassification\n",
    "from transformers import BertTokenizer, BertForTokenClassification\n",
    "from transformers import AutoTokenizer, AutoModelForTokenClassification\n",
    "import torch"
   ]
  },
  {
   "cell_type": "code",
   "execution_count": 2,
   "metadata": {},
   "outputs": [],
   "source": [
    "import numpy as np\n",
    "import pandas as pd"
   ]
  },
  {
   "cell_type": "code",
   "execution_count": 3,
   "metadata": {},
   "outputs": [],
   "source": [
    "import os\n",
    "os.environ['CUDA_VISIBLE_DEVICES'] = '4'\n",
    "device = torch.device('cuda:0')"
   ]
  },
  {
   "cell_type": "code",
   "execution_count": 4,
   "metadata": {},
   "outputs": [],
   "source": [
    "model_name = 'roberta-base'  #roberta-base"
   ]
  },
  {
   "cell_type": "code",
   "execution_count": 5,
   "metadata": {},
   "outputs": [],
   "source": [
    "tokenizer = AutoTokenizer.from_pretrained(model_name)"
   ]
  },
  {
   "cell_type": "code",
   "execution_count": 6,
   "metadata": {},
   "outputs": [],
   "source": [
    "# model = AutoModelForTokenClassification.from_pretrained(model_name)"
   ]
  },
  {
   "cell_type": "markdown",
   "metadata": {},
   "source": [
    "```\n",
    "inputs = tokenizer(\"Hello, my dog is cute\", return_tensors=\"pt\")\n",
    "labels = torch.tensor([1] * inputs[\"input_ids\"].size(1)).unsqueeze(0)  # Batch size 1\n",
    "outputs = model(**inputs, labels=labels)\n",
    "```"
   ]
  },
  {
   "cell_type": "markdown",
   "metadata": {},
   "source": [
    "# Create labels for tagging"
   ]
  },
  {
   "cell_type": "code",
   "execution_count": 7,
   "metadata": {},
   "outputs": [],
   "source": [
    "import os\n",
    "import numpy as np\n",
    "import pandas as pd\n",
    "from ast import literal_eval\n",
    "import re\n",
    "import nltk\n",
    "import matplotlib.pyplot as plt\n",
    "from nltk.tokenize import word_tokenize\n",
    "\n",
    "path = 'data/'"
   ]
  },
  {
   "cell_type": "code",
   "execution_count": 63,
   "metadata": {},
   "outputs": [
    {
     "data": {
      "text/plain": [
       "((690, 2), (7939, 2), (2000, 2))"
      ]
     },
     "execution_count": 63,
     "metadata": {},
     "output_type": "execute_result"
    }
   ],
   "source": [
    "trial = pd.read_csv(path + 'tsd_trial.csv')\n",
    "train = pd.read_csv(path + 'tsd_train.csv')\n",
    "# final_test = pd.read_csv(path + 'tsd_test.csv')\n",
    "final_test = pd.read_csv(path + 'tsd_test_gt.csv')\n",
    "\n",
    "train['spans'] = train.spans.apply(literal_eval)\n",
    "trial['spans'] = trial.spans.apply(literal_eval)\n",
    "final_test['spans'] = final_test.spans.apply(literal_eval)\n",
    "trial.shape, train.shape, final_test.shape"
   ]
  },
  {
   "cell_type": "code",
   "execution_count": 9,
   "metadata": {},
   "outputs": [
    {
     "name": "stdout",
     "output_type": "stream",
     "text": [
      "8\n",
      "0\n"
     ]
    }
   ],
   "source": [
    "print(len(set(trial.text).intersection(set(train.text))))\n",
    "print(len(set(final_test.text).intersection(set(train.text))))"
   ]
  },
  {
   "cell_type": "code",
   "execution_count": 10,
   "metadata": {},
   "outputs": [
    {
     "name": "stdout",
     "output_type": "stream",
     "text": [
      "0.06109081748331024\n",
      "0.06231884057971015\n"
     ]
    }
   ],
   "source": [
    "print((train.spans.apply(len) == 0).mean())\n",
    "print((trial.spans.apply(len) == 0).mean())"
   ]
  },
  {
   "cell_type": "code",
   "execution_count": 11,
   "metadata": {},
   "outputs": [
    {
     "data": {
      "text/html": [
       "Because he's a <b>moron</b> and a <b>bigot</b>. It's not any more complicated than that."
      ],
      "text/plain": [
       "<IPython.core.display.HTML object>"
      ]
     },
     "metadata": {},
     "output_type": "display_data"
    },
    {
     "data": {
      "text/html": [
       "Because he's a <b>moron</b> and a <b>bigot</b>. It's not any more complicated than that."
      ],
      "text/plain": [
       "<IPython.core.display.HTML object>"
      ]
     },
     "metadata": {},
     "output_type": "display_data"
    }
   ],
   "source": [
    "import spans_utils\n",
    "from importlib import reload\n",
    "reload(spans_utils)\n",
    "from spans_utils import display_spans, spans2labels, labels2spans\n",
    "\n",
    "display_spans(trial.spans[0], trial.text[0])\n",
    "display_spans(trial.spans[0], trial.text[0])"
   ]
  },
  {
   "cell_type": "code",
   "execution_count": 12,
   "metadata": {},
   "outputs": [],
   "source": [
    "from tqdm.auto import tqdm, trange"
   ]
  },
  {
   "cell_type": "code",
   "execution_count": 15,
   "metadata": {},
   "outputs": [
    {
     "data": {
      "application/vnd.jupyter.widget-view+json": {
       "model_id": "02deb8286808482baa9163e9ebb8a6d4",
       "version_major": 2,
       "version_minor": 0
      },
      "text/plain": [
       "HBox(children=(FloatProgress(value=0.0, max=690.0), HTML(value='')))"
      ]
     },
     "metadata": {},
     "output_type": "display_data"
    },
    {
     "name": "stdout",
     "output_type": "stream",
     "text": [
      "\n",
      "0\n"
     ]
    }
   ],
   "source": [
    "n = 0\n",
    "for row in tqdm([row for i, row in trial.iterrows()]):\n",
    "    break\n",
    "    labels = spans2labels(row.text, row.spans, tokenizer)\n",
    "    spans2 = labels2spans(row.text, labels, tokenizer)\n",
    "    if row.spans != spans2:\n",
    "        t = row.text.replace(' ', '+')\n",
    "        display_spans(row.spans, t)\n",
    "        display_spans(spans2, t)\n",
    "        n += 1\n",
    "print(n)"
   ]
  },
  {
   "cell_type": "code",
   "execution_count": 16,
   "metadata": {},
   "outputs": [
    {
     "data": {
      "application/vnd.jupyter.widget-view+json": {
       "model_id": "4f526cee7c0a4c4dbc616b3463fd4782",
       "version_major": 2,
       "version_minor": 0
      },
      "text/plain": [
       "HBox(children=(FloatProgress(value=1.0, bar_style='info', layout=Layout(width='20px'), max=1.0), HTML(value=''…"
      ]
     },
     "metadata": {},
     "output_type": "display_data"
    },
    {
     "name": "stdout",
     "output_type": "stream",
     "text": [
      "\n"
     ]
    }
   ],
   "source": [
    "train_labels = [spans2labels(row.text, row.spans, tokenizer) for i, row in tqdm(train.iterrows())]"
   ]
  },
  {
   "cell_type": "code",
   "execution_count": 17,
   "metadata": {},
   "outputs": [
    {
     "data": {
      "application/vnd.jupyter.widget-view+json": {
       "model_id": "f2611a7c694048b9b4f1c922b20fcf6d",
       "version_major": 2,
       "version_minor": 0
      },
      "text/plain": [
       "HBox(children=(FloatProgress(value=1.0, bar_style='info', layout=Layout(width='20px'), max=1.0), HTML(value=''…"
      ]
     },
     "metadata": {},
     "output_type": "display_data"
    },
    {
     "name": "stdout",
     "output_type": "stream",
     "text": [
      "\n"
     ]
    }
   ],
   "source": [
    "trial_labels = [spans2labels(row.text, row.spans, tokenizer) for i, row in tqdm(trial.iterrows())]"
   ]
  },
  {
   "cell_type": "code",
   "execution_count": 18,
   "metadata": {},
   "outputs": [],
   "source": [
    "train['labels'] = train_labels\n",
    "trial['labels'] = trial_labels"
   ]
  },
  {
   "cell_type": "code",
   "execution_count": 19,
   "metadata": {},
   "outputs": [],
   "source": [
    "class SpansDataset(torch.utils.data.Dataset):\n",
    "    def __init__(self, encodings, labels=None):\n",
    "        self.encodings = encodings\n",
    "        self.labels = labels\n",
    "\n",
    "    def __getitem__(self, idx):\n",
    "        item = {key: val[idx] for key, val in self.encodings.items()}\n",
    "        if self.labels is not None:\n",
    "            item['labels'] = self.labels[idx]\n",
    "        return item\n",
    "\n",
    "    def __len__(self):\n",
    "        return len(self.encodings['input_ids'])"
   ]
  },
  {
   "cell_type": "code",
   "execution_count": 20,
   "metadata": {},
   "outputs": [],
   "source": [
    "train_dataset = SpansDataset(tokenizer(train.text.tolist()), train_labels)\n",
    "eval_dataset = SpansDataset(tokenizer(trial.text.tolist()), trial_labels)"
   ]
  },
  {
   "cell_type": "code",
   "execution_count": 21,
   "metadata": {},
   "outputs": [],
   "source": [
    "final_test_dataset = SpansDataset(tokenizer(final_test.text.tolist()))"
   ]
  },
  {
   "cell_type": "code",
   "execution_count": 22,
   "metadata": {},
   "outputs": [],
   "source": [
    "from transformers import DataCollatorForTokenClassification\n",
    "data_collator = DataCollatorForTokenClassification(tokenizer, padding=True)"
   ]
  },
  {
   "cell_type": "code",
   "execution_count": 23,
   "metadata": {},
   "outputs": [],
   "source": [
    "import numpy as np\n",
    "from semeval2021 import f1"
   ]
  },
  {
   "cell_type": "markdown",
   "metadata": {},
   "source": [
    "### Dataset for classification"
   ]
  },
  {
   "cell_type": "code",
   "execution_count": 107,
   "metadata": {},
   "outputs": [],
   "source": [
    "import pandas as pd"
   ]
  },
  {
   "cell_type": "code",
   "execution_count": 108,
   "metadata": {},
   "outputs": [
    {
     "name": "stdout",
     "output_type": "stream",
     "text": [
      "(358984, 2)\n"
     ]
    },
    {
     "data": {
      "text/html": [
       "<div>\n",
       "<style scoped>\n",
       "    .dataframe tbody tr th:only-of-type {\n",
       "        vertical-align: middle;\n",
       "    }\n",
       "\n",
       "    .dataframe tbody tr th {\n",
       "        vertical-align: top;\n",
       "    }\n",
       "\n",
       "    .dataframe thead th {\n",
       "        text-align: right;\n",
       "    }\n",
       "</style>\n",
       "<table border=\"1\" class=\"dataframe\">\n",
       "  <thead>\n",
       "    <tr style=\"text-align: right;\">\n",
       "      <th></th>\n",
       "      <th>comment_text</th>\n",
       "      <th>label</th>\n",
       "    </tr>\n",
       "  </thead>\n",
       "  <tbody>\n",
       "    <tr>\n",
       "      <th>222509</th>\n",
       "      <td>With Bannon out of the picture he's not nearly...</td>\n",
       "      <td>0</td>\n",
       "    </tr>\n",
       "    <tr>\n",
       "      <th>271397</th>\n",
       "      <td>If you want to save 15% on your car insurance ...</td>\n",
       "      <td>0</td>\n",
       "    </tr>\n",
       "    <tr>\n",
       "      <th>149303</th>\n",
       "      <td>he sounds like a moron...and to solidify  that...</td>\n",
       "      <td>1</td>\n",
       "    </tr>\n",
       "  </tbody>\n",
       "</table>\n",
       "</div>"
      ],
      "text/plain": [
       "                                             comment_text  label\n",
       "222509  With Bannon out of the picture he's not nearly...      0\n",
       "271397  If you want to save 15% on your car insurance ...      0\n",
       "149303  he sounds like a moron...and to solidify  that...      1"
      ]
     },
     "execution_count": 108,
     "metadata": {},
     "output_type": "execute_result"
    }
   ],
   "source": [
    "df1 = pd.read_csv('../data/train/train.1.tsv', sep='\\t')\n",
    "df0 = pd.read_csv('../data/train/train_small.0.tsv', sep='\\t')\n",
    "df01 = pd.concat([df1, df0], ignore_index=True)\n",
    "df01.label = df01.label.astype(int)\n",
    "print(df01.shape)\n",
    "df01.sample(3)"
   ]
  },
  {
   "cell_type": "code",
   "execution_count": 109,
   "metadata": {},
   "outputs": [],
   "source": [
    "from sklearn.model_selection import train_test_split\n",
    "df_train, df_test = train_test_split(df01, test_size=0.1, random_state=1)"
   ]
  },
  {
   "cell_type": "code",
   "execution_count": 110,
   "metadata": {},
   "outputs": [
    {
     "data": {
      "text/html": [
       "<div>\n",
       "<style scoped>\n",
       "    .dataframe tbody tr th:only-of-type {\n",
       "        vertical-align: middle;\n",
       "    }\n",
       "\n",
       "    .dataframe tbody tr th {\n",
       "        vertical-align: top;\n",
       "    }\n",
       "\n",
       "    .dataframe thead th {\n",
       "        text-align: right;\n",
       "    }\n",
       "</style>\n",
       "<table border=\"1\" class=\"dataframe\">\n",
       "  <thead>\n",
       "    <tr style=\"text-align: right;\">\n",
       "      <th></th>\n",
       "      <th>comment_text</th>\n",
       "      <th>label</th>\n",
       "    </tr>\n",
       "  </thead>\n",
       "  <tbody>\n",
       "    <tr>\n",
       "      <th>214726</th>\n",
       "      <td>My Dad had a saying, if you can't play, play l...</td>\n",
       "      <td>0</td>\n",
       "    </tr>\n",
       "    <tr>\n",
       "      <th>275434</th>\n",
       "      <td>Awesome! I realize players cannot / will not s...</td>\n",
       "      <td>0</td>\n",
       "    </tr>\n",
       "    <tr>\n",
       "      <th>315281</th>\n",
       "      <td>If it were a school, I'd fire the principal fo...</td>\n",
       "      <td>0</td>\n",
       "    </tr>\n",
       "    <tr>\n",
       "      <th>225573</th>\n",
       "      <td>Do you believe POTUS should stop having he and...</td>\n",
       "      <td>0</td>\n",
       "    </tr>\n",
       "    <tr>\n",
       "      <th>214259</th>\n",
       "      <td>The Liberals better wake up.  \\n\\nRemember wha...</td>\n",
       "      <td>0</td>\n",
       "    </tr>\n",
       "    <tr>\n",
       "      <th>274177</th>\n",
       "      <td>This legislature is violating the Alaska State...</td>\n",
       "      <td>0</td>\n",
       "    </tr>\n",
       "    <tr>\n",
       "      <th>20450</th>\n",
       "      <td>if a trip wire or sensors could be hooked up t...</td>\n",
       "      <td>1</td>\n",
       "    </tr>\n",
       "    <tr>\n",
       "      <th>182019</th>\n",
       "      <td>See what Dr. Fred Baughman had to say about dr...</td>\n",
       "      <td>0</td>\n",
       "    </tr>\n",
       "    <tr>\n",
       "      <th>317139</th>\n",
       "      <td>Impatient millinial. Is that something to adve...</td>\n",
       "      <td>0</td>\n",
       "    </tr>\n",
       "    <tr>\n",
       "      <th>23614</th>\n",
       "      <td>So ridiculous people still call this \"Our oil\"...</td>\n",
       "      <td>1</td>\n",
       "    </tr>\n",
       "  </tbody>\n",
       "</table>\n",
       "</div>"
      ],
      "text/plain": [
       "                                             comment_text  label\n",
       "214726  My Dad had a saying, if you can't play, play l...      0\n",
       "275434  Awesome! I realize players cannot / will not s...      0\n",
       "315281  If it were a school, I'd fire the principal fo...      0\n",
       "225573  Do you believe POTUS should stop having he and...      0\n",
       "214259  The Liberals better wake up.  \\n\\nRemember wha...      0\n",
       "274177  This legislature is violating the Alaska State...      0\n",
       "20450   if a trip wire or sensors could be hooked up t...      1\n",
       "182019  See what Dr. Fred Baughman had to say about dr...      0\n",
       "317139  Impatient millinial. Is that something to adve...      0\n",
       "23614   So ridiculous people still call this \"Our oil\"...      1"
      ]
     },
     "execution_count": 110,
     "metadata": {},
     "output_type": "execute_result"
    }
   ],
   "source": [
    "df_train.head(10)"
   ]
  },
  {
   "cell_type": "code",
   "execution_count": 111,
   "metadata": {},
   "outputs": [],
   "source": [
    "class SpansDataset(torch.utils.data.Dataset):\n",
    "    def __init__(self, encodings, labels=None):\n",
    "        self.encodings = encodings\n",
    "        self.labels = labels\n",
    "\n",
    "    def __getitem__(self, idx):\n",
    "        item = {key: val[idx] for key, val in self.encodings.items()}\n",
    "        if self.labels is not None:\n",
    "            item['labels'] = self.labels[idx]\n",
    "        return item\n",
    "\n",
    "    def __len__(self):\n",
    "        return len(self.encodings['input_ids'])"
   ]
  },
  {
   "cell_type": "code",
   "execution_count": 112,
   "metadata": {},
   "outputs": [],
   "source": [
    "clf_train_dataset = SpansDataset(\n",
    "    tokenizer(df_train.comment_text.tolist(), truncation=True), \n",
    "    df_train.label.tolist()\n",
    ")"
   ]
  },
  {
   "cell_type": "code",
   "execution_count": 113,
   "metadata": {},
   "outputs": [],
   "source": [
    "clf_test_dataset = SpansDataset(\n",
    "    tokenizer(df_test.comment_text.tolist(), truncation=True), \n",
    "    df_test.label.tolist()\n",
    ")"
   ]
  },
  {
   "cell_type": "code",
   "execution_count": 114,
   "metadata": {},
   "outputs": [],
   "source": [
    "clf_test_small_dataset = SpansDataset(\n",
    "    tokenizer(df_test.comment_text.iloc[:3000].tolist(), truncation=True), \n",
    "    df_test.label[:3000].tolist()\n",
    ")"
   ]
  },
  {
   "cell_type": "markdown",
   "metadata": {},
   "source": [
    "# Train a single-task model"
   ]
  },
  {
   "cell_type": "markdown",
   "metadata": {},
   "source": [
    "https://github.com/huggingface/notebooks/blob/master/examples/token_classification.ipynb\n",
    "https://huggingface.co/transformers/custom_datasets.html"
   ]
  },
  {
   "cell_type": "code",
   "execution_count": 35,
   "metadata": {},
   "outputs": [],
   "source": [
    "from transformers import Trainer, TrainingArguments, EarlyStoppingCallback\n",
    "from transformers.file_utils import cached_property\n",
    "from typing import Tuple\n",
    "\n",
    "class TrAr(TrainingArguments):\n",
    "    @cached_property\n",
    "    def _setup_devices(self):\n",
    "        return device"
   ]
  },
  {
   "cell_type": "code",
   "execution_count": 36,
   "metadata": {},
   "outputs": [],
   "source": [
    "torch.cuda.set_device(device)"
   ]
  },
  {
   "cell_type": "code",
   "execution_count": 37,
   "metadata": {},
   "outputs": [
    {
     "name": "stderr",
     "output_type": "stream",
     "text": [
      "Some weights of the model checkpoint at roberta-base were not used when initializing RobertaForTokenClassification: ['lm_head.bias', 'lm_head.dense.weight', 'lm_head.dense.bias', 'lm_head.layer_norm.weight', 'lm_head.layer_norm.bias', 'lm_head.decoder.weight']\n",
      "- This IS expected if you are initializing RobertaForTokenClassification from the checkpoint of a model trained on another task or with another architecture (e.g. initializing a BertForSequenceClassification model from a BertForPreTraining model).\n",
      "- This IS NOT expected if you are initializing RobertaForTokenClassification from the checkpoint of a model that you expect to be exactly identical (initializing a BertForSequenceClassification model from a BertForSequenceClassification model).\n",
      "Some weights of RobertaForTokenClassification were not initialized from the model checkpoint at roberta-base and are newly initialized: ['classifier.weight', 'classifier.bias']\n",
      "You should probably TRAIN this model on a down-stream task to be able to use it for predictions and inference.\n"
     ]
    }
   ],
   "source": [
    "model = AutoModelForTokenClassification.from_pretrained(model_name)\n",
    "model.to(device);"
   ]
  },
  {
   "cell_type": "code",
   "execution_count": 38,
   "metadata": {},
   "outputs": [],
   "source": [
    "for param in model.roberta.parameters():\n",
    "    param.requires_grad = False"
   ]
  },
  {
   "cell_type": "code",
   "execution_count": 42,
   "metadata": {},
   "outputs": [],
   "source": [
    "training_args = TrAr(\n",
    "    output_dir='./models2/roberta_single',   # output directory\n",
    "    overwrite_output_dir=True,\n",
    "    num_train_epochs=10,            # total # of training epochs\n",
    "    per_device_train_batch_size=8,  # batch size per device during training\n",
    "    per_device_eval_batch_size=8,   # batch size for evaluation\n",
    "    warmup_steps=3000,               # number of warmup steps for learning rate scheduler\n",
    "    weight_decay=1e-8,              # strength of weight decay\n",
    "    learning_rate=1e-3,\n",
    "    logging_dir='./logs',           # directory for storing logs\n",
    "    logging_steps=100,\n",
    "    eval_steps=100,\n",
    "    evaluation_strategy='steps',\n",
    "    save_total_limit=1,\n",
    "    load_best_model_at_end=True,\n",
    ")"
   ]
  },
  {
   "cell_type": "code",
   "execution_count": 43,
   "metadata": {},
   "outputs": [],
   "source": [
    "trainer = Trainer(\n",
    "    model=model,                         # the instantiated 🤗 Transformers model to be trained\n",
    "    args=training_args,                  # training arguments, defined above\n",
    "    train_dataset=train_dataset,         # training dataset\n",
    "    eval_dataset=eval_dataset,           # evaluation dataset\n",
    "    data_collator=data_collator,\n",
    "    tokenizer=tokenizer,\n",
    "    callbacks=[EarlyStoppingCallback(early_stopping_patience=3, early_stopping_threshold=0)]\n",
    ")"
   ]
  },
  {
   "cell_type": "code",
   "execution_count": 44,
   "metadata": {},
   "outputs": [
    {
     "data": {
      "text/html": [
       "\n",
       "    <div>\n",
       "        <style>\n",
       "            /* Turns off some styling */\n",
       "            progress {\n",
       "                /* gets rid of default border in Firefox and Opera. */\n",
       "                border: none;\n",
       "                /* Needs to be in here for Safari polyfill so background images work as expected. */\n",
       "                background-size: auto;\n",
       "            }\n",
       "        </style>\n",
       "      \n",
       "      <progress value='3300' max='9930' style='width:300px; height:20px; vertical-align: middle;'></progress>\n",
       "      [3300/9930 03:53 < 07:49, 14.13 it/s, Epoch 3/10]\n",
       "    </div>\n",
       "    <table border=\"1\" class=\"dataframe\">\n",
       "  <thead>\n",
       "    <tr style=\"text-align: left;\">\n",
       "      <th>Step</th>\n",
       "      <th>Training Loss</th>\n",
       "      <th>Validation Loss</th>\n",
       "      <th>Runtime</th>\n",
       "      <th>Samples Per Second</th>\n",
       "    </tr>\n",
       "  </thead>\n",
       "  <tbody>\n",
       "    <tr>\n",
       "      <td>100</td>\n",
       "      <td>0.869200</td>\n",
       "      <td>0.809791</td>\n",
       "      <td>2.386100</td>\n",
       "      <td>289.170000</td>\n",
       "    </tr>\n",
       "    <tr>\n",
       "      <td>200</td>\n",
       "      <td>0.716500</td>\n",
       "      <td>0.603003</td>\n",
       "      <td>2.303700</td>\n",
       "      <td>299.515000</td>\n",
       "    </tr>\n",
       "    <tr>\n",
       "      <td>300</td>\n",
       "      <td>0.502000</td>\n",
       "      <td>0.394694</td>\n",
       "      <td>2.192600</td>\n",
       "      <td>314.698000</td>\n",
       "    </tr>\n",
       "    <tr>\n",
       "      <td>400</td>\n",
       "      <td>0.353700</td>\n",
       "      <td>0.284466</td>\n",
       "      <td>2.206600</td>\n",
       "      <td>312.698000</td>\n",
       "    </tr>\n",
       "    <tr>\n",
       "      <td>500</td>\n",
       "      <td>0.276600</td>\n",
       "      <td>0.248568</td>\n",
       "      <td>2.185200</td>\n",
       "      <td>315.762000</td>\n",
       "    </tr>\n",
       "    <tr>\n",
       "      <td>600</td>\n",
       "      <td>0.283500</td>\n",
       "      <td>0.230986</td>\n",
       "      <td>2.258300</td>\n",
       "      <td>305.541000</td>\n",
       "    </tr>\n",
       "    <tr>\n",
       "      <td>700</td>\n",
       "      <td>0.284800</td>\n",
       "      <td>0.220532</td>\n",
       "      <td>2.229300</td>\n",
       "      <td>309.510000</td>\n",
       "    </tr>\n",
       "    <tr>\n",
       "      <td>800</td>\n",
       "      <td>0.257900</td>\n",
       "      <td>0.213154</td>\n",
       "      <td>2.220600</td>\n",
       "      <td>310.730000</td>\n",
       "    </tr>\n",
       "    <tr>\n",
       "      <td>900</td>\n",
       "      <td>0.237000</td>\n",
       "      <td>0.207164</td>\n",
       "      <td>2.245200</td>\n",
       "      <td>307.320000</td>\n",
       "    </tr>\n",
       "    <tr>\n",
       "      <td>1000</td>\n",
       "      <td>0.245900</td>\n",
       "      <td>0.203607</td>\n",
       "      <td>2.321700</td>\n",
       "      <td>297.196000</td>\n",
       "    </tr>\n",
       "    <tr>\n",
       "      <td>1100</td>\n",
       "      <td>0.241400</td>\n",
       "      <td>0.201099</td>\n",
       "      <td>2.278800</td>\n",
       "      <td>302.794000</td>\n",
       "    </tr>\n",
       "    <tr>\n",
       "      <td>1200</td>\n",
       "      <td>0.246600</td>\n",
       "      <td>0.198631</td>\n",
       "      <td>2.293400</td>\n",
       "      <td>300.865000</td>\n",
       "    </tr>\n",
       "    <tr>\n",
       "      <td>1300</td>\n",
       "      <td>0.240800</td>\n",
       "      <td>0.197461</td>\n",
       "      <td>2.225200</td>\n",
       "      <td>310.083000</td>\n",
       "    </tr>\n",
       "    <tr>\n",
       "      <td>1400</td>\n",
       "      <td>0.242900</td>\n",
       "      <td>0.196184</td>\n",
       "      <td>2.303900</td>\n",
       "      <td>299.488000</td>\n",
       "    </tr>\n",
       "    <tr>\n",
       "      <td>1500</td>\n",
       "      <td>0.233500</td>\n",
       "      <td>0.195025</td>\n",
       "      <td>2.265700</td>\n",
       "      <td>304.540000</td>\n",
       "    </tr>\n",
       "    <tr>\n",
       "      <td>1600</td>\n",
       "      <td>0.238800</td>\n",
       "      <td>0.193906</td>\n",
       "      <td>2.221500</td>\n",
       "      <td>310.597000</td>\n",
       "    </tr>\n",
       "    <tr>\n",
       "      <td>1700</td>\n",
       "      <td>0.261100</td>\n",
       "      <td>0.193407</td>\n",
       "      <td>2.298600</td>\n",
       "      <td>300.189000</td>\n",
       "    </tr>\n",
       "    <tr>\n",
       "      <td>1800</td>\n",
       "      <td>0.229500</td>\n",
       "      <td>0.192580</td>\n",
       "      <td>2.271800</td>\n",
       "      <td>303.722000</td>\n",
       "    </tr>\n",
       "    <tr>\n",
       "      <td>1900</td>\n",
       "      <td>0.256500</td>\n",
       "      <td>0.191718</td>\n",
       "      <td>2.177500</td>\n",
       "      <td>316.878000</td>\n",
       "    </tr>\n",
       "    <tr>\n",
       "      <td>2000</td>\n",
       "      <td>0.211600</td>\n",
       "      <td>0.190956</td>\n",
       "      <td>2.264700</td>\n",
       "      <td>304.670000</td>\n",
       "    </tr>\n",
       "    <tr>\n",
       "      <td>2100</td>\n",
       "      <td>0.236700</td>\n",
       "      <td>0.191092</td>\n",
       "      <td>2.265000</td>\n",
       "      <td>304.633000</td>\n",
       "    </tr>\n",
       "    <tr>\n",
       "      <td>2200</td>\n",
       "      <td>0.253200</td>\n",
       "      <td>0.192811</td>\n",
       "      <td>2.331200</td>\n",
       "      <td>295.985000</td>\n",
       "    </tr>\n",
       "    <tr>\n",
       "      <td>2300</td>\n",
       "      <td>0.237300</td>\n",
       "      <td>0.190672</td>\n",
       "      <td>2.219500</td>\n",
       "      <td>310.882000</td>\n",
       "    </tr>\n",
       "    <tr>\n",
       "      <td>2400</td>\n",
       "      <td>0.201800</td>\n",
       "      <td>0.190424</td>\n",
       "      <td>2.334400</td>\n",
       "      <td>295.574000</td>\n",
       "    </tr>\n",
       "    <tr>\n",
       "      <td>2500</td>\n",
       "      <td>0.215600</td>\n",
       "      <td>0.189549</td>\n",
       "      <td>2.420500</td>\n",
       "      <td>285.065000</td>\n",
       "    </tr>\n",
       "    <tr>\n",
       "      <td>2600</td>\n",
       "      <td>0.219900</td>\n",
       "      <td>0.189416</td>\n",
       "      <td>2.305300</td>\n",
       "      <td>299.311000</td>\n",
       "    </tr>\n",
       "    <tr>\n",
       "      <td>2700</td>\n",
       "      <td>0.243100</td>\n",
       "      <td>0.188780</td>\n",
       "      <td>2.192400</td>\n",
       "      <td>314.722000</td>\n",
       "    </tr>\n",
       "    <tr>\n",
       "      <td>2800</td>\n",
       "      <td>0.243800</td>\n",
       "      <td>0.189499</td>\n",
       "      <td>2.392600</td>\n",
       "      <td>288.386000</td>\n",
       "    </tr>\n",
       "    <tr>\n",
       "      <td>2900</td>\n",
       "      <td>0.252500</td>\n",
       "      <td>0.188836</td>\n",
       "      <td>2.378300</td>\n",
       "      <td>290.121000</td>\n",
       "    </tr>\n",
       "    <tr>\n",
       "      <td>3000</td>\n",
       "      <td>0.244300</td>\n",
       "      <td>0.188119</td>\n",
       "      <td>2.443800</td>\n",
       "      <td>282.349000</td>\n",
       "    </tr>\n",
       "    <tr>\n",
       "      <td>3100</td>\n",
       "      <td>0.235700</td>\n",
       "      <td>0.189351</td>\n",
       "      <td>2.391500</td>\n",
       "      <td>288.520000</td>\n",
       "    </tr>\n",
       "    <tr>\n",
       "      <td>3200</td>\n",
       "      <td>0.228100</td>\n",
       "      <td>0.188279</td>\n",
       "      <td>2.500300</td>\n",
       "      <td>275.969000</td>\n",
       "    </tr>\n",
       "    <tr>\n",
       "      <td>3300</td>\n",
       "      <td>0.235600</td>\n",
       "      <td>0.188437</td>\n",
       "      <td>2.424500</td>\n",
       "      <td>284.598000</td>\n",
       "    </tr>\n",
       "  </tbody>\n",
       "</table><p>"
      ],
      "text/plain": [
       "<IPython.core.display.HTML object>"
      ]
     },
     "metadata": {},
     "output_type": "display_data"
    },
    {
     "data": {
      "text/plain": [
       "TrainOutput(global_step=3300, training_loss=0.2872040771715569, metrics={'train_runtime': 233.4637, 'train_samples_per_second': 42.533, 'total_flos': 2549211576987996, 'epoch': 3.32})"
      ]
     },
     "execution_count": 44,
     "metadata": {},
     "output_type": "execute_result"
    }
   ],
   "source": [
    "trainer.train()"
   ]
  },
  {
   "cell_type": "code",
   "execution_count": 45,
   "metadata": {},
   "outputs": [],
   "source": [
    "for param in model.parameters():\n",
    "    param.requires_grad = True"
   ]
  },
  {
   "cell_type": "code",
   "execution_count": 52,
   "metadata": {},
   "outputs": [],
   "source": [
    "training_args = TrAr(\n",
    "    output_dir='./models2/roberta_single',   # output directory\n",
    "    overwrite_output_dir=True,\n",
    "    num_train_epochs=10,            # total # of training epochs\n",
    "    per_device_train_batch_size=8,  # batch size per device during training\n",
    "    per_device_eval_batch_size=8,   # batch size for evaluation\n",
    "    warmup_steps=3000,               # number of warmup steps for learning rate scheduler\n",
    "    weight_decay=1e-8,              # strength of weight decay\n",
    "    learning_rate=1e-5,\n",
    "    logging_dir='./logs',           # directory for storing logs\n",
    "    logging_steps=500,\n",
    "    eval_steps=500,\n",
    "    evaluation_strategy='steps',\n",
    "    save_total_limit=1,\n",
    "    load_best_model_at_end=True,\n",
    ")"
   ]
  },
  {
   "cell_type": "code",
   "execution_count": 53,
   "metadata": {},
   "outputs": [],
   "source": [
    "trainer = Trainer(\n",
    "    model=model,                         # the instantiated 🤗 Transformers model to be trained\n",
    "    args=training_args,                  # training arguments, defined above\n",
    "    train_dataset=train_dataset,         # training dataset\n",
    "    eval_dataset=eval_dataset,           # evaluation dataset\n",
    "    data_collator=data_collator,\n",
    "    tokenizer=tokenizer,\n",
    "    callbacks=[EarlyStoppingCallback(early_stopping_patience=3, early_stopping_threshold=0)]\n",
    ")"
   ]
  },
  {
   "cell_type": "markdown",
   "metadata": {},
   "source": [
    "* The minimal loss of a single-task model (full) was about 28% on validation with 0.04 on train. \n",
    "* If we first train only head (batch 8, lr 1e-3 with 3K warmup and 1e-8 decline), we get minimal loss of 0.185 on validation with 0.23 on train\n",
    "* Training then the whole model (batch 8, lr 1e-5 with 3K warmup and 1e-8 decline) we get minimal loss of 0.175 on validation with 0.21 on train"
   ]
  },
  {
   "cell_type": "code",
   "execution_count": 54,
   "metadata": {},
   "outputs": [
    {
     "data": {
      "text/html": [
       "\n",
       "    <div>\n",
       "        <style>\n",
       "            /* Turns off some styling */\n",
       "            progress {\n",
       "                /* gets rid of default border in Firefox and Opera. */\n",
       "                border: none;\n",
       "                /* Needs to be in here for Safari polyfill so background images work as expected. */\n",
       "                background-size: auto;\n",
       "            }\n",
       "        </style>\n",
       "      \n",
       "      <progress value='3500' max='9930' style='width:300px; height:20px; vertical-align: middle;'></progress>\n",
       "      [3500/9930 07:41 < 14:08, 7.58 it/s, Epoch 3/10]\n",
       "    </div>\n",
       "    <table border=\"1\" class=\"dataframe\">\n",
       "  <thead>\n",
       "    <tr style=\"text-align: left;\">\n",
       "      <th>Step</th>\n",
       "      <th>Training Loss</th>\n",
       "      <th>Validation Loss</th>\n",
       "      <th>Runtime</th>\n",
       "      <th>Samples Per Second</th>\n",
       "    </tr>\n",
       "  </thead>\n",
       "  <tbody>\n",
       "    <tr>\n",
       "      <td>500</td>\n",
       "      <td>0.214300</td>\n",
       "      <td>0.183102</td>\n",
       "      <td>2.275500</td>\n",
       "      <td>303.228000</td>\n",
       "    </tr>\n",
       "    <tr>\n",
       "      <td>1000</td>\n",
       "      <td>0.231800</td>\n",
       "      <td>0.178588</td>\n",
       "      <td>2.282300</td>\n",
       "      <td>302.324000</td>\n",
       "    </tr>\n",
       "    <tr>\n",
       "      <td>1500</td>\n",
       "      <td>0.228400</td>\n",
       "      <td>0.178426</td>\n",
       "      <td>2.267800</td>\n",
       "      <td>304.266000</td>\n",
       "    </tr>\n",
       "    <tr>\n",
       "      <td>2000</td>\n",
       "      <td>0.219600</td>\n",
       "      <td>0.174098</td>\n",
       "      <td>2.316700</td>\n",
       "      <td>297.833000</td>\n",
       "    </tr>\n",
       "    <tr>\n",
       "      <td>2500</td>\n",
       "      <td>0.216500</td>\n",
       "      <td>0.181011</td>\n",
       "      <td>2.336500</td>\n",
       "      <td>295.308000</td>\n",
       "    </tr>\n",
       "    <tr>\n",
       "      <td>3000</td>\n",
       "      <td>0.218200</td>\n",
       "      <td>0.181870</td>\n",
       "      <td>2.270400</td>\n",
       "      <td>303.906000</td>\n",
       "    </tr>\n",
       "    <tr>\n",
       "      <td>3500</td>\n",
       "      <td>0.206900</td>\n",
       "      <td>0.175007</td>\n",
       "      <td>2.270100</td>\n",
       "      <td>303.947000</td>\n",
       "    </tr>\n",
       "  </tbody>\n",
       "</table><p>"
      ],
      "text/plain": [
       "<IPython.core.display.HTML object>"
      ]
     },
     "metadata": {},
     "output_type": "display_data"
    },
    {
     "data": {
      "text/plain": [
       "TrainOutput(global_step=3500, training_loss=0.2193861323765346, metrics={'train_runtime': 461.8953, 'train_samples_per_second': 21.498, 'total_flos': 2707692614817216, 'epoch': 3.52})"
      ]
     },
     "execution_count": 54,
     "metadata": {},
     "output_type": "execute_result"
    }
   ],
   "source": [
    "trainer.train()"
   ]
  },
  {
   "cell_type": "code",
   "execution_count": 68,
   "metadata": {},
   "outputs": [],
   "source": [
    "model.save_pretrained('./models2/roberta_single')"
   ]
  },
  {
   "cell_type": "code",
   "execution_count": 67,
   "metadata": {},
   "outputs": [
    {
     "data": {
      "text/html": [
       "\n",
       "    <div>\n",
       "        <style>\n",
       "            /* Turns off some styling */\n",
       "            progress {\n",
       "                /* gets rid of default border in Firefox and Opera. */\n",
       "                border: none;\n",
       "                /* Needs to be in here for Safari polyfill so background images work as expected. */\n",
       "                background-size: auto;\n",
       "            }\n",
       "        </style>\n",
       "      \n",
       "      <progress value='174' max='87' style='width:300px; height:20px; vertical-align: middle;'></progress>\n",
       "      [87/87 00:44]\n",
       "    </div>\n",
       "    "
      ],
      "text/plain": [
       "<IPython.core.display.HTML object>"
      ]
     },
     "metadata": {},
     "output_type": "display_data"
    },
    {
     "data": {
      "text/plain": [
       "{'eval_loss': 0.17584852874279022}"
      ]
     },
     "execution_count": 67,
     "metadata": {},
     "output_type": "execute_result"
    }
   ],
   "source": [
    "trainer.evaluate()"
   ]
  },
  {
   "cell_type": "markdown",
   "metadata": {},
   "source": [
    "### evaluate"
   ]
  },
  {
   "cell_type": "code",
   "execution_count": 55,
   "metadata": {},
   "outputs": [
    {
     "data": {
      "text/html": [
       "\n",
       "    <div>\n",
       "        <style>\n",
       "            /* Turns off some styling */\n",
       "            progress {\n",
       "                /* gets rid of default border in Firefox and Opera. */\n",
       "                border: none;\n",
       "                /* Needs to be in here for Safari polyfill so background images work as expected. */\n",
       "                background-size: auto;\n",
       "            }\n",
       "        </style>\n",
       "      \n",
       "      <progress value='337' max='87' style='width:300px; height:20px; vertical-align: middle;'></progress>\n",
       "      [87/87 09:50]\n",
       "    </div>\n",
       "    "
      ],
      "text/plain": [
       "<IPython.core.display.HTML object>"
      ]
     },
     "metadata": {},
     "output_type": "display_data"
    }
   ],
   "source": [
    "pred = trainer.predict(eval_dataset)"
   ]
  },
  {
   "cell_type": "code",
   "execution_count": 56,
   "metadata": {},
   "outputs": [
    {
     "name": "stdout",
     "output_type": "stream",
     "text": [
      "0 0.21345926240649193\n",
      "0.01 0.2522426276657023\n",
      "0.03 0.39910998627052807\n",
      "0.1 0.5959594514495652\n",
      "0.3 0.6691954194658056\n",
      "0.4 0.6734060063813712\n",
      "0.5 0.6728307956631072\n",
      "0.6 0.652604453261445\n",
      "0.7 0.6215603361690663\n",
      "1 0.06231884057971015\n"
     ]
    }
   ],
   "source": [
    "for threshold in [0, 0.01, 0.03, 0.1, 0.3, 0.4, 0.5, 0.6, 0.7, 1]:\n",
    "    preds = []\n",
    "    for text, pr in zip(trial.text, pred.predictions):\n",
    "        proba = np.exp(pr[pr[:, 0]!=-100])\n",
    "        proba /= proba.sum(axis=1, keepdims=True)\n",
    "        labels = (proba[:, 1] >= threshold).astype(int).tolist()\n",
    "        preds.append(labels2spans(text, labels, tokenizer))\n",
    "    print(threshold, np.mean([f1(p, y) for p, y in zip(preds, trial.spans)]))"
   ]
  },
  {
   "cell_type": "code",
   "execution_count": 57,
   "metadata": {},
   "outputs": [
    {
     "name": "stdout",
     "output_type": "stream",
     "text": [
      "0.3 0.6691954194658056\n",
      "0.32 0.6719575974133731\n",
      "0.35 0.6718814105545576\n",
      "0.38 0.6704494596966453\n",
      "0.4 0.6734060063813712\n",
      "0.42 0.6733924519991911\n",
      "0.45 0.675073109186953\n",
      "0.5 0.6728307956631072\n",
      "0.55 0.6635405099600963\n",
      "0.6 0.652604453261445\n"
     ]
    }
   ],
   "source": [
    "for threshold in [0.3, 0.32, 0.35, 0.38, 0.4, 0.42, 0.45, 0.5, 0.55, 0.6]:\n",
    "    preds = []\n",
    "    for text, pr in zip(trial.text, pred.predictions):\n",
    "        proba = np.exp(pr[pr[:, 0]!=-100])\n",
    "        proba /= proba.sum(axis=1, keepdims=True)\n",
    "        labels = (proba[:, 1] >= threshold).astype(int).tolist()\n",
    "        preds.append(labels2spans(text, labels, tokenizer))\n",
    "    print(threshold, np.mean([f1(p, y) for p, y in zip(preds, trial.spans)]))"
   ]
  },
  {
   "cell_type": "markdown",
   "metadata": {},
   "source": [
    "## Prepare a submission"
   ]
  },
  {
   "cell_type": "code",
   "execution_count": 59,
   "metadata": {},
   "outputs": [],
   "source": [
    "pred = trainer.predict(final_test_dataset)"
   ]
  },
  {
   "cell_type": "code",
   "execution_count": 98,
   "metadata": {},
   "outputs": [],
   "source": [
    "threshold = 0.4\n",
    "preds = []\n",
    "for text, pr in zip(final_test.text, pred.predictions):\n",
    "    proba = np.exp(pr[pr[:, 0]!=-100])\n",
    "    proba /= proba.sum(axis=1, keepdims=True)\n",
    "    labels = (proba[:, 1] >= threshold).astype(int).tolist()\n",
    "    preds.append(labels2spans(text, labels, tokenizer))"
   ]
  },
  {
   "cell_type": "code",
   "execution_count": 99,
   "metadata": {},
   "outputs": [
    {
     "data": {
      "text/html": [
       "What a <b>stupid</b> thing to say."
      ],
      "text/plain": [
       "<IPython.core.display.HTML object>"
      ]
     },
     "metadata": {},
     "output_type": "display_data"
    }
   ],
   "source": [
    "row = final_test.sample(1).iloc[0]\n",
    "display_spans(preds[row.name], row.text)"
   ]
  },
  {
   "cell_type": "markdown",
   "metadata": {},
   "source": [
    "65.31% "
   ]
  },
  {
   "cell_type": "code",
   "execution_count": 100,
   "metadata": {},
   "outputs": [
    {
     "name": "stdout",
     "output_type": "stream",
     "text": [
      "0.6631491659944739\n"
     ]
    }
   ],
   "source": [
    "print(np.mean([f1(p, y) for p, y in zip(preds, final_test.spans)]))"
   ]
  },
  {
   "cell_type": "markdown",
   "metadata": {},
   "source": [
    "# WM Classifier + tagging"
   ]
  },
  {
   "cell_type": "code",
   "execution_count": 101,
   "metadata": {},
   "outputs": [],
   "source": [
    "from transformers import RobertaTokenizer, RobertaForTokenClassification, RobertaForSequenceClassification\n",
    "from transformers import BertTokenizer, BertForTokenClassification\n",
    "from transformers import AutoTokenizer, AutoModelForTokenClassification\n",
    "import torch"
   ]
  },
  {
   "cell_type": "code",
   "execution_count": 102,
   "metadata": {},
   "outputs": [],
   "source": [
    "from transformers.models.roberta.modeling_roberta import RobertaModel\n",
    "from transformers.modeling_outputs import SequenceClassifierOutput\n",
    "import torch.nn as nn\n",
    "from torch.nn import CrossEntropyLoss, MSELoss\n",
    "\n",
    "class WMean(nn.Module):\n",
    "    def __init__(self, dim=-2):\n",
    "        super(WMean, self).__init__()\n",
    "        self.pow = torch.nn.Parameter(data=torch.Tensor([1.0]), requires_grad=True)\n",
    "        self.coef = torch.nn.Parameter(data=torch.Tensor([0.0, 1.0]), requires_grad=True)\n",
    "        self.dim = dim\n",
    "    \n",
    "    def forward(self, x, mask=None):\n",
    "        result = x ** self.pow[0]\n",
    "        if mask is None:\n",
    "            mp = result.mean(dim=-1)\n",
    "        else:\n",
    "            mp = (result * mask).sum(dim=self.dim) / mask.sum(dim=self.dim)\n",
    "        return torch.log(mp) * self.coef[1] + self.coef[0]\n",
    "\n",
    "\n",
    "class RobertaTaggerClassifier(RobertaForTokenClassification):\n",
    "    def __init__(self, config):\n",
    "        super().__init__(config)\n",
    "        self.num_labels = config.num_labels\n",
    "\n",
    "        self.roberta = RobertaModel(config, add_pooling_layer=False)\n",
    "        self.dropout = nn.Dropout(config.hidden_dropout_prob)\n",
    "        self.classifier = nn.Linear(config.hidden_size, config.num_labels)\n",
    "        self.wmean = WMean()\n",
    "\n",
    "        self.init_weights()\n",
    "\n",
    "    def forward(\n",
    "        self,\n",
    "        input_ids=None,\n",
    "        attention_mask=None,\n",
    "        token_type_ids=None,\n",
    "        position_ids=None,\n",
    "        head_mask=None,\n",
    "        inputs_embeds=None,\n",
    "        labels=None,\n",
    "        output_attentions=None,\n",
    "        output_hidden_states=None,\n",
    "        return_dict=None,\n",
    "    ):\n",
    "        return_dict = return_dict if return_dict is not None else self.config.use_return_dict\n",
    "\n",
    "        outputs = self.roberta(\n",
    "            input_ids,\n",
    "            attention_mask=attention_mask,\n",
    "            token_type_ids=token_type_ids,\n",
    "            position_ids=position_ids,\n",
    "            head_mask=head_mask,\n",
    "            inputs_embeds=inputs_embeds,\n",
    "            output_attentions=output_attentions,\n",
    "            output_hidden_states=output_hidden_states,\n",
    "            return_dict=return_dict,\n",
    "        )\n",
    "\n",
    "        sequence_output = outputs[0]\n",
    "\n",
    "        sequence_output = self.dropout(sequence_output)\n",
    "        token_logits = self.classifier(sequence_output)\n",
    "\n",
    "        if attention_mask is not None:\n",
    "            masks = attention_mask.unsqueeze(-1).repeat(1, 1, 2)\n",
    "        else:\n",
    "            masks = None\n",
    "\n",
    "        logits = self.wmean(torch.softmax(token_logits, dim=-1), mask=masks)\n",
    "\n",
    "        loss = None\n",
    "        if labels is not None:\n",
    "            if self.num_labels == 1:\n",
    "                #  We are doing regression\n",
    "                loss_fct = MSELoss()\n",
    "                loss = loss_fct(logits.view(-1), labels.view(-1))\n",
    "            else:\n",
    "                loss_fct = CrossEntropyLoss()\n",
    "                loss = loss_fct(logits.view(-1, self.num_labels), labels.view(-1))\n",
    "\n",
    "        if not return_dict:\n",
    "            output = (logits,) + outputs[2:]\n",
    "            return ((loss,) + output) if loss is not None else output\n",
    "\n",
    "        return SequenceClassifierOutput(\n",
    "            loss=loss,\n",
    "            logits=logits,\n",
    "            hidden_states=outputs.hidden_states,\n",
    "            attentions=outputs.attentions,\n",
    "        )"
   ]
  },
  {
   "cell_type": "code",
   "execution_count": 103,
   "metadata": {},
   "outputs": [
    {
     "name": "stderr",
     "output_type": "stream",
     "text": [
      "Some weights of the model checkpoint at roberta-base were not used when initializing RobertaTaggerClassifier: ['lm_head.bias', 'lm_head.dense.weight', 'lm_head.dense.bias', 'lm_head.layer_norm.weight', 'lm_head.layer_norm.bias', 'lm_head.decoder.weight']\n",
      "- This IS expected if you are initializing RobertaTaggerClassifier from the checkpoint of a model trained on another task or with another architecture (e.g. initializing a BertForSequenceClassification model from a BertForPreTraining model).\n",
      "- This IS NOT expected if you are initializing RobertaTaggerClassifier from the checkpoint of a model that you expect to be exactly identical (initializing a BertForSequenceClassification model from a BertForSequenceClassification model).\n",
      "Some weights of RobertaTaggerClassifier were not initialized from the model checkpoint at roberta-base and are newly initialized: ['classifier.weight', 'classifier.bias', 'wmean.pow', 'wmean.coef']\n",
      "You should probably TRAIN this model on a down-stream task to be able to use it for predictions and inference.\n"
     ]
    }
   ],
   "source": [
    "model = RobertaTaggerClassifier.from_pretrained('roberta-base')"
   ]
  },
  {
   "cell_type": "code",
   "execution_count": 104,
   "metadata": {},
   "outputs": [],
   "source": [
    "tokenizer = AutoTokenizer.from_pretrained('roberta-base')"
   ]
  },
  {
   "cell_type": "code",
   "execution_count": 105,
   "metadata": {},
   "outputs": [],
   "source": [
    "inputs = tokenizer(\"Hello, my dog is cute\", return_tensors=\"pt\")"
   ]
  },
  {
   "cell_type": "code",
   "execution_count": 106,
   "metadata": {},
   "outputs": [
    {
     "data": {
      "text/plain": [
       "SequenceClassifierOutput(loss=None, logits=tensor([[-1.0804, -0.4147]]), hidden_states=None, attentions=None)"
      ]
     },
     "execution_count": 106,
     "metadata": {},
     "output_type": "execute_result"
    }
   ],
   "source": [
    "with torch.no_grad():\n",
    "    o = model(**inputs)\n",
    "o"
   ]
  },
  {
   "cell_type": "code",
   "execution_count": 116,
   "metadata": {},
   "outputs": [],
   "source": [
    "#device = torch.device('cuda:3')\n",
    "\n",
    "from transformers import Trainer, TrainingArguments\n",
    "from transformers.file_utils import cached_property\n",
    "from typing import Tuple\n",
    "\n",
    "class TrAr(TrainingArguments):\n",
    "    @cached_property\n",
    "    def _setup_devices(self):\n",
    "        return device"
   ]
  },
  {
   "cell_type": "markdown",
   "metadata": {},
   "source": [
    "The strategy: first tune the head only with large batches and LR, then tune the whole model. \n",
    "\n",
    "Head-only stops at loss 0.4185, full model - at loss 0.302685"
   ]
  },
  {
   "cell_type": "code",
   "execution_count": 119,
   "metadata": {},
   "outputs": [],
   "source": [
    "for param in model.roberta.parameters():\n",
    "    param.requires_grad = False"
   ]
  },
  {
   "cell_type": "code",
   "execution_count": 117,
   "metadata": {},
   "outputs": [],
   "source": [
    "NEW_MODEL_NAME = './models2/roberta_clf_wm'"
   ]
  },
  {
   "cell_type": "code",
   "execution_count": 127,
   "metadata": {},
   "outputs": [],
   "source": [
    "training_args = TrAr(\n",
    "    output_dir=NEW_MODEL_NAME,   # output directory\n",
    "    overwrite_output_dir=True,\n",
    "    num_train_epochs=10,            # total # of training epochs\n",
    "    per_device_train_batch_size=8,  # batch size per device during training\n",
    "    per_device_eval_batch_size=64,   # batch size for evaluation\n",
    "    warmup_steps=3000,               # number of warmup steps for learning rate scheduler\n",
    "    weight_decay=1e-8,              # strength of weight decay\n",
    "    learning_rate=1e-3,\n",
    "    logging_dir='./logs',           # directory for storing logs\n",
    "    logging_steps=100,\n",
    "    eval_steps=500,\n",
    "    evaluation_strategy='steps',\n",
    "    save_total_limit=1,\n",
    "    load_best_model_at_end=True,\n",
    ")"
   ]
  },
  {
   "cell_type": "code",
   "execution_count": 128,
   "metadata": {},
   "outputs": [],
   "source": [
    "trainer = Trainer(\n",
    "    model=model,                         # the instantiated 🤗 Transformers model to be trained\n",
    "    args=training_args,                  # training arguments, defined above\n",
    "    train_dataset=clf_train_dataset,         # training dataset\n",
    "    eval_dataset=clf_test_small_dataset,           # evaluation dataset\n",
    "    #data_collator=data_collator,\n",
    "    tokenizer=tokenizer,\n",
    "    callbacks=[EarlyStoppingCallback(early_stopping_patience=3, early_stopping_threshold=0)]\n",
    ")"
   ]
  },
  {
   "cell_type": "code",
   "execution_count": 129,
   "metadata": {},
   "outputs": [
    {
     "data": {
      "text/html": [
       "\n",
       "    <div>\n",
       "        <style>\n",
       "            /* Turns off some styling */\n",
       "            progress {\n",
       "                /* gets rid of default border in Firefox and Opera. */\n",
       "                border: none;\n",
       "                /* Needs to be in here for Safari polyfill so background images work as expected. */\n",
       "                background-size: auto;\n",
       "            }\n",
       "        </style>\n",
       "      \n",
       "      <progress value='5500' max='403860' style='width:300px; height:20px; vertical-align: middle;'></progress>\n",
       "      [  5500/403860 07:04 < 8:32:37, 12.95 it/s, Epoch 0/10]\n",
       "    </div>\n",
       "    <table border=\"1\" class=\"dataframe\">\n",
       "  <thead>\n",
       "    <tr style=\"text-align: left;\">\n",
       "      <th>Step</th>\n",
       "      <th>Training Loss</th>\n",
       "      <th>Validation Loss</th>\n",
       "      <th>Runtime</th>\n",
       "      <th>Samples Per Second</th>\n",
       "    </tr>\n",
       "  </thead>\n",
       "  <tbody>\n",
       "    <tr>\n",
       "      <td>500</td>\n",
       "      <td>0.668000</td>\n",
       "      <td>0.654588</td>\n",
       "      <td>15.743200</td>\n",
       "      <td>190.559000</td>\n",
       "    </tr>\n",
       "    <tr>\n",
       "      <td>1000</td>\n",
       "      <td>0.586400</td>\n",
       "      <td>0.563334</td>\n",
       "      <td>15.741400</td>\n",
       "      <td>190.581000</td>\n",
       "    </tr>\n",
       "    <tr>\n",
       "      <td>1500</td>\n",
       "      <td>0.508200</td>\n",
       "      <td>0.489804</td>\n",
       "      <td>15.830300</td>\n",
       "      <td>189.510000</td>\n",
       "    </tr>\n",
       "    <tr>\n",
       "      <td>2000</td>\n",
       "      <td>0.476600</td>\n",
       "      <td>0.451627</td>\n",
       "      <td>15.850500</td>\n",
       "      <td>189.268000</td>\n",
       "    </tr>\n",
       "    <tr>\n",
       "      <td>2500</td>\n",
       "      <td>0.464200</td>\n",
       "      <td>0.438118</td>\n",
       "      <td>15.858700</td>\n",
       "      <td>189.171000</td>\n",
       "    </tr>\n",
       "    <tr>\n",
       "      <td>3000</td>\n",
       "      <td>0.462900</td>\n",
       "      <td>0.431260</td>\n",
       "      <td>15.855000</td>\n",
       "      <td>189.215000</td>\n",
       "    </tr>\n",
       "    <tr>\n",
       "      <td>3500</td>\n",
       "      <td>0.474200</td>\n",
       "      <td>0.419679</td>\n",
       "      <td>15.857100</td>\n",
       "      <td>189.189000</td>\n",
       "    </tr>\n",
       "    <tr>\n",
       "      <td>4000</td>\n",
       "      <td>0.448800</td>\n",
       "      <td>0.418521</td>\n",
       "      <td>15.859900</td>\n",
       "      <td>189.156000</td>\n",
       "    </tr>\n",
       "    <tr>\n",
       "      <td>4500</td>\n",
       "      <td>0.453500</td>\n",
       "      <td>0.431241</td>\n",
       "      <td>15.869500</td>\n",
       "      <td>189.042000</td>\n",
       "    </tr>\n",
       "    <tr>\n",
       "      <td>5000</td>\n",
       "      <td>0.452100</td>\n",
       "      <td>0.418626</td>\n",
       "      <td>15.857600</td>\n",
       "      <td>189.184000</td>\n",
       "    </tr>\n",
       "    <tr>\n",
       "      <td>5500</td>\n",
       "      <td>0.437800</td>\n",
       "      <td>0.467199</td>\n",
       "      <td>15.853600</td>\n",
       "      <td>189.232000</td>\n",
       "    </tr>\n",
       "  </tbody>\n",
       "</table><p>"
      ],
      "text/plain": [
       "<IPython.core.display.HTML object>"
      ]
     },
     "metadata": {},
     "output_type": "display_data"
    }
   ],
   "source": [
    "trainer.train();"
   ]
  },
  {
   "cell_type": "code",
   "execution_count": 131,
   "metadata": {},
   "outputs": [],
   "source": [
    "for param in model.parameters():\n",
    "    param.requires_grad = True"
   ]
  },
  {
   "cell_type": "code",
   "execution_count": 135,
   "metadata": {},
   "outputs": [],
   "source": [
    "training_args = TrAr(\n",
    "    output_dir=NEW_MODEL_NAME,   # output directory\n",
    "    overwrite_output_dir=True,\n",
    "    num_train_epochs=10,            # total # of training epochs\n",
    "    per_device_train_batch_size=8,  # batch size per device during training\n",
    "    per_device_eval_batch_size=64,   # batch size for evaluation\n",
    "    warmup_steps=3000,               # number of warmup steps for learning rate scheduler\n",
    "    weight_decay=1e-8,              # strength of weight decay\n",
    "    learning_rate=1e-5,\n",
    "    logging_dir='./logs',           # directory for storing logs\n",
    "    logging_steps=500,\n",
    "    eval_steps=500,\n",
    "    evaluation_strategy='steps',\n",
    "    save_total_limit=1,\n",
    "    load_best_model_at_end=True,\n",
    ")"
   ]
  },
  {
   "cell_type": "code",
   "execution_count": 133,
   "metadata": {},
   "outputs": [],
   "source": [
    "trainer = Trainer(\n",
    "    model=model,                         # the instantiated 🤗 Transformers model to be trained\n",
    "    args=training_args,                  # training arguments, defined above\n",
    "    train_dataset=clf_train_dataset,         # training dataset\n",
    "    eval_dataset=clf_test_small_dataset,           # evaluation dataset\n",
    "    #data_collator=data_collator,\n",
    "    tokenizer=tokenizer,\n",
    "    callbacks=[EarlyStoppingCallback(early_stopping_patience=10, early_stopping_threshold=0)]\n",
    ")"
   ]
  },
  {
   "cell_type": "code",
   "execution_count": 134,
   "metadata": {},
   "outputs": [],
   "source": [
    "import gc\n",
    "gc.collect()\n",
    "torch.cuda.empty_cache()"
   ]
  },
  {
   "cell_type": "code",
   "execution_count": 136,
   "metadata": {},
   "outputs": [
    {
     "data": {
      "text/html": [
       "\n",
       "    <div>\n",
       "        <style>\n",
       "            /* Turns off some styling */\n",
       "            progress {\n",
       "                /* gets rid of default border in Firefox and Opera. */\n",
       "                border: none;\n",
       "                /* Needs to be in here for Safari polyfill so background images work as expected. */\n",
       "                background-size: auto;\n",
       "            }\n",
       "        </style>\n",
       "      \n",
       "      <progress value='9000' max='403860' style='width:300px; height:20px; vertical-align: middle;'></progress>\n",
       "      [  9000/403860 26:23 < 19:18:02, 5.68 it/s, Epoch 0/10]\n",
       "    </div>\n",
       "    <table border=\"1\" class=\"dataframe\">\n",
       "  <thead>\n",
       "    <tr style=\"text-align: left;\">\n",
       "      <th>Step</th>\n",
       "      <th>Training Loss</th>\n",
       "      <th>Validation Loss</th>\n",
       "      <th>Runtime</th>\n",
       "      <th>Samples Per Second</th>\n",
       "    </tr>\n",
       "  </thead>\n",
       "  <tbody>\n",
       "    <tr>\n",
       "      <td>500</td>\n",
       "      <td>0.469900</td>\n",
       "      <td>0.399480</td>\n",
       "      <td>12.448400</td>\n",
       "      <td>240.994000</td>\n",
       "    </tr>\n",
       "    <tr>\n",
       "      <td>1000</td>\n",
       "      <td>0.437300</td>\n",
       "      <td>0.384663</td>\n",
       "      <td>12.543700</td>\n",
       "      <td>239.163000</td>\n",
       "    </tr>\n",
       "    <tr>\n",
       "      <td>1500</td>\n",
       "      <td>0.385200</td>\n",
       "      <td>0.399380</td>\n",
       "      <td>12.711300</td>\n",
       "      <td>236.010000</td>\n",
       "    </tr>\n",
       "    <tr>\n",
       "      <td>2000</td>\n",
       "      <td>0.396100</td>\n",
       "      <td>0.321518</td>\n",
       "      <td>12.540100</td>\n",
       "      <td>239.233000</td>\n",
       "    </tr>\n",
       "    <tr>\n",
       "      <td>2500</td>\n",
       "      <td>0.377100</td>\n",
       "      <td>0.321958</td>\n",
       "      <td>12.557800</td>\n",
       "      <td>238.895000</td>\n",
       "    </tr>\n",
       "    <tr>\n",
       "      <td>3000</td>\n",
       "      <td>0.348600</td>\n",
       "      <td>0.506236</td>\n",
       "      <td>12.715400</td>\n",
       "      <td>235.934000</td>\n",
       "    </tr>\n",
       "    <tr>\n",
       "      <td>3500</td>\n",
       "      <td>0.364300</td>\n",
       "      <td>0.341919</td>\n",
       "      <td>12.474700</td>\n",
       "      <td>240.487000</td>\n",
       "    </tr>\n",
       "    <tr>\n",
       "      <td>4000</td>\n",
       "      <td>0.361300</td>\n",
       "      <td>0.302685</td>\n",
       "      <td>12.421800</td>\n",
       "      <td>241.511000</td>\n",
       "    </tr>\n",
       "    <tr>\n",
       "      <td>4500</td>\n",
       "      <td>0.344800</td>\n",
       "      <td>0.435121</td>\n",
       "      <td>12.562100</td>\n",
       "      <td>238.814000</td>\n",
       "    </tr>\n",
       "    <tr>\n",
       "      <td>5000</td>\n",
       "      <td>0.381100</td>\n",
       "      <td>0.403674</td>\n",
       "      <td>12.762600</td>\n",
       "      <td>235.062000</td>\n",
       "    </tr>\n",
       "    <tr>\n",
       "      <td>5500</td>\n",
       "      <td>0.365300</td>\n",
       "      <td>0.317092</td>\n",
       "      <td>12.415800</td>\n",
       "      <td>241.628000</td>\n",
       "    </tr>\n",
       "    <tr>\n",
       "      <td>6000</td>\n",
       "      <td>0.348600</td>\n",
       "      <td>0.420537</td>\n",
       "      <td>12.443300</td>\n",
       "      <td>241.094000</td>\n",
       "    </tr>\n",
       "    <tr>\n",
       "      <td>6500</td>\n",
       "      <td>0.358900</td>\n",
       "      <td>0.335339</td>\n",
       "      <td>12.447000</td>\n",
       "      <td>241.021000</td>\n",
       "    </tr>\n",
       "    <tr>\n",
       "      <td>7000</td>\n",
       "      <td>0.348200</td>\n",
       "      <td>0.308131</td>\n",
       "      <td>12.845400</td>\n",
       "      <td>233.548000</td>\n",
       "    </tr>\n",
       "    <tr>\n",
       "      <td>7500</td>\n",
       "      <td>0.350200</td>\n",
       "      <td>0.329928</td>\n",
       "      <td>12.649000</td>\n",
       "      <td>237.173000</td>\n",
       "    </tr>\n",
       "    <tr>\n",
       "      <td>8000</td>\n",
       "      <td>0.327300</td>\n",
       "      <td>0.335358</td>\n",
       "      <td>12.510800</td>\n",
       "      <td>239.793000</td>\n",
       "    </tr>\n",
       "    <tr>\n",
       "      <td>8500</td>\n",
       "      <td>0.345400</td>\n",
       "      <td>0.311347</td>\n",
       "      <td>12.374100</td>\n",
       "      <td>242.441000</td>\n",
       "    </tr>\n",
       "    <tr>\n",
       "      <td>9000</td>\n",
       "      <td>0.332300</td>\n",
       "      <td>0.348165</td>\n",
       "      <td>12.624100</td>\n",
       "      <td>237.641000</td>\n",
       "    </tr>\n",
       "  </tbody>\n",
       "</table><p>"
      ],
      "text/plain": [
       "<IPython.core.display.HTML object>"
      ]
     },
     "metadata": {},
     "output_type": "display_data"
    },
    {
     "data": {
      "text/plain": [
       "TrainOutput(global_step=9000, training_loss=0.36898494974772134, metrics={'train_runtime': 1583.6349, 'train_samples_per_second': 255.021, 'total_flos': 9531213525787008, 'epoch': 0.22})"
      ]
     },
     "execution_count": 136,
     "metadata": {},
     "output_type": "execute_result"
    }
   ],
   "source": [
    "trainer.train()"
   ]
  },
  {
   "cell_type": "code",
   "execution_count": 138,
   "metadata": {},
   "outputs": [
    {
     "name": "stdout",
     "output_type": "stream",
     "text": [
      "Parameter containing:\n",
      "tensor([1.9293], device='cuda:0', requires_grad=True)\n",
      "Parameter containing:\n",
      "tensor([1.0333, 1.9060], device='cuda:0', requires_grad=True)\n"
     ]
    }
   ],
   "source": [
    "print(model.wmean.pow)\n",
    "print(model.wmean.coef)"
   ]
  },
  {
   "cell_type": "code",
   "execution_count": 139,
   "metadata": {},
   "outputs": [],
   "source": [
    "model.save_pretrained(NEW_MODEL_NAME)"
   ]
  },
  {
   "cell_type": "markdown",
   "metadata": {},
   "source": [
    "# Fine tune the averager classifier"
   ]
  },
  {
   "cell_type": "code",
   "execution_count": 140,
   "metadata": {},
   "outputs": [
    {
     "name": "stderr",
     "output_type": "stream",
     "text": [
      "Some weights of the model checkpoint at ./models2/roberta_clf_wm were not used when initializing RobertaForTokenClassification: ['wmean.pow', 'wmean.coef']\n",
      "- This IS expected if you are initializing RobertaForTokenClassification from the checkpoint of a model trained on another task or with another architecture (e.g. initializing a BertForSequenceClassification model from a BertForPreTraining model).\n",
      "- This IS NOT expected if you are initializing RobertaForTokenClassification from the checkpoint of a model that you expect to be exactly identical (initializing a BertForSequenceClassification model from a BertForSequenceClassification model).\n"
     ]
    }
   ],
   "source": [
    "model = AutoModelForTokenClassification.from_pretrained('./models2/roberta_clf_wm')"
   ]
  },
  {
   "cell_type": "code",
   "execution_count": 141,
   "metadata": {},
   "outputs": [],
   "source": [
    "NEW_MODEL_NAME = './models2/roberta_clf_wm_ft'"
   ]
  },
  {
   "cell_type": "code",
   "execution_count": 142,
   "metadata": {},
   "outputs": [],
   "source": [
    "for param in model.roberta.parameters():\n",
    "    param.requires_grad = False"
   ]
  },
  {
   "cell_type": "code",
   "execution_count": 143,
   "metadata": {},
   "outputs": [],
   "source": [
    "training_args = TrAr(\n",
    "    output_dir=NEW_MODEL_NAME,   # output directory\n",
    "    overwrite_output_dir=True,\n",
    "    num_train_epochs=10,            # total # of training epochs\n",
    "    per_device_train_batch_size=8,  # batch size per device during training\n",
    "    per_device_eval_batch_size=64,   # batch size for evaluation\n",
    "    warmup_steps=3000,               # number of warmup steps for learning rate scheduler\n",
    "    weight_decay=1e-8,              # strength of weight decay\n",
    "    learning_rate=1e-3,\n",
    "    logging_dir='./logs',           # directory for storing logs\n",
    "    logging_steps=100,\n",
    "    eval_steps=500,\n",
    "    evaluation_strategy='steps',\n",
    "    save_total_limit=1,\n",
    "    load_best_model_at_end=True,\n",
    ")"
   ]
  },
  {
   "cell_type": "code",
   "execution_count": 144,
   "metadata": {},
   "outputs": [],
   "source": [
    "trainer = Trainer(\n",
    "    model=model,                         # the instantiated 🤗 Transformers model to be trained\n",
    "    args=training_args,                  # training arguments, defined above\n",
    "    train_dataset=train_dataset,         # training dataset\n",
    "    eval_dataset=eval_dataset,           # evaluation dataset\n",
    "    data_collator=data_collator,\n",
    "    tokenizer=tokenizer,\n",
    "    callbacks=[EarlyStoppingCallback(early_stopping_patience=3, early_stopping_threshold=0)]\n",
    ")"
   ]
  },
  {
   "cell_type": "code",
   "execution_count": 145,
   "metadata": {},
   "outputs": [
    {
     "data": {
      "text/html": [
       "\n",
       "    <div>\n",
       "        <style>\n",
       "            /* Turns off some styling */\n",
       "            progress {\n",
       "                /* gets rid of default border in Firefox and Opera. */\n",
       "                border: none;\n",
       "                /* Needs to be in here for Safari polyfill so background images work as expected. */\n",
       "                background-size: auto;\n",
       "            }\n",
       "        </style>\n",
       "      \n",
       "      <progress value='5500' max='9930' style='width:300px; height:20px; vertical-align: middle;'></progress>\n",
       "      [5500/9930 04:05 < 03:17, 22.42 it/s, Epoch 5/10]\n",
       "    </div>\n",
       "    <table border=\"1\" class=\"dataframe\">\n",
       "  <thead>\n",
       "    <tr style=\"text-align: left;\">\n",
       "      <th>Step</th>\n",
       "      <th>Training Loss</th>\n",
       "      <th>Validation Loss</th>\n",
       "      <th>Runtime</th>\n",
       "      <th>Samples Per Second</th>\n",
       "    </tr>\n",
       "  </thead>\n",
       "  <tbody>\n",
       "    <tr>\n",
       "      <td>500</td>\n",
       "      <td>1.104800</td>\n",
       "      <td>0.514359</td>\n",
       "      <td>2.983200</td>\n",
       "      <td>231.297000</td>\n",
       "    </tr>\n",
       "    <tr>\n",
       "      <td>1000</td>\n",
       "      <td>0.293600</td>\n",
       "      <td>0.223289</td>\n",
       "      <td>2.783900</td>\n",
       "      <td>247.850000</td>\n",
       "    </tr>\n",
       "    <tr>\n",
       "      <td>1500</td>\n",
       "      <td>0.228800</td>\n",
       "      <td>0.206288</td>\n",
       "      <td>2.813100</td>\n",
       "      <td>245.279000</td>\n",
       "    </tr>\n",
       "    <tr>\n",
       "      <td>2000</td>\n",
       "      <td>0.259700</td>\n",
       "      <td>0.195860</td>\n",
       "      <td>2.822900</td>\n",
       "      <td>244.431000</td>\n",
       "    </tr>\n",
       "    <tr>\n",
       "      <td>2500</td>\n",
       "      <td>0.252400</td>\n",
       "      <td>0.191047</td>\n",
       "      <td>2.830200</td>\n",
       "      <td>243.796000</td>\n",
       "    </tr>\n",
       "    <tr>\n",
       "      <td>3000</td>\n",
       "      <td>0.212200</td>\n",
       "      <td>0.189924</td>\n",
       "      <td>2.858900</td>\n",
       "      <td>241.348000</td>\n",
       "    </tr>\n",
       "    <tr>\n",
       "      <td>3500</td>\n",
       "      <td>0.250600</td>\n",
       "      <td>0.187042</td>\n",
       "      <td>2.832100</td>\n",
       "      <td>243.639000</td>\n",
       "    </tr>\n",
       "    <tr>\n",
       "      <td>4000</td>\n",
       "      <td>0.218500</td>\n",
       "      <td>0.185239</td>\n",
       "      <td>2.828000</td>\n",
       "      <td>243.992000</td>\n",
       "    </tr>\n",
       "    <tr>\n",
       "      <td>4500</td>\n",
       "      <td>0.266000</td>\n",
       "      <td>0.188281</td>\n",
       "      <td>2.849200</td>\n",
       "      <td>242.169000</td>\n",
       "    </tr>\n",
       "    <tr>\n",
       "      <td>5000</td>\n",
       "      <td>0.243800</td>\n",
       "      <td>0.185856</td>\n",
       "      <td>2.855600</td>\n",
       "      <td>241.629000</td>\n",
       "    </tr>\n",
       "    <tr>\n",
       "      <td>5500</td>\n",
       "      <td>0.228400</td>\n",
       "      <td>0.185977</td>\n",
       "      <td>2.834600</td>\n",
       "      <td>243.417000</td>\n",
       "    </tr>\n",
       "  </tbody>\n",
       "</table><p>"
      ],
      "text/plain": [
       "<IPython.core.display.HTML object>"
      ]
     },
     "metadata": {},
     "output_type": "display_data"
    },
    {
     "data": {
      "text/plain": [
       "TrainOutput(global_step=5500, training_loss=0.5763802882107821, metrics={'train_runtime': 245.3274, 'train_samples_per_second': 40.477, 'total_flos': 4253019506029356, 'epoch': 5.54})"
      ]
     },
     "execution_count": 145,
     "metadata": {},
     "output_type": "execute_result"
    }
   ],
   "source": [
    "trainer.train()"
   ]
  },
  {
   "cell_type": "markdown",
   "metadata": {},
   "source": [
    "* the raw quasi-classifier: no use in the model at all\n",
    "* fine tuned head: still no use, the best score is 0.2138\n",
    "* fine tune whole model: 0.3 0.6849391042415774"
   ]
  },
  {
   "cell_type": "code",
   "execution_count": 146,
   "metadata": {},
   "outputs": [],
   "source": [
    "for param in model.parameters():\n",
    "    param.requires_grad = True"
   ]
  },
  {
   "cell_type": "code",
   "execution_count": 147,
   "metadata": {},
   "outputs": [],
   "source": [
    "training_args = TrAr(\n",
    "    output_dir=NEW_MODEL_NAME,   # output directory\n",
    "    overwrite_output_dir=True,\n",
    "    num_train_epochs=10,            # total # of training epochs\n",
    "    per_device_train_batch_size=8,  # batch size per device during training\n",
    "    per_device_eval_batch_size=8,   # batch size for evaluation\n",
    "    warmup_steps=3000,               # number of warmup steps for learning rate scheduler\n",
    "    weight_decay=1e-8,              # strength of weight decay\n",
    "    learning_rate=1e-5,\n",
    "    logging_dir='./logs',           # directory for storing logs\n",
    "    logging_steps=500,\n",
    "    eval_steps=500,\n",
    "    evaluation_strategy='steps',\n",
    "    save_total_limit=1,\n",
    "    load_best_model_at_end=True,\n",
    ")"
   ]
  },
  {
   "cell_type": "code",
   "execution_count": 148,
   "metadata": {},
   "outputs": [],
   "source": [
    "trainer = Trainer(\n",
    "    model=model,                         # the instantiated 🤗 Transformers model to be trained\n",
    "    args=training_args,                  # training arguments, defined above\n",
    "    train_dataset=train_dataset,         # training dataset\n",
    "    eval_dataset=eval_dataset,           # evaluation dataset\n",
    "    data_collator=data_collator,\n",
    "    tokenizer=tokenizer,\n",
    "    callbacks=[EarlyStoppingCallback(early_stopping_patience=3, early_stopping_threshold=0)]\n",
    ")"
   ]
  },
  {
   "cell_type": "code",
   "execution_count": 149,
   "metadata": {},
   "outputs": [
    {
     "data": {
      "text/html": [
       "\n",
       "    <div>\n",
       "        <style>\n",
       "            /* Turns off some styling */\n",
       "            progress {\n",
       "                /* gets rid of default border in Firefox and Opera. */\n",
       "                border: none;\n",
       "                /* Needs to be in here for Safari polyfill so background images work as expected. */\n",
       "                background-size: auto;\n",
       "            }\n",
       "        </style>\n",
       "      \n",
       "      <progress value='3000' max='9930' style='width:300px; height:20px; vertical-align: middle;'></progress>\n",
       "      [3000/9930 06:53 < 15:56, 7.24 it/s, Epoch 3/10]\n",
       "    </div>\n",
       "    <table border=\"1\" class=\"dataframe\">\n",
       "  <thead>\n",
       "    <tr style=\"text-align: left;\">\n",
       "      <th>Step</th>\n",
       "      <th>Training Loss</th>\n",
       "      <th>Validation Loss</th>\n",
       "      <th>Runtime</th>\n",
       "      <th>Samples Per Second</th>\n",
       "    </tr>\n",
       "  </thead>\n",
       "  <tbody>\n",
       "    <tr>\n",
       "      <td>500</td>\n",
       "      <td>0.227800</td>\n",
       "      <td>0.183276</td>\n",
       "      <td>2.417000</td>\n",
       "      <td>285.480000</td>\n",
       "    </tr>\n",
       "    <tr>\n",
       "      <td>1000</td>\n",
       "      <td>0.241400</td>\n",
       "      <td>0.175740</td>\n",
       "      <td>2.280000</td>\n",
       "      <td>302.626000</td>\n",
       "    </tr>\n",
       "    <tr>\n",
       "      <td>1500</td>\n",
       "      <td>0.228600</td>\n",
       "      <td>0.172228</td>\n",
       "      <td>2.294100</td>\n",
       "      <td>300.768000</td>\n",
       "    </tr>\n",
       "    <tr>\n",
       "      <td>2000</td>\n",
       "      <td>0.219200</td>\n",
       "      <td>0.172719</td>\n",
       "      <td>2.332600</td>\n",
       "      <td>295.804000</td>\n",
       "    </tr>\n",
       "    <tr>\n",
       "      <td>2500</td>\n",
       "      <td>0.219700</td>\n",
       "      <td>0.175370</td>\n",
       "      <td>2.357100</td>\n",
       "      <td>292.728000</td>\n",
       "    </tr>\n",
       "    <tr>\n",
       "      <td>3000</td>\n",
       "      <td>0.219000</td>\n",
       "      <td>0.181231</td>\n",
       "      <td>2.323500</td>\n",
       "      <td>296.963000</td>\n",
       "    </tr>\n",
       "  </tbody>\n",
       "</table><p>"
      ],
      "text/plain": [
       "<IPython.core.display.HTML object>"
      ]
     },
     "metadata": {},
     "output_type": "display_data"
    },
    {
     "data": {
      "text/plain": [
       "TrainOutput(global_step=3000, training_loss=0.22593124389648436, metrics={'train_runtime': 414.0957, 'train_samples_per_second': 23.98, 'total_flos': 2320362174532992, 'epoch': 3.02})"
      ]
     },
     "execution_count": 149,
     "metadata": {},
     "output_type": "execute_result"
    }
   ],
   "source": [
    "trainer.train()"
   ]
  },
  {
   "cell_type": "markdown",
   "metadata": {},
   "source": [
    "* The minimal loss of a single-task model (full) was about 28% on validation with 0.04 on train. \n",
    "* If we first train only head (batch 8, lr 1e-3 with 3K warmup and 1e-8 decline), we get minimal loss of 0.185 on validation with 0.23 on train\n",
    "* Training then the whole model (batch 8, lr 1e-5 with 3K warmup and 1e-8 decline) we get minimal loss of 0.175 on validation with 0.21 on train"
   ]
  },
  {
   "cell_type": "code",
   "execution_count": 54,
   "metadata": {},
   "outputs": [
    {
     "data": {
      "text/html": [
       "\n",
       "    <div>\n",
       "        <style>\n",
       "            /* Turns off some styling */\n",
       "            progress {\n",
       "                /* gets rid of default border in Firefox and Opera. */\n",
       "                border: none;\n",
       "                /* Needs to be in here for Safari polyfill so background images work as expected. */\n",
       "                background-size: auto;\n",
       "            }\n",
       "        </style>\n",
       "      \n",
       "      <progress value='3500' max='9930' style='width:300px; height:20px; vertical-align: middle;'></progress>\n",
       "      [3500/9930 07:41 < 14:08, 7.58 it/s, Epoch 3/10]\n",
       "    </div>\n",
       "    <table border=\"1\" class=\"dataframe\">\n",
       "  <thead>\n",
       "    <tr style=\"text-align: left;\">\n",
       "      <th>Step</th>\n",
       "      <th>Training Loss</th>\n",
       "      <th>Validation Loss</th>\n",
       "      <th>Runtime</th>\n",
       "      <th>Samples Per Second</th>\n",
       "    </tr>\n",
       "  </thead>\n",
       "  <tbody>\n",
       "    <tr>\n",
       "      <td>500</td>\n",
       "      <td>0.214300</td>\n",
       "      <td>0.183102</td>\n",
       "      <td>2.275500</td>\n",
       "      <td>303.228000</td>\n",
       "    </tr>\n",
       "    <tr>\n",
       "      <td>1000</td>\n",
       "      <td>0.231800</td>\n",
       "      <td>0.178588</td>\n",
       "      <td>2.282300</td>\n",
       "      <td>302.324000</td>\n",
       "    </tr>\n",
       "    <tr>\n",
       "      <td>1500</td>\n",
       "      <td>0.228400</td>\n",
       "      <td>0.178426</td>\n",
       "      <td>2.267800</td>\n",
       "      <td>304.266000</td>\n",
       "    </tr>\n",
       "    <tr>\n",
       "      <td>2000</td>\n",
       "      <td>0.219600</td>\n",
       "      <td>0.174098</td>\n",
       "      <td>2.316700</td>\n",
       "      <td>297.833000</td>\n",
       "    </tr>\n",
       "    <tr>\n",
       "      <td>2500</td>\n",
       "      <td>0.216500</td>\n",
       "      <td>0.181011</td>\n",
       "      <td>2.336500</td>\n",
       "      <td>295.308000</td>\n",
       "    </tr>\n",
       "    <tr>\n",
       "      <td>3000</td>\n",
       "      <td>0.218200</td>\n",
       "      <td>0.181870</td>\n",
       "      <td>2.270400</td>\n",
       "      <td>303.906000</td>\n",
       "    </tr>\n",
       "    <tr>\n",
       "      <td>3500</td>\n",
       "      <td>0.206900</td>\n",
       "      <td>0.175007</td>\n",
       "      <td>2.270100</td>\n",
       "      <td>303.947000</td>\n",
       "    </tr>\n",
       "  </tbody>\n",
       "</table><p>"
      ],
      "text/plain": [
       "<IPython.core.display.HTML object>"
      ]
     },
     "metadata": {},
     "output_type": "display_data"
    },
    {
     "data": {
      "text/plain": [
       "TrainOutput(global_step=3500, training_loss=0.2193861323765346, metrics={'train_runtime': 461.8953, 'train_samples_per_second': 21.498, 'total_flos': 2707692614817216, 'epoch': 3.52})"
      ]
     },
     "execution_count": 54,
     "metadata": {},
     "output_type": "execute_result"
    }
   ],
   "source": [
    "trainer.train()"
   ]
  },
  {
   "cell_type": "code",
   "execution_count": 150,
   "metadata": {},
   "outputs": [
    {
     "data": {
      "text/plain": [
       "'./models2/roberta_clf_wm_ft'"
      ]
     },
     "execution_count": 150,
     "metadata": {},
     "output_type": "execute_result"
    }
   ],
   "source": [
    "NEW_MODEL_NAME"
   ]
  },
  {
   "cell_type": "code",
   "execution_count": 151,
   "metadata": {},
   "outputs": [],
   "source": [
    "model.save_pretrained(NEW_MODEL_NAME)"
   ]
  },
  {
   "cell_type": "code",
   "execution_count": 152,
   "metadata": {},
   "outputs": [
    {
     "data": {
      "text/html": [
       "\n",
       "    <div>\n",
       "        <style>\n",
       "            /* Turns off some styling */\n",
       "            progress {\n",
       "                /* gets rid of default border in Firefox and Opera. */\n",
       "                border: none;\n",
       "                /* Needs to be in here for Safari polyfill so background images work as expected. */\n",
       "                background-size: auto;\n",
       "            }\n",
       "        </style>\n",
       "      \n",
       "      <progress value='337' max='87' style='width:300px; height:20px; vertical-align: middle;'></progress>\n",
       "      [87/87 01:05]\n",
       "    </div>\n",
       "    "
      ],
      "text/plain": [
       "<IPython.core.display.HTML object>"
      ]
     },
     "metadata": {},
     "output_type": "display_data"
    },
    {
     "name": "stdout",
     "output_type": "stream",
     "text": [
      "0 0.21345926240649193\n",
      "0.01 0.2409973460392372\n",
      "0.03 0.34943570917505273\n",
      "0.1 0.557400342430896\n",
      "0.25 0.66657885004928\n",
      "0.3 0.6764404567060631\n",
      "0.35 0.6782236752482207\n",
      "0.4 0.6794854989344155\n",
      "0.5 0.6699329686773023\n",
      "0.6 0.6607375516230902\n",
      "0.7 0.6396864806672651\n",
      "1 0.06231884057971015\n"
     ]
    }
   ],
   "source": [
    "pred = trainer.predict(eval_dataset)\n",
    "for threshold in [0, 0.01, 0.03, 0.1, 0.25, 0.3, 0.35, 0.4, 0.5, 0.6, 0.7, 1]:\n",
    "    preds = []\n",
    "    for text, pr in zip(trial.text, pred.predictions):\n",
    "        proba = np.exp(pr[pr[:, 0]!=-100])\n",
    "        proba /= proba.sum(axis=1, keepdims=True)\n",
    "        labels = (proba[:, 1] >= threshold).astype(int).tolist()\n",
    "        preds.append(labels2spans(text, labels, tokenizer))\n",
    "    print(threshold, np.mean([f1(p, y) for p, y in zip(preds, trial.spans)]))"
   ]
  },
  {
   "cell_type": "code",
   "execution_count": 153,
   "metadata": {},
   "outputs": [
    {
     "name": "stdout",
     "output_type": "stream",
     "text": [
      "0.25 0.66657885004928\n",
      "0.28 0.6746374794679898\n",
      "0.3 0.6764404567060631\n",
      "0.32 0.6784818373039875\n",
      "0.35 0.6782236752482207\n"
     ]
    }
   ],
   "source": [
    "for threshold in [ 0.25, 0.28, 0.3, 0.32, 0.35]:\n",
    "    preds = []\n",
    "    for text, pr in zip(trial.text, pred.predictions):\n",
    "        proba = np.exp(pr[pr[:, 0]!=-100])\n",
    "        proba /= proba.sum(axis=1, keepdims=True)\n",
    "        labels = (proba[:, 1] >= threshold).astype(int).tolist()\n",
    "        preds.append(labels2spans(text, labels, tokenizer))\n",
    "    print(threshold, np.mean([f1(p, y) for p, y in zip(preds, trial.spans)]))"
   ]
  },
  {
   "cell_type": "code",
   "execution_count": 154,
   "metadata": {},
   "outputs": [],
   "source": [
    "pred = trainer.predict(final_test_dataset)"
   ]
  },
  {
   "cell_type": "code",
   "execution_count": 179,
   "metadata": {},
   "outputs": [
    {
     "name": "stdout",
     "output_type": "stream",
     "text": [
      "2000\n"
     ]
    }
   ],
   "source": [
    "threshold = 0.4\n",
    "preds = []\n",
    "for text, pr in zip(final_test.text, pred.predictions):\n",
    "    proba = np.exp(pr[pr[:, 0]!=-100])\n",
    "    proba /= proba.sum(axis=1, keepdims=True)\n",
    "    labels = (proba[:, 1] >= threshold).astype(int).tolist()\n",
    "    preds.append(labels2spans(text, labels, tokenizer))\n",
    "print(len(preds))"
   ]
  },
  {
   "cell_type": "code",
   "execution_count": 180,
   "metadata": {},
   "outputs": [
    {
     "name": "stdout",
     "output_type": "stream",
     "text": [
      "0.6503622193673821\n"
     ]
    }
   ],
   "source": [
    "print(np.mean([f1(p, y) for p, y in zip(preds, final_test.spans)]))"
   ]
  },
  {
   "cell_type": "markdown",
   "metadata": {},
   "source": [
    "# Try to reproduce the score of an ordinary classifier fine tuned as tagger"
   ]
  },
  {
   "cell_type": "markdown",
   "metadata": {},
   "source": [
    "```\n",
    "* roberta_clf_proba  - roberta classifier with wm head\n",
    "* roberta_clf_ft_plus_pseudolabels  - roberta_clf_ft + pseudolabels fine-tuning on data/train/train.1.tsv\n",
    "* roberta_clf        - preliminary form of roberta_clf_proba\n",
    "* roberta_clf_ft     - roberta_clf_proba + tagger fine-tuning\n",
    "* roberta_selflabel  - preliminary form of roberta_clf_ft_plus_pseudolabels\n",
    "* roberta_selflabel_final   - preliminary form of roberta_clf_ft_plus_pseudolabels\n",
    "* roberta_single_v2  - just roberta tagger \n",
    "* roberta_single     - just roberta tagger, first version\n",
    "* roberta_clf_2      - roberta classic classifier\n",
    "* roberta_ft_v2      - roberta_clf_2 + tagger fine-tuning\n",
    "```\n",
    "\n"
   ]
  },
  {
   "cell_type": "markdown",
   "metadata": {},
   "source": [
    "#### roberta_ft_v2"
   ]
  },
  {
   "cell_type": "code",
   "execution_count": 290,
   "metadata": {},
   "outputs": [],
   "source": [
    "model = RobertaForTokenClassification.from_pretrained('models/roberta_ft_v2')\n",
    "model.to(device);"
   ]
  },
  {
   "cell_type": "code",
   "execution_count": 291,
   "metadata": {},
   "outputs": [],
   "source": [
    "training_args = TrAr(\n",
    "    output_dir='tmp',\n",
    "    per_device_eval_batch_size=8,\n",
    ")"
   ]
  },
  {
   "cell_type": "code",
   "execution_count": 292,
   "metadata": {},
   "outputs": [],
   "source": [
    "trainer = Trainer(\n",
    "    model=model,                         \n",
    "    args=training_args,                  \n",
    "    data_collator=data_collator,\n",
    "    tokenizer=tokenizer,\n",
    ")"
   ]
  },
  {
   "cell_type": "code",
   "execution_count": 293,
   "metadata": {},
   "outputs": [
    {
     "data": {
      "text/html": [
       "\n",
       "    <div>\n",
       "        <style>\n",
       "            /* Turns off some styling */\n",
       "            progress {\n",
       "                /* gets rid of default border in Firefox and Opera. */\n",
       "                border: none;\n",
       "                /* Needs to be in here for Safari polyfill so background images work as expected. */\n",
       "                background-size: auto;\n",
       "            }\n",
       "        </style>\n",
       "      \n",
       "      <progress value='337' max='87' style='width:300px; height:20px; vertical-align: middle;'></progress>\n",
       "      [87/87 00:11]\n",
       "    </div>\n",
       "    "
      ],
      "text/plain": [
       "<IPython.core.display.HTML object>"
      ]
     },
     "metadata": {},
     "output_type": "display_data"
    }
   ],
   "source": [
    "pred = trainer.predict(eval_dataset)"
   ]
  },
  {
   "cell_type": "code",
   "execution_count": 294,
   "metadata": {},
   "outputs": [
    {
     "name": "stdout",
     "output_type": "stream",
     "text": [
      "0.3 0.6646029995260339\n",
      "0.35 0.6715131454982759\n",
      "0.4 0.6744209810749072\n",
      "0.45 0.6716742100903217\n",
      "0.5 0.673925228987182\n",
      "0.55 0.6710741889893577\n",
      "0.6 0.6717334585591548\n",
      "0.65 0.6738372257764363\n",
      "0.7 0.6682677734353392\n",
      "0.75 0.6617100031176605\n",
      "0.8 0.6475396800952727\n",
      "0.85 0.6278304231112732\n",
      "0.9 0.59010012748674\n"
     ]
    }
   ],
   "source": [
    "\n",
    "for threshold in [0.3, 0.35, 0.4, 0.45, 0.5, 0.55, 0.6, 0.65, 0.7, 0.75, 0.8, 0.85, 0.9]:\n",
    "    preds = []\n",
    "    for text, pr in zip(trial.text, pred.predictions):\n",
    "        proba = np.exp(pr[pr[:, 0]!=-100])\n",
    "        proba /= proba.sum(axis=1, keepdims=True)\n",
    "        labels = (proba[:, 1] >= threshold).astype(int).tolist()\n",
    "        preds.append(labels2spans(text, labels, tokenizer))\n",
    "    score = np.mean([f1(p, y) for p, y in zip(preds, trial.spans)])\n",
    "    print(threshold, score)\n",
    "    "
   ]
  },
  {
   "cell_type": "code",
   "execution_count": 295,
   "metadata": {},
   "outputs": [],
   "source": [
    "pred = trainer.predict(final_test_dataset)"
   ]
  },
  {
   "cell_type": "code",
   "execution_count": 296,
   "metadata": {},
   "outputs": [
    {
     "name": "stdout",
     "output_type": "stream",
     "text": [
      "0.1 0.5545336665297276\n",
      "0.15 0.5882344110328829\n",
      "0.2 0.6077757811791716\n",
      "0.25 0.622973609210159\n",
      "0.3 0.633958561050074\n",
      "0.35 0.6443207294927615\n",
      "0.4 0.6519269346134431\n",
      "0.45 0.6589416029476445\n",
      "0.5 0.6639145447542181\n",
      "0.55 0.6676402819948017\n",
      "0.6 0.6695941122804318\n",
      "0.65 0.6756992752387653\n",
      "0.7 0.6785258499047722\n",
      "0.75 0.6851208918524581\n",
      "0.8 0.6864238573971339\n",
      "0.85 0.6771599110310472\n",
      "0.9 0.6545350848098808\n"
     ]
    }
   ],
   "source": [
    "\n",
    "\n",
    "scores = []\n",
    "for threshold in [0.1, 0.15, 0.2, 0.25, 0.3, 0.35, 0.4, 0.45, 0.5, 0.55, 0.6, 0.65, 0.7, 0.75, 0.8, 0.85, 0.9]:\n",
    "    preds = []\n",
    "    for text, pr in zip(final_test.text, pred.predictions):\n",
    "        proba = np.exp(pr[pr[:, 0]!=-100])\n",
    "        proba /= proba.sum(axis=1, keepdims=True)\n",
    "        labels = (proba[:, 1] >= threshold).astype(int).tolist()\n",
    "        preds.append(labels2spans(text, labels, tokenizer))\n",
    "    score = np.mean([f1(p, y) for p, y in zip(preds, final_test.spans)])\n",
    "    print(threshold, score)\n",
    "    scores.append(score)\n",
    "scores_standard_clf = scores"
   ]
  },
  {
   "cell_type": "markdown",
   "metadata": {},
   "source": [
    "#### roberta_clf_ft"
   ]
  },
  {
   "cell_type": "code",
   "execution_count": 297,
   "metadata": {},
   "outputs": [],
   "source": [
    "model = RobertaForTokenClassification.from_pretrained('models/roberta_clf_ft')\n",
    "model.to(device);"
   ]
  },
  {
   "cell_type": "code",
   "execution_count": 298,
   "metadata": {},
   "outputs": [],
   "source": [
    "training_args = TrAr(\n",
    "    output_dir='tmp',\n",
    "    per_device_eval_batch_size=8,\n",
    ")"
   ]
  },
  {
   "cell_type": "code",
   "execution_count": 299,
   "metadata": {},
   "outputs": [],
   "source": [
    "trainer = Trainer(\n",
    "    model=model,                         \n",
    "    args=training_args,                  \n",
    "    data_collator=data_collator,\n",
    "    tokenizer=tokenizer,\n",
    ")"
   ]
  },
  {
   "cell_type": "code",
   "execution_count": 300,
   "metadata": {},
   "outputs": [
    {
     "data": {
      "text/html": [
       "\n",
       "    <div>\n",
       "        <style>\n",
       "            /* Turns off some styling */\n",
       "            progress {\n",
       "                /* gets rid of default border in Firefox and Opera. */\n",
       "                border: none;\n",
       "                /* Needs to be in here for Safari polyfill so background images work as expected. */\n",
       "                background-size: auto;\n",
       "            }\n",
       "        </style>\n",
       "      \n",
       "      <progress value='337' max='87' style='width:300px; height:20px; vertical-align: middle;'></progress>\n",
       "      [87/87 00:11]\n",
       "    </div>\n",
       "    "
      ],
      "text/plain": [
       "<IPython.core.display.HTML object>"
      ]
     },
     "metadata": {},
     "output_type": "display_data"
    }
   ],
   "source": [
    "pred = trainer.predict(eval_dataset)"
   ]
  },
  {
   "cell_type": "code",
   "execution_count": 301,
   "metadata": {},
   "outputs": [
    {
     "name": "stdout",
     "output_type": "stream",
     "text": [
      "0.3 0.6849391042415774\n",
      "0.35 0.684180917165571\n",
      "0.4 0.6787335180780203\n",
      "0.45 0.6735204378403357\n",
      "0.5 0.6640287939316257\n",
      "0.55 0.6541785553598181\n",
      "0.6 0.6514593408593448\n",
      "0.65 0.6397508521212191\n",
      "0.7 0.6172986482655661\n",
      "0.75 0.5866965505118897\n",
      "0.8 0.548500481404008\n",
      "0.85 0.5094082267816179\n",
      "0.9 0.44324794411502716\n"
     ]
    }
   ],
   "source": [
    "\n",
    "for threshold in [0.3, 0.35, 0.4, 0.45, 0.5, 0.55, 0.6, 0.65, 0.7, 0.75, 0.8, 0.85, 0.9]:\n",
    "    preds = []\n",
    "    for text, pr in zip(trial.text, pred.predictions):\n",
    "        proba = np.exp(pr[pr[:, 0]!=-100])\n",
    "        proba /= proba.sum(axis=1, keepdims=True)\n",
    "        labels = (proba[:, 1] >= threshold).astype(int).tolist()\n",
    "        preds.append(labels2spans(text, labels, tokenizer))\n",
    "    score = np.mean([f1(p, y) for p, y in zip(preds, trial.spans)])\n",
    "    print(threshold, score)"
   ]
  },
  {
   "cell_type": "code",
   "execution_count": 302,
   "metadata": {},
   "outputs": [],
   "source": [
    "pred = trainer.predict(final_test_dataset)"
   ]
  },
  {
   "cell_type": "code",
   "execution_count": 305,
   "metadata": {},
   "outputs": [
    {
     "name": "stdout",
     "output_type": "stream",
     "text": [
      "0.1 0.5752439183819529\n",
      "0.15 0.6090082887908743\n",
      "0.2 0.6286550876155881\n",
      "0.25 0.6431153729750709\n",
      "0.3 0.6569361916626016\n",
      "0.35 0.6647910078957441\n",
      "0.4 0.6682952103234534\n",
      "0.45 0.6754628567024429\n",
      "0.5 0.680619717437095\n",
      "0.55 0.6809661485870909\n",
      "0.6 0.6832488454134622\n",
      "0.65 0.6797076042739688\n",
      "0.7 0.6773883276721572\n",
      "0.75 0.6683696147429589\n",
      "0.8 0.6469023025439109\n",
      "0.85 0.6102817741854818\n",
      "0.9 0.5628998440674843\n"
     ]
    }
   ],
   "source": [
    "\n",
    "\n",
    "scores = []\n",
    "for threshold in [0.1, 0.15, 0.2, 0.25, 0.3, 0.35, 0.4, 0.45, 0.5, 0.55, 0.6, 0.65, 0.7, 0.75, 0.8, 0.85, 0.9]:\n",
    "    preds = []\n",
    "    for text, pr in zip(final_test.text, pred.predictions):\n",
    "        proba = np.exp(pr[pr[:, 0]!=-100])\n",
    "        proba /= proba.sum(axis=1, keepdims=True)\n",
    "        labels = (proba[:, 1] >= threshold).astype(int).tolist()\n",
    "        preds.append(labels2spans(text, labels, tokenizer))\n",
    "    score = np.mean([f1(p, y) for p, y in zip(preds, final_test.spans)])\n",
    "    print(threshold, score)\n",
    "    scores.append(score)\n",
    "scores_tagging_clf = scores"
   ]
  },
  {
   "cell_type": "code",
   "execution_count": null,
   "metadata": {},
   "outputs": [],
   "source": []
  },
  {
   "cell_type": "markdown",
   "metadata": {},
   "source": [
    "#### roberta_clf_ft_plus_pseudolabels"
   ]
  },
  {
   "cell_type": "code",
   "execution_count": 275,
   "metadata": {},
   "outputs": [],
   "source": [
    "model = RobertaForTokenClassification.from_pretrained('models/roberta_clf_ft_plus_pseudolabels')\n",
    "model.to(device);"
   ]
  },
  {
   "cell_type": "code",
   "execution_count": 276,
   "metadata": {},
   "outputs": [],
   "source": [
    "training_args = TrAr(\n",
    "    output_dir='tmp',\n",
    "    per_device_eval_batch_size=8,\n",
    ")"
   ]
  },
  {
   "cell_type": "code",
   "execution_count": 277,
   "metadata": {},
   "outputs": [],
   "source": [
    "trainer = Trainer(\n",
    "    model=model,                         \n",
    "    args=training_args,                  \n",
    "    data_collator=data_collator,\n",
    "    tokenizer=tokenizer,\n",
    ")"
   ]
  },
  {
   "cell_type": "code",
   "execution_count": 278,
   "metadata": {},
   "outputs": [
    {
     "data": {
      "text/html": [
       "\n",
       "    <div>\n",
       "        <style>\n",
       "            /* Turns off some styling */\n",
       "            progress {\n",
       "                /* gets rid of default border in Firefox and Opera. */\n",
       "                border: none;\n",
       "                /* Needs to be in here for Safari polyfill so background images work as expected. */\n",
       "                background-size: auto;\n",
       "            }\n",
       "        </style>\n",
       "      \n",
       "      <progress value='337' max='87' style='width:300px; height:20px; vertical-align: middle;'></progress>\n",
       "      [87/87 00:11]\n",
       "    </div>\n",
       "    "
      ],
      "text/plain": [
       "<IPython.core.display.HTML object>"
      ]
     },
     "metadata": {},
     "output_type": "display_data"
    }
   ],
   "source": [
    "pred = trainer.predict(eval_dataset)"
   ]
  },
  {
   "cell_type": "code",
   "execution_count": 279,
   "metadata": {},
   "outputs": [
    {
     "name": "stdout",
     "output_type": "stream",
     "text": [
      "0.3 0.6827629205595998\n",
      "0.35 0.6855501867465028\n",
      "0.4 0.6880259983225367\n",
      "0.45 0.6834992017957995\n",
      "0.5 0.6797056139144931\n",
      "0.55 0.6784005272126371\n",
      "0.6 0.6688018820701156\n",
      "0.65 0.6623198122783942\n",
      "0.7 0.6511178167749042\n",
      "0.75 0.6296963400207056\n",
      "0.8 0.6064892688014509\n",
      "0.85 0.564881928012032\n",
      "0.9 0.5030782060202328\n"
     ]
    }
   ],
   "source": [
    "\n",
    "for threshold in [0.3, 0.35, 0.4, 0.45, 0.5, 0.55, 0.6, 0.65, 0.7, 0.75, 0.8, 0.85, 0.9]:\n",
    "    preds = []\n",
    "    for text, pr in zip(trial.text, pred.predictions):\n",
    "        proba = np.exp(pr[pr[:, 0]!=-100])\n",
    "        proba /= proba.sum(axis=1, keepdims=True)\n",
    "        labels = (proba[:, 1] >= threshold).astype(int).tolist()\n",
    "        preds.append(labels2spans(text, labels, tokenizer))\n",
    "    score = np.mean([f1(p, y) for p, y in zip(preds, trial.spans)])\n",
    "    print(threshold, score)"
   ]
  },
  {
   "cell_type": "code",
   "execution_count": 280,
   "metadata": {},
   "outputs": [],
   "source": [
    "pred = trainer.predict(final_test_dataset)"
   ]
  },
  {
   "cell_type": "code",
   "execution_count": 281,
   "metadata": {},
   "outputs": [
    {
     "name": "stdout",
     "output_type": "stream",
     "text": [
      "0.1 0.5602049029090154\n",
      "0.15 0.5965378234529369\n",
      "0.2 0.6161116736335367\n",
      "0.25 0.6329899472598364\n",
      "0.3 0.6458124347386611\n",
      "0.35 0.6555907203988778\n",
      "0.4 0.6620672594740299\n",
      "0.45 0.6692636447522394\n",
      "0.5 0.674174837442134\n",
      "0.55 0.6786709542304435\n",
      "0.6 0.6819797727432348\n",
      "0.65 0.6816887377159155\n",
      "0.7 0.6820785225830176\n",
      "0.75 0.6807040933415471\n",
      "0.8 0.6784134903922955\n",
      "0.85 0.6601609890118179\n",
      "0.9 0.6186889746671457\n"
     ]
    }
   ],
   "source": [
    "\n",
    "scores = []\n",
    "for threshold in [0.1, 0.15, 0.2, 0.25, 0.3, 0.35, 0.4, 0.45, 0.5, 0.55, 0.6, 0.65, 0.7, 0.75, 0.8, 0.85, 0.9]:\n",
    "    preds = []\n",
    "    for text, pr in zip(final_test.text, pred.predictions):\n",
    "        proba = np.exp(pr[pr[:, 0]!=-100])\n",
    "        proba /= proba.sum(axis=1, keepdims=True)\n",
    "        labels = (proba[:, 1] >= threshold).astype(int).tolist()\n",
    "        preds.append(labels2spans(text, labels, tokenizer))\n",
    "    score = np.mean([f1(p, y) for p, y in zip(preds, final_test.spans)])\n",
    "    print(threshold, score)\n",
    "    scores.append(score)\n",
    "scores_pseudolabel = scores"
   ]
  },
  {
   "cell_type": "markdown",
   "metadata": {},
   "source": [
    "#### roberta_single_v2"
   ]
  },
  {
   "cell_type": "code",
   "execution_count": 282,
   "metadata": {},
   "outputs": [],
   "source": [
    "model = RobertaForTokenClassification.from_pretrained('models/roberta_single_v2')\n",
    "model.to(device);"
   ]
  },
  {
   "cell_type": "code",
   "execution_count": 283,
   "metadata": {},
   "outputs": [],
   "source": [
    "training_args = TrAr(\n",
    "    output_dir='tmp',\n",
    "    per_device_eval_batch_size=8,\n",
    ")"
   ]
  },
  {
   "cell_type": "code",
   "execution_count": 284,
   "metadata": {},
   "outputs": [],
   "source": [
    "trainer = Trainer(\n",
    "    model=model,                         \n",
    "    args=training_args,                  \n",
    "    data_collator=data_collator,\n",
    "    tokenizer=tokenizer,\n",
    ")"
   ]
  },
  {
   "cell_type": "code",
   "execution_count": 285,
   "metadata": {},
   "outputs": [
    {
     "data": {
      "text/html": [
       "\n",
       "    <div>\n",
       "        <style>\n",
       "            /* Turns off some styling */\n",
       "            progress {\n",
       "                /* gets rid of default border in Firefox and Opera. */\n",
       "                border: none;\n",
       "                /* Needs to be in here for Safari polyfill so background images work as expected. */\n",
       "                background-size: auto;\n",
       "            }\n",
       "        </style>\n",
       "      \n",
       "      <progress value='337' max='87' style='width:300px; height:20px; vertical-align: middle;'></progress>\n",
       "      [87/87 00:11]\n",
       "    </div>\n",
       "    "
      ],
      "text/plain": [
       "<IPython.core.display.HTML object>"
      ]
     },
     "metadata": {},
     "output_type": "display_data"
    }
   ],
   "source": [
    "pred = trainer.predict(eval_dataset)"
   ]
  },
  {
   "cell_type": "code",
   "execution_count": 286,
   "metadata": {},
   "outputs": [
    {
     "name": "stdout",
     "output_type": "stream",
     "text": [
      "0.3 0.66359735406299\n",
      "0.35 0.6700635517847642\n",
      "0.4 0.6731999549591532\n",
      "0.45 0.6729071697382535\n",
      "0.5 0.6702516698368454\n",
      "0.55 0.6634497922801099\n",
      "0.6 0.6618129018990354\n",
      "0.65 0.6534142826263554\n",
      "0.7 0.6474321946754974\n",
      "0.75 0.6306972882994829\n",
      "0.8 0.6064613727890047\n",
      "0.85 0.5650635904385258\n",
      "0.9 0.4991748439461978\n"
     ]
    }
   ],
   "source": [
    "\n",
    "for threshold in [0.3, 0.35, 0.4, 0.45, 0.5, 0.55, 0.6, 0.65, 0.7, 0.75, 0.8, 0.85, 0.9]:\n",
    "    preds = []\n",
    "    for text, pr in zip(trial.text, pred.predictions):\n",
    "        proba = np.exp(pr[pr[:, 0]!=-100])\n",
    "        proba /= proba.sum(axis=1, keepdims=True)\n",
    "        labels = (proba[:, 1] >= threshold).astype(int).tolist()\n",
    "        preds.append(labels2spans(text, labels, tokenizer))\n",
    "    score = np.mean([f1(p, y) for p, y in zip(preds, trial.spans)])\n",
    "    print(threshold, score)"
   ]
  },
  {
   "cell_type": "code",
   "execution_count": 287,
   "metadata": {},
   "outputs": [],
   "source": [
    "pred = trainer.predict(final_test_dataset)"
   ]
  },
  {
   "cell_type": "code",
   "execution_count": 288,
   "metadata": {},
   "outputs": [
    {
     "name": "stdout",
     "output_type": "stream",
     "text": [
      "0.1 0.4950510627108955\n",
      "0.15 0.5492469372720504\n",
      "0.2 0.5870032860644548\n",
      "0.25 0.6115084907939428\n",
      "0.3 0.6296202613629943\n",
      "0.35 0.6435584198597509\n",
      "0.4 0.6550788084151723\n",
      "0.45 0.660826323136532\n",
      "0.5 0.6682946286098522\n",
      "0.55 0.6709144466014042\n",
      "0.6 0.677576863437034\n",
      "0.65 0.6812185597173275\n",
      "0.7 0.6818291704532222\n",
      "0.75 0.6769056066936087\n",
      "0.8 0.667081025778574\n",
      "0.85 0.6527564321439464\n",
      "0.9 0.6191291845142385\n"
     ]
    }
   ],
   "source": [
    "\n",
    "scores = []\n",
    "for threshold in [0.1, 0.15, 0.2, 0.25, 0.3, 0.35, 0.4, 0.45, 0.5, 0.55, 0.6, 0.65, 0.7, 0.75, 0.8, 0.85, 0.9]:\n",
    "    preds = []\n",
    "    for text, pr in zip(final_test.text, pred.predictions):\n",
    "        proba = np.exp(pr[pr[:, 0]!=-100])\n",
    "        proba /= proba.sum(axis=1, keepdims=True)\n",
    "        labels = (proba[:, 1] >= threshold).astype(int).tolist()\n",
    "        preds.append(labels2spans(text, labels, tokenizer))\n",
    "    score = np.mean([f1(p, y) for p, y in zip(preds, final_test.spans)])\n",
    "    print(threshold, score)\n",
    "    scores.append(score)\n",
    "scores_standard = scores"
   ]
  },
  {
   "cell_type": "code",
   "execution_count": 307,
   "metadata": {},
   "outputs": [
    {
     "data": {
      "text/plain": [
       "<matplotlib.legend.Legend at 0x7f5835449a10>"
      ]
     },
     "execution_count": 307,
     "metadata": {},
     "output_type": "execute_result"
    },
    {
     "data": {
      "image/png": "[encoded data removed]",
      "text/plain": [
       "<Figure size 432x288 with 1 Axes>"
      ]
     },
     "metadata": {
      "needs_background": "light"
     },
     "output_type": "display_data"
    }
   ],
   "source": [
    "xx = [0.1, 0.15, 0.2, 0.25, 0.3, 0.35, 0.4, 0.45, 0.5, 0.55, 0.6, 0.65, 0.7, 0.75, 0.8, 0.85, 0.9]\n",
    "plt.plot(xx, scores_standard)\n",
    "plt.plot(xx, scores_standard_clf)\n",
    "plt.plot(xx, scores_tagging_clf)\n",
    "plt.plot(xx, scores_pseudolabel)\n",
    "plt.legend(['standard', 'clf', 'tagging clf', 'pseudo labels'])"
   ]
  },
  {
   "cell_type": "code",
   "execution_count": 315,
   "metadata": {},
   "outputs": [
    {
     "name": "stdout",
     "output_type": "stream",
     "text": [
      "0.682, 0.7, 0.668, 0.678\n",
      "0.682, 0.7, 0.674, 0.682\n",
      "0.686, 0.8, 0.664, 0.670\n",
      "0.683, 0.6, 0.681, 0.683\n"
     ]
    }
   ],
   "source": [
    "ss = [scores_standard, scores_pseudolabel, scores_standard_clf, scores_tagging_clf]\n",
    "for sss in ss:\n",
    "    print(f'{np.max(sss):.3f}, {xx[np.argmax(sss)]}, {sss[8]:.3f}, {sss[10]:.3f}')"
   ]
  },
  {
   "cell_type": "markdown",
   "metadata": {},
   "source": [
    "#### standard deviation of score"
   ]
  },
  {
   "cell_type": "code",
   "execution_count": 233,
   "metadata": {},
   "outputs": [
    {
     "name": "stdout",
     "output_type": "stream",
     "text": [
      "0.6682946286098522\n"
     ]
    }
   ],
   "source": [
    "threshold = 0.5\n",
    "preds = []\n",
    "for text, pr in zip(final_test.text, pred.predictions):\n",
    "    proba = np.exp(pr[pr[:, 0]!=-100])\n",
    "    proba /= proba.sum(axis=1, keepdims=True)\n",
    "    labels = (proba[:, 1] >= threshold).astype(int).tolist()\n",
    "    preds.append(labels2spans(text, labels, tokenizer))\n",
    "ff = [f1(p, y) for p, y in zip(preds, final_test.spans)]\n",
    "score = np.mean(ff)\n",
    "print(score)"
   ]
  },
  {
   "cell_type": "code",
   "execution_count": 243,
   "metadata": {},
   "outputs": [
    {
     "name": "stdout",
     "output_type": "stream",
     "text": [
      "0.6506454922132865 0.685943765006418\n"
     ]
    }
   ],
   "source": [
    "se = np.std(ff) / np.sqrt(len(ff)) * 1.96\n",
    "print(score - se, score + se)"
   ]
  },
  {
   "cell_type": "code",
   "execution_count": 246,
   "metadata": {},
   "outputs": [
    {
     "data": {
      "text/plain": [
       "0.009004661426819228"
      ]
     },
     "execution_count": 246,
     "metadata": {},
     "output_type": "execute_result"
    }
   ],
   "source": [
    "np.std(ff) / np.sqrt(len(ff))"
   ]
  },
  {
   "cell_type": "code",
   "execution_count": null,
   "metadata": {},
   "outputs": [],
   "source": []
  }
 ],
 "metadata": {
  "kernelspec": {
   "display_name": "p3k",
   "language": "python",
   "name": "p3k"
  },
  "language_info": {
   "codemirror_mode": {
    "name": "ipython",
    "version": 3
   },
   "file_extension": ".py",
   "mimetype": "text/x-python",
   "name": "python",
   "nbconvert_exporter": "python",
   "pygments_lexer": "ipython3",
   "version": "3.7.4"
  }
 },
 "nbformat": 4,
 "nbformat_minor": 4
}
