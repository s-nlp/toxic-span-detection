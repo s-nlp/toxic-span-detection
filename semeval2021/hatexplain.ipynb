{
 "cells": [
  {
   "cell_type": "markdown",
   "metadata": {},
   "source": [
    "https://github.com/punyajoy/HateXplain/blob/master/Data/dataset.json\n",
    "\n",
    "https://arxiv.org/pdf/2012.10289.pdf"
   ]
  },
  {
   "cell_type": "code",
   "execution_count": 1,
   "metadata": {},
   "outputs": [],
   "source": [
    "import json"
   ]
  },
  {
   "cell_type": "code",
   "execution_count": 2,
   "metadata": {},
   "outputs": [],
   "source": [
    "with open('data/hatexplain_dataset.json', 'r') as f:\n",
    "    he = json.load(f)"
   ]
  },
  {
   "cell_type": "code",
   "execution_count": 8,
   "metadata": {},
   "outputs": [],
   "source": [
    "import pandas as pd"
   ]
  },
  {
   "cell_type": "code",
   "execution_count": 16,
   "metadata": {},
   "outputs": [
    {
     "data": {
      "text/plain": [
       "(20148, 4)"
      ]
     },
     "execution_count": 16,
     "metadata": {},
     "output_type": "execute_result"
    }
   ],
   "source": [
    "df = pd.DataFrame.from_dict(he, orient='index')\n",
    "df.shape"
   ]
  },
  {
   "cell_type": "code",
   "execution_count": 22,
   "metadata": {},
   "outputs": [
    {
     "data": {
      "text/plain": [
       "post_id                                              2977535_gab\n",
       "annotators     [{'label': 'normal', 'annotator_id': 208, 'tar...\n",
       "rationales     [[0, 0, 0, 0, 1, 0, 1, 1, 1, 1, 1, 1, 1, 1, 0,...\n",
       "post_tokens    [<user>, maybe, you, meant, muslims, because, ...\n",
       "text           <user> maybe you meant muslims because arab is...\n",
       "Name: 2977535_gab, dtype: object"
      ]
     },
     "execution_count": 22,
     "metadata": {},
     "output_type": "execute_result"
    }
   ],
   "source": [
    "row = df.sample(1).iloc[0]\n",
    "row"
   ]
  },
  {
   "cell_type": "code",
   "execution_count": 24,
   "metadata": {},
   "outputs": [
    {
     "data": {
      "text/plain": [
       "[{'label': 'normal', 'annotator_id': 208, 'target': ['Islam', 'Jewish']},\n",
       " {'label': 'offensive',\n",
       "  'annotator_id': 227,\n",
       "  'target': ['Arab', 'Islam', 'Jewish']},\n",
       " {'label': 'offensive', 'annotator_id': 228, 'target': ['Jewish']}]"
      ]
     },
     "execution_count": 24,
     "metadata": {},
     "output_type": "execute_result"
    }
   ],
   "source": [
    "row.annotators"
   ]
  },
  {
   "cell_type": "code",
   "execution_count": 18,
   "metadata": {},
   "outputs": [],
   "source": [
    "df['text'] = df.post_tokens.apply(lambda x: ' '.join(x))"
   ]
  },
  {
   "cell_type": "code",
   "execution_count": 26,
   "metadata": {},
   "outputs": [
    {
     "data": {
      "text/plain": [
       "[('normal', 24449), ('hatespeech', 18070), ('offensive', 17925)]"
      ]
     },
     "execution_count": 26,
     "metadata": {},
     "output_type": "execute_result"
    }
   ],
   "source": [
    "from collections import Counter\n",
    "c = Counter(a['label'] for an in df.annotators for a in an )\n",
    "c.most_common()"
   ]
  },
  {
   "cell_type": "code",
   "execution_count": 27,
   "metadata": {},
   "outputs": [
    {
     "data": {
      "text/plain": [
       "count    20148.0\n",
       "mean         3.0\n",
       "std          0.0\n",
       "min          3.0\n",
       "25%          3.0\n",
       "50%          3.0\n",
       "75%          3.0\n",
       "max          3.0\n",
       "Name: annotators, dtype: float64"
      ]
     },
     "execution_count": 27,
     "metadata": {},
     "output_type": "execute_result"
    }
   ],
   "source": [
    "df.annotators.apply(len).describe()"
   ]
  },
  {
   "cell_type": "code",
   "execution_count": 40,
   "metadata": {},
   "outputs": [
    {
     "data": {
      "text/plain": [
       "0    8733\n",
       "2    7025\n",
       "3    4390\n",
       "Name: rationales, dtype: int64"
      ]
     },
     "execution_count": 40,
     "metadata": {},
     "output_type": "execute_result"
    }
   ],
   "source": [
    "df.rationales.apply(len).value_counts()"
   ]
  },
  {
   "cell_type": "code",
   "execution_count": 33,
   "metadata": {},
   "outputs": [
    {
     "data": {
      "text/plain": [
       "1    12334\n",
       "0     7814\n",
       "Name: label, dtype: int64"
      ]
     },
     "execution_count": 33,
     "metadata": {},
     "output_type": "execute_result"
    }
   ],
   "source": [
    "def choose_label(annotators):\n",
    "    n =  sum(1 for a in annotators if a['label'] == 'normal')\n",
    "    return 0 if n > 1 else 1\n",
    "\n",
    "df['label'] = df.annotators.apply(choose_label)\n",
    "df.label.value_counts()"
   ]
  },
  {
   "cell_type": "code",
   "execution_count": null,
   "metadata": {},
   "outputs": [],
   "source": [
    "def choose_token_labels(annotators)"
   ]
  },
  {
   "cell_type": "code",
   "execution_count": 42,
   "metadata": {},
   "outputs": [],
   "source": [
    "pd.options.display.max_colwidth = 200"
   ]
  },
  {
   "cell_type": "code",
   "execution_count": 43,
   "metadata": {},
   "outputs": [
    {
     "data": {
      "text/html": [
       "<div>\n",
       "<style scoped>\n",
       "    .dataframe tbody tr th:only-of-type {\n",
       "        vertical-align: middle;\n",
       "    }\n",
       "\n",
       "    .dataframe tbody tr th {\n",
       "        vertical-align: top;\n",
       "    }\n",
       "\n",
       "    .dataframe thead th {\n",
       "        text-align: right;\n",
       "    }\n",
       "</style>\n",
       "<table border=\"1\" class=\"dataframe\">\n",
       "  <thead>\n",
       "    <tr style=\"text-align: right;\">\n",
       "      <th></th>\n",
       "      <th>post_id</th>\n",
       "      <th>annotators</th>\n",
       "      <th>rationales</th>\n",
       "      <th>post_tokens</th>\n",
       "      <th>text</th>\n",
       "      <th>label</th>\n",
       "    </tr>\n",
       "  </thead>\n",
       "  <tbody>\n",
       "    <tr>\n",
       "      <th>1178946632106348544_twitter</th>\n",
       "      <td>1178946632106348544_twitter</td>\n",
       "      <td>[{'label': 'normal', 'annotator_id': 10, 'target': ['None']}, {'label': 'normal', 'annotator_id': 9, 'target': ['None']}, {'label': 'normal', 'annotator_id': 1, 'target': ['None']}]</td>\n",
       "      <td>[]</td>\n",
       "      <td>[&lt;user&gt;, labour, stands, as, a, proud, ally, against, racism, as, long, as, you, are, not, a, little, girl, being, groomed, and, raped, by, old, asian, men, jewish, white, working, class, trying, ...</td>\n",
       "      <td>&lt;user&gt; labour stands as a proud ally against racism as long as you are not a little girl being groomed and raped by old asian men jewish white working class trying to earn a crust</td>\n",
       "      <td>0</td>\n",
       "    </tr>\n",
       "    <tr>\n",
       "      <th>1264078467122868225_twitter</th>\n",
       "      <td>1264078467122868225_twitter</td>\n",
       "      <td>[{'label': 'normal', 'annotator_id': 214, 'target': ['None']}, {'label': 'normal', 'annotator_id': 211, 'target': ['None']}, {'label': 'offensive', 'annotator_id': 209, 'target': ['None']}]</td>\n",
       "      <td>[]</td>\n",
       "      <td>[&lt;user&gt;, &lt;user&gt;, which, has, of, course, brought, her, into, extremely, close, peoximity, to, nazi, shit]</td>\n",
       "      <td>&lt;user&gt; &lt;user&gt; which has of course brought her into extremely close peoximity to nazi shit</td>\n",
       "      <td>0</td>\n",
       "    </tr>\n",
       "    <tr>\n",
       "      <th>10372292_gab</th>\n",
       "      <td>10372292_gab</td>\n",
       "      <td>[{'label': 'hatespeech', 'annotator_id': 61, 'target': ['Asian']}, {'label': 'normal', 'annotator_id': 9, 'target': ['None']}, {'label': 'normal', 'annotator_id': 15, 'target': ['None']}]</td>\n",
       "      <td>[]</td>\n",
       "      <td>[becasue, pakis, and, russians, work, cheaper, and, are, indentured, servants, due, to, h1b, status, rules, so, they, must, do, as, you, say, or, they, are, deported]</td>\n",
       "      <td>becasue pakis and russians work cheaper and are indentured servants due to h1b status rules so they must do as you say or they are deported</td>\n",
       "      <td>0</td>\n",
       "    </tr>\n",
       "  </tbody>\n",
       "</table>\n",
       "</div>"
      ],
      "text/plain": [
       "                                                 post_id  \\\n",
       "1178946632106348544_twitter  1178946632106348544_twitter   \n",
       "1264078467122868225_twitter  1264078467122868225_twitter   \n",
       "10372292_gab                                10372292_gab   \n",
       "\n",
       "                                                                                                                                                                                                                annotators  \\\n",
       "1178946632106348544_twitter          [{'label': 'normal', 'annotator_id': 10, 'target': ['None']}, {'label': 'normal', 'annotator_id': 9, 'target': ['None']}, {'label': 'normal', 'annotator_id': 1, 'target': ['None']}]   \n",
       "1264078467122868225_twitter  [{'label': 'normal', 'annotator_id': 214, 'target': ['None']}, {'label': 'normal', 'annotator_id': 211, 'target': ['None']}, {'label': 'offensive', 'annotator_id': 209, 'target': ['None']}]   \n",
       "10372292_gab                   [{'label': 'hatespeech', 'annotator_id': 61, 'target': ['Asian']}, {'label': 'normal', 'annotator_id': 9, 'target': ['None']}, {'label': 'normal', 'annotator_id': 15, 'target': ['None']}]   \n",
       "\n",
       "                            rationales  \\\n",
       "1178946632106348544_twitter         []   \n",
       "1264078467122868225_twitter         []   \n",
       "10372292_gab                        []   \n",
       "\n",
       "                                                                                                                                                                                                                         post_tokens  \\\n",
       "1178946632106348544_twitter  [<user>, labour, stands, as, a, proud, ally, against, racism, as, long, as, you, are, not, a, little, girl, being, groomed, and, raped, by, old, asian, men, jewish, white, working, class, trying, ...   \n",
       "1264078467122868225_twitter                                                                                                [<user>, <user>, which, has, of, course, brought, her, into, extremely, close, peoximity, to, nazi, shit]   \n",
       "10372292_gab                                                  [becasue, pakis, and, russians, work, cheaper, and, are, indentured, servants, due, to, h1b, status, rules, so, they, must, do, as, you, say, or, they, are, deported]   \n",
       "\n",
       "                                                                                                                                                                                                            text  \\\n",
       "1178946632106348544_twitter  <user> labour stands as a proud ally against racism as long as you are not a little girl being groomed and raped by old asian men jewish white working class trying to earn a crust   \n",
       "1264078467122868225_twitter                                                                                            <user> <user> which has of course brought her into extremely close peoximity to nazi shit   \n",
       "10372292_gab                                                         becasue pakis and russians work cheaper and are indentured servants due to h1b status rules so they must do as you say or they are deported   \n",
       "\n",
       "                             label  \n",
       "1178946632106348544_twitter      0  \n",
       "1264078467122868225_twitter      0  \n",
       "10372292_gab                     0  "
      ]
     },
     "execution_count": 43,
     "metadata": {},
     "output_type": "execute_result"
    }
   ],
   "source": [
    "df[df['rationales'].apply(len)==0].sample(3)"
   ]
  },
  {
   "cell_type": "code",
   "execution_count": 38,
   "metadata": {},
   "outputs": [
    {
     "data": {
      "text/plain": [
       "[(0, 0),\n",
       " (0, 1),\n",
       " (0, 1),\n",
       " (0, 1),\n",
       " (1, 1),\n",
       " (0, 1),\n",
       " (1, 1),\n",
       " (1, 1),\n",
       " (1, 1),\n",
       " (1, 1),\n",
       " (1, 1),\n",
       " (1, 1),\n",
       " (1, 1),\n",
       " (1, 1),\n",
       " (0, 1),\n",
       " (0, 1),\n",
       " (0, 1),\n",
       " (0, 1),\n",
       " (0, 1),\n",
       " (0, 1),\n",
       " (0, 1),\n",
       " (0, 1),\n",
       " (0, 1),\n",
       " (0, 1),\n",
       " (0, 1),\n",
       " (0, 1),\n",
       " (0, 1),\n",
       " (0, 1),\n",
       " (0, 1),\n",
       " (0, 1),\n",
       " (0, 1),\n",
       " (0, 1),\n",
       " (0, 1),\n",
       " (0, 1),\n",
       " (0, 1),\n",
       " (0, 1),\n",
       " (0, 1),\n",
       " (0, 1),\n",
       " (0, 1),\n",
       " (0, 1),\n",
       " (0, 1),\n",
       " (1, 1),\n",
       " (1, 1),\n",
       " (1, 1)]"
      ]
     },
     "execution_count": 38,
     "metadata": {},
     "output_type": "execute_result"
    }
   ],
   "source": [
    "list(zip(*row['rationales']))"
   ]
  },
  {
   "cell_type": "code",
   "execution_count": null,
   "metadata": {},
   "outputs": [],
   "source": []
  }
 ],
 "metadata": {
  "kernelspec": {
   "display_name": "p3k",
   "language": "python",
   "name": "p3k"
  },
  "language_info": {
   "codemirror_mode": {
    "name": "ipython",
    "version": 3
   },
   "file_extension": ".py",
   "mimetype": "text/x-python",
   "name": "python",
   "nbconvert_exporter": "python",
   "pygments_lexer": "ipython3",
   "version": "3.7.4"
  }
 },
 "nbformat": 4,
 "nbformat_minor": 4
}
